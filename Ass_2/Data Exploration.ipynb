{
 "cells": [
  {
   "cell_type": "code",
   "execution_count": 90,
   "metadata": {
    "collapsed": true
   },
   "outputs": [],
   "source": [
    "from data_loader import data_reader, colnames, colnames_bid\n",
    "from matplotlib import pyplot as plt\n",
    "import math\n",
    "import pandas as pd"
   ]
  },
  {
   "cell_type": "code",
   "execution_count": 91,
   "metadata": {},
   "outputs": [],
   "source": [
    "#DONT FORGET TO LOAD THAT OTHER FUCKING DATASET, I KNOW YOU ARE LAZY\n",
    "# BUT JUST DONT FORGET IT\n",
    "# YEAH, SURE, NO PROBLEM\n",
    "# YOU CAN DO IT LATER\n",
    "# JUST DONT FORGET IT\n",
    "\n",
    "imp = data_reader('data\\\\imp.20131020.txt', colnames, \n",
    "                verbose=False, fuck_parsing=True)\n",
    "bid = data_reader('data\\\\bid.20131020.txt', colnames_bid, verbose=False, fuck_parsing=True)\n",
    "clk = data_reader('data\\\\clk.20131020.txt', colnames, verbose=False, fuck_parsing=True)\n",
    "conv = data_reader('data\\\\conv.20131020.txt', colnames, verbose=False, fuck_parsing=True)\n"
   ]
  },
  {
   "cell_type": "code",
   "execution_count": 92,
   "metadata": {},
   "outputs": [],
   "source": [
    "bid_rel = bid[['bid_id', 'timestamp']]\n",
    "imp_rel = imp[['bid_id', 'paying_price']]\n",
    "# clk_rel = clk[['bid_id', 'paying_price']]\n",
    "# conv_rel = conv[['bid_id', 'paying_price']]\n",
    "bids = bid_rel.merge(imp_rel,how='left', on='bid_id').sort_values('timestamp')\n",
    "bids['not_bought'] = [math.isnan(price) for price in bids.paying_price]\n",
    "bids.paying_price = bids.paying_price.fillna(0)"
   ]
  },
  {
   "cell_type": "code",
   "execution_count": 101,
   "metadata": {
    "scrolled": true
   },
   "outputs": [],
   "source": [
    "G = 1e5 / 2\n",
    "B = 6e6 / 2\n",
    "target_price =  B/G\n",
    "# bids_subset = bids.iloc[:10000, :]\n",
    "# N = bids_subset.shape[0]\n",
    "# share_exploration = 0.01\n",
    "# this_many = int(share_exploration * N)\n",
    "# bids_explore = bids_subset.iloc[:this_many, :]\n",
    "# bids_exploit = bids_subset.iloc[this_many:, :]\n",
    "\n",
    "\n",
    "def split_explore_exploit(bids, share_exploration):\n",
    "    N = bids.shape[0]\n",
    "    this_many = int(share_exploration * N)\n",
    "    bids_explore = bids.iloc[:this_many, :]\n",
    "    bids_exploit = bids.iloc[this_many:, :]\n",
    "    return bids_explore, bids_exploit"
   ]
  },
  {
   "cell_type": "code",
   "execution_count": 104,
   "metadata": {
    "scrolled": true
   },
   "outputs": [
    {
     "name": "stdout",
     "output_type": "stream",
     "text": [
      "(3271, 4)\n",
      "(323832, 4)\n",
      "19600.0\n",
      "20300.0\n",
      "19900.0\n",
      "19900.0\n",
      "22600.0\n",
      "20800.0\n",
      "19600.0\n",
      "19000.0\n",
      "18200.0\n",
      "18000.0\n"
     ]
    },
    {
     "data": {
      "text/plain": [
       "50000.0"
      ]
     },
     "execution_count": 104,
     "metadata": {},
     "output_type": "execute_result"
    }
   ],
   "source": [
    "share_exploration = 0.01\n",
    "bids_explore, bids_exploit = split_explore_exploit(bids, share_exploration)\n",
    "\n",
    "print(bids_explore.shape)\n",
    "print(bids_exploit.shape)\n",
    "\n",
    "def explore(bids_explore, target_price, rounds=10):\n",
    "    N = bids_explore.shape[0]\n",
    "    step = int(N / rounds)\n",
    "    start = 0\n",
    "    stop = step\n",
    "    for round in range(rounds):\n",
    "        won = 0\n",
    "        cost = 0\n",
    "        for index, bid in bids_explore \\\n",
    "                            .iloc[start:stop, :] \\\n",
    "                            .iterrows():\n",
    "            if target_price > bid.paying_price:\n",
    "                won += 1\n",
    "                cost += bid.paying_price\n",
    "        winrate = won / step\n",
    "        exp_views = won / share_exploration\n",
    "        \n",
    "        if  (exp_views < G) and :\n",
    "            target_price = target_price * 2\n",
    "\n",
    "        start += step\n",
    "        stop += step\n",
    "\n",
    "explore(bids_explore, target_price)\n",
    "G"
   ]
  },
  {
   "cell_type": "code",
   "execution_count": 100,
   "metadata": {},
   "outputs": [
    {
     "data": {
      "text/plain": [
       "(327103, 4)"
      ]
     },
     "execution_count": 100,
     "metadata": {},
     "output_type": "execute_result"
    }
   ],
   "source": []
  }
 ],
 "metadata": {
  "kernelspec": {
   "display_name": "Python 3",
   "language": "python",
   "name": "python3"
  },
  "language_info": {
   "codemirror_mode": {
    "name": "ipython",
    "version": 3
   },
   "file_extension": ".py",
   "mimetype": "text/x-python",
   "name": "python",
   "nbconvert_exporter": "python",
   "pygments_lexer": "ipython3",
   "version": "3.6.3"
  }
 },
 "nbformat": 4,
 "nbformat_minor": 2
}
