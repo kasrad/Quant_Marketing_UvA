{
 "cells": [
  {
   "cell_type": "code",
   "execution_count": 2,
   "metadata": {
    "collapsed": true
   },
   "outputs": [],
   "source": [
    "from data_loader import data_reader, colnames, colnames_bid\n",
    "#from inverse_cdf import inverse\n",
    "from matplotlib import pyplot as plt\n",
    "import math\n",
    "import pandas as pd\n",
    "import numpy as np"
   ]
  },
  {
   "cell_type": "code",
   "execution_count": 3,
   "metadata": {
    "collapsed": true
   },
   "outputs": [],
   "source": [
    "imp_19 = data_reader('data\\\\imp.20131019.txt', colnames, \n",
    "                verbose=False, fuck_parsing=True)\n",
    "bid_19 = data_reader('data\\\\bid.20131019.txt', colnames_bid, verbose=False, fuck_parsing=True)\n",
    "clk_19 = data_reader('data\\\\clk.20131019.txt', colnames, verbose=False, fuck_parsing=True)\n",
    "conv_19 = data_reader('data\\\\conv.20131019.txt', colnames, verbose=False, fuck_parsing=True)\n",
    "\n",
    "\n",
    "imp_20 = data_reader('data\\\\imp.20131020.txt', colnames, \n",
    "                verbose=False, fuck_parsing=True)\n",
    "bid_20 = data_reader('data\\\\bid.20131020.txt', colnames_bid, verbose=False, fuck_parsing=True)\n",
    "clk_20 = data_reader('data\\\\clk.20131020.txt', colnames, verbose=False, fuck_parsing=True)\n",
    "conv_20 = data_reader('data\\\\conv.20131020.txt', colnames, verbose=False, fuck_parsing=True)"
   ]
  },
  {
   "cell_type": "code",
   "execution_count": 4,
   "metadata": {
    "collapsed": true
   },
   "outputs": [],
   "source": [
    "imp = imp_19.append(imp_20, ignore_index=True)\n",
    "bid = bid_19.append(bid_20, ignore_index=True)\n",
    "clk = clk_19.append(clk_20, ignore_index=True)\n",
    "conv = conv_19.append(conv_20, ignore_index=True)"
   ]
  },
  {
   "cell_type": "code",
   "execution_count": 21,
   "metadata": {},
   "outputs": [
    {
     "data": {
      "text/plain": [
       "True"
      ]
     },
     "execution_count": 21,
     "metadata": {},
     "output_type": "execute_result"
    }
   ],
   "source": [
    "imp.shape[0] == imp_19.shape[0] + imp_20.shape[0] and \\\n",
    "bid.shape[0] == bid_19.shape[0] + bid_20.shape[0] and \\\n",
    "clk.shape[0] == clk_19.shape[0] + clk_20.shape[0] and \\\n",
    "conv.shape[0] == conv_19.shape[0] + conv_20.shape[0]"
   ]
  },
  {
   "cell_type": "code",
   "execution_count": 7,
   "metadata": {
    "collapsed": true
   },
   "outputs": [],
   "source": [
    "bid_rel = bid[['bid_id', 'timestamp']]\n",
    "imp_rel = imp[['bid_id', 'paying_price']]\n",
    "# clk_rel = clk[['bid_id', 'paying_price']]\n",
    "# conv_rel = conv[['bid_id', 'paying_price']]\n",
    "bids = bid_rel.merge(imp_rel,how='left', on='bid_id').sort_values('timestamp')\n",
    "bids['not_bought'] = [math.isnan(price) for price in bids.paying_price]\n",
    "# bids.paying_price = bids.paying_price.fillna(0)\n",
    "bids = bids.dropna()"
   ]
  },
  {
   "cell_type": "code",
   "execution_count": 14,
   "metadata": {
    "scrolled": true
   },
   "outputs": [
    {
     "name": "stdout",
     "output_type": "stream",
     "text": [
      "(442, 4)\n",
      "60.0\n",
      "0.22602547759183414\n"
     ]
    }
   ],
   "source": [
    "def split_explore_exploit(bids, share_exploration):\n",
    "    N = bids.shape[0]\n",
    "    this_many = int(share_exploration * N)\n",
    "    bids_explore = bids.iloc[:this_many, :]\n",
    "    bids_exploit = bids.iloc[this_many:, :]\n",
    "    return bids_explore, bids_exploit, N\n",
    "\n",
    "share_exploration = 0.001\n",
    "bids_explore, bids_exploit, N = split_explore_exploit(bids, share_exploration)\n",
    "\n",
    "G = 1e5\n",
    "B = 6e6\n",
    "target_price =  B / G\n",
    "target_winrate = G / N\n",
    "\n",
    "\n",
    "\n",
    "\n",
    "print(bids_explore.shape)\n",
    "print(target_price)\n",
    "print(target_winrate)"
   ]
  },
  {
   "cell_type": "code",
   "execution_count": 36,
   "metadata": {
    "collapsed": true,
    "scrolled": false
   },
   "outputs": [],
   "source": [
    "def explore(bids_explore, target_price, N, rounds=5, plot_win_fct=False):\n",
    "    bid_price = target_price\n",
    "    N_expl = bids_explore.shape[0]\n",
    "    step = int(N_expl / rounds)\n",
    "    start = 0\n",
    "    stop = step\n",
    "    for round in range(rounds):\n",
    "        won = 0\n",
    "        cost = 0\n",
    "        winning_prices = [np.nan] * step\n",
    "        index=0\n",
    "        for _, bid in bids_explore \\\n",
    "                            .iloc[start:stop, :] \\\n",
    "                            .iterrows():\n",
    "            if bid_price > bid.paying_price:\n",
    "                won += 1\n",
    "                cost += bid.paying_price\n",
    "                winning_prices[index] = bid.paying_price\n",
    "            index += 1\n",
    "        if plot_win_fct:\n",
    "            sorted_data = np.sort(winning_prices)\n",
    "            yvals = np.arange(step) / float(step-1) #len(winning_prices) = step\n",
    "            plt.plot(sorted_data, yvals)\n",
    "            plt.show()\n",
    "        winrate = won / step\n",
    "        price = cost / won\n",
    "        exp_views = N * winrate\n",
    "#         exp_price = cost / step #preco?\n",
    "        \n",
    "        if  (exp_views < G) or (price < target_price):\n",
    "            bid_price = bid_price * 2\n",
    "            print(winrate)\n",
    "            print(price)\n",
    "            print('doubling')\n",
    "        else:\n",
    "            print('breaking in round %s' % (round + 1))\n",
    "            print('winrate: %.2f' % winrate)\n",
    "            print('E(views): %.2f > target_views %.2f' % \\\n",
    "                  (exp_views, G))\n",
    "            print('E(price): %.2f > target_price %.2f' % \\\n",
    "                  (price, target_price))\n",
    "            break\n",
    "        start += step\n",
    "        stop += step\n",
    "        \n",
    "    winning_prices.sort()\n",
    "    yvalues = np.arange(len(winning_prices)) / float(len(winning_prices)-1)\n",
    "\n",
    "    cdf = pd.DataFrame({'price' : winning_prices, \n",
    "                        'value' : yvalues})\n",
    "    return cdf\n",
    "\n",
    "\n",
    "def exploit(cdf, target_winrate, target_price, N, G):\n",
    "    \n",
    "    idx_bG = (np.abs(cdf.value - target_winrate)).argmin()\n",
    "    b_G = cdf.price[idx_bG]\n",
    "    \n",
    "    expected_F = np.array([])\n",
    "    \n",
    "    for length in np.arange(1, cdf.shape[0]):\n",
    "        subset = cdf.price[:length]\n",
    "        probability = 1 / subset.size\n",
    "        expected_F = np.append(expected_F, np.nansum(subset) * probability)\n",
    "        \n",
    "    idx_bB = (np.abs(expected_F - target_price)).argmin()\n",
    "    b_B = cdf.price[idx_bB]\n",
    "    probability_b_B = G / (N * cdf.value[idx_bB])\n",
    "    \n",
    "    bid_price = b_B if np.random.uniform(0, 1, 1) < probability_b_B and b_G <= b_B else b_G\n",
    "    \n",
    "    return bid_price, b_G, b_B, probability_b_B, idx_bG"
   ]
  },
  {
   "cell_type": "code",
   "execution_count": 37,
   "metadata": {
    "scrolled": false
   },
   "outputs": [
    {
     "data": {
      "image/png": "[encoded data removed]",
      "text/plain": [
       "<matplotlib.figure.Figure at 0x24e6131fbe0>"
      ]
     },
     "metadata": {},
     "output_type": "display_data"
    },
    {
     "name": "stdout",
     "output_type": "stream",
     "text": [
      "0.3181818181818182\n",
      "27.214285714285715\n",
      "doubling\n"
     ]
    },
    {
     "data": {
      "image/png": "[encoded data removed]",
      "text/plain": [
       "<matplotlib.figure.Figure at 0x24e6135a748>"
      ]
     },
     "metadata": {},
     "output_type": "display_data"
    },
    {
     "name": "stdout",
     "output_type": "stream",
     "text": [
      "0.7045454545454546\n",
      "51.24193548387097\n",
      "doubling\n"
     ]
    },
    {
     "data": {
      "image/png": "[encoded data removed]",
      "text/plain": [
       "<matplotlib.figure.Figure at 0x24e5a0a67b8>"
      ]
     },
     "metadata": {},
     "output_type": "display_data"
    },
    {
     "name": "stdout",
     "output_type": "stream",
     "text": [
      "breaking in round 3\n",
      "winrate: 0.95\n",
      "E(views): 422317.64 > target_views 100000.00\n",
      "E(price): 79.00 > target_price 60.00\n"
     ]
    }
   ],
   "source": [
    "abc = explore(bids_explore, target_price, N, rounds=5, plot_win_fct=True)"
   ]
  },
  {
   "cell_type": "code",
   "execution_count": 38,
   "metadata": {},
   "outputs": [
    {
     "name": "stderr",
     "output_type": "stream",
     "text": [
      "C:\\Users\\Samuel\\Anaconda3\\lib\\site-packages\\ipykernel_launcher.py:52: FutureWarning: 'argmin' is deprecated. Use 'idxmin' instead. The behavior of 'argmin' will be corrected to return the positional minimum in the future. Use 'series.values.argmin' to get the position of the minimum now.\n"
     ]
    },
    {
     "data": {
      "text/plain": [
       "(67.0, 67.0, 138.0, 0.54622823751359917, 20)"
      ]
     },
     "execution_count": 38,
     "metadata": {},
     "output_type": "execute_result"
    }
   ],
   "source": [
    "exploit(abc, target_winrate, target_price, N, G)"
   ]
  },
  {
   "cell_type": "code",
   "execution_count": 39,
   "metadata": {},
   "outputs": [
    {
     "data": {
      "text/plain": [
       "array([ 1,  2,  3,  4,  5,  6,  7,  8,  9, 10, 11, 12, 13, 14, 15, 16, 17,\n",
       "       18, 19, 20, 21, 22, 23, 24, 25, 26, 27, 28, 29, 30, 31, 32, 33, 34,\n",
       "       35, 36, 37, 38, 39, 40, 41, 42, 43, 44, 45, 46, 47, 48, 49, 50, 51,\n",
       "       52, 53, 54, 55, 56, 57, 58, 59, 60, 61, 62, 63, 64, 65, 66, 67, 68,\n",
       "       69, 70, 71, 72, 73, 74, 75, 76, 77, 78, 79, 80, 81, 82, 83, 84, 85,\n",
       "       86, 87])"
      ]
     },
     "execution_count": 39,
     "metadata": {},
     "output_type": "execute_result"
    }
   ],
   "source": [
    "np.arange(1, abc.shape[0])"
   ]
  },
  {
   "cell_type": "code",
   "execution_count": 30,
   "metadata": {},
   "outputs": [
    {
     "data": {
      "text/plain": [
       "4"
      ]
     },
     "execution_count": 30,
     "metadata": {},
     "output_type": "execute_result"
    }
   ],
   "source": [
    "abc.price.isnull().sum()"
   ]
  },
  {
   "cell_type": "code",
   "execution_count": 40,
   "metadata": {},
   "outputs": [
    {
     "name": "stdout",
     "output_type": "stream",
     "text": [
      "(138.0, 67.0, 138.0, 0.54622823751359917, 20)\n",
      "(67.0, 67.0, 138.0, 0.54622823751359917, 20)\n",
      "(67.0, 67.0, 138.0, 0.54622823751359917, 20)\n",
      "(138.0, 67.0, 138.0, 0.54622823751359917, 20)\n",
      "(138.0, 67.0, 138.0, 0.54622823751359917, 20)\n",
      "(138.0, 67.0, 138.0, 0.54622823751359917, 20)\n",
      "(138.0, 67.0, 138.0, 0.54622823751359917, 20)\n",
      "(138.0, 67.0, 138.0, 0.54622823751359917, 20)\n",
      "(67.0, 67.0, 138.0, 0.54622823751359917, 20)\n",
      "(67.0, 67.0, 138.0, 0.54622823751359917, 20)\n"
     ]
    },
    {
     "name": "stderr",
     "output_type": "stream",
     "text": [
      "C:\\Users\\Samuel\\Anaconda3\\lib\\site-packages\\ipykernel_launcher.py:52: FutureWarning: 'argmin' is deprecated. Use 'idxmin' instead. The behavior of 'argmin' will be corrected to return the positional minimum in the future. Use 'series.values.argmin' to get the position of the minimum now.\n"
     ]
    }
   ],
   "source": [
    "for _ in range(10):\n",
    "    s = exploit(abc, target_winrate, target_price, N, G)\n",
    "    print(s)"
   ]
  },
  {
   "cell_type": "code",
   "execution_count": 12,
   "metadata": {},
   "outputs": [
    {
     "data": {
      "image/png": "[encoded data removed]",
      "text/plain": [
       "<matplotlib.figure.Figure at 0x133deb3fc18>"
      ]
     },
     "metadata": {},
     "output_type": "display_data"
    }
   ],
   "source": [
    "sorted_data = np.sort(abc.price)\n",
    "yvals=np.arange(len(abc))/float(len(abc)-1)\n",
    "plt.plot(sorted_data,yvals)\n",
    "plt.show()"
   ]
  },
  {
   "cell_type": "code",
   "execution_count": 16,
   "metadata": {},
   "outputs": [],
   "source": [
    "k = np.sort(abc.price)"
   ]
  },
  {
   "cell_type": "code",
   "execution_count": 63,
   "metadata": {},
   "outputs": [
    {
     "data": {
      "text/plain": [
       "2211.0"
      ]
     },
     "execution_count": 63,
     "metadata": {},
     "output_type": "execute_result"
    }
   ],
   "source": [
    "float(len(abc)-1)"
   ]
  },
  {
   "cell_type": "code",
   "execution_count": 14,
   "metadata": {},
   "outputs": [],
   "source": [
    "counts = pd.Series(sorted_data).value_counts(normalize=True, sort=False, dropna=False)\n",
    "sorted_data=pd.DataFrame(sorted_data)"
   ]
  },
  {
   "cell_type": "code",
   "execution_count": 20,
   "metadata": {
    "collapsed": true
   },
   "outputs": [
    {
     "data": {
      "text/html": [
       "<div>\n",
       "<style>\n",
       "    .dataframe thead tr:only-child th {\n",
       "        text-align: right;\n",
       "    }\n",
       "\n",
       "    .dataframe thead th {\n",
       "        text-align: left;\n",
       "    }\n",
       "\n",
       "    .dataframe tbody tr th {\n",
       "        vertical-align: top;\n",
       "    }\n",
       "</style>\n",
       "<table border=\"1\" class=\"dataframe\">\n",
       "  <thead>\n",
       "    <tr style=\"text-align: right;\">\n",
       "      <th></th>\n",
       "      <th>values</th>\n",
       "    </tr>\n",
       "  </thead>\n",
       "  <tbody>\n",
       "    <tr>\n",
       "      <th>0</th>\n",
       "      <td>2.0</td>\n",
       "    </tr>\n",
       "    <tr>\n",
       "      <th>1</th>\n",
       "      <td>2.0</td>\n",
       "    </tr>\n",
       "    <tr>\n",
       "      <th>2</th>\n",
       "      <td>2.0</td>\n",
       "    </tr>\n",
       "    <tr>\n",
       "      <th>3</th>\n",
       "      <td>4.0</td>\n",
       "    </tr>\n",
       "    <tr>\n",
       "      <th>4</th>\n",
       "      <td>4.0</td>\n",
       "    </tr>\n",
       "    <tr>\n",
       "      <th>5</th>\n",
       "      <td>4.0</td>\n",
       "    </tr>\n",
       "    <tr>\n",
       "      <th>6</th>\n",
       "      <td>4.0</td>\n",
       "    </tr>\n",
       "    <tr>\n",
       "      <th>7</th>\n",
       "      <td>4.0</td>\n",
       "    </tr>\n",
       "    <tr>\n",
       "      <th>8</th>\n",
       "      <td>4.0</td>\n",
       "    </tr>\n",
       "    <tr>\n",
       "      <th>9</th>\n",
       "      <td>4.0</td>\n",
       "    </tr>\n",
       "    <tr>\n",
       "      <th>10</th>\n",
       "      <td>4.0</td>\n",
       "    </tr>\n",
       "    <tr>\n",
       "      <th>11</th>\n",
       "      <td>4.0</td>\n",
       "    </tr>\n",
       "    <tr>\n",
       "      <th>12</th>\n",
       "      <td>5.0</td>\n",
       "    </tr>\n",
       "    <tr>\n",
       "      <th>13</th>\n",
       "      <td>5.0</td>\n",
       "    </tr>\n",
       "    <tr>\n",
       "      <th>14</th>\n",
       "      <td>5.0</td>\n",
       "    </tr>\n",
       "    <tr>\n",
       "      <th>15</th>\n",
       "      <td>5.0</td>\n",
       "    </tr>\n",
       "    <tr>\n",
       "      <th>16</th>\n",
       "      <td>5.0</td>\n",
       "    </tr>\n",
       "    <tr>\n",
       "      <th>17</th>\n",
       "      <td>5.0</td>\n",
       "    </tr>\n",
       "    <tr>\n",
       "      <th>18</th>\n",
       "      <td>5.0</td>\n",
       "    </tr>\n",
       "    <tr>\n",
       "      <th>19</th>\n",
       "      <td>5.0</td>\n",
       "    </tr>\n",
       "    <tr>\n",
       "      <th>20</th>\n",
       "      <td>5.0</td>\n",
       "    </tr>\n",
       "    <tr>\n",
       "      <th>21</th>\n",
       "      <td>5.0</td>\n",
       "    </tr>\n",
       "    <tr>\n",
       "      <th>22</th>\n",
       "      <td>5.0</td>\n",
       "    </tr>\n",
       "    <tr>\n",
       "      <th>23</th>\n",
       "      <td>5.0</td>\n",
       "    </tr>\n",
       "    <tr>\n",
       "      <th>24</th>\n",
       "      <td>5.0</td>\n",
       "    </tr>\n",
       "    <tr>\n",
       "      <th>25</th>\n",
       "      <td>5.0</td>\n",
       "    </tr>\n",
       "    <tr>\n",
       "      <th>26</th>\n",
       "      <td>5.0</td>\n",
       "    </tr>\n",
       "    <tr>\n",
       "      <th>27</th>\n",
       "      <td>5.0</td>\n",
       "    </tr>\n",
       "    <tr>\n",
       "      <th>28</th>\n",
       "      <td>5.0</td>\n",
       "    </tr>\n",
       "    <tr>\n",
       "      <th>29</th>\n",
       "      <td>5.0</td>\n",
       "    </tr>\n",
       "    <tr>\n",
       "      <th>...</th>\n",
       "      <td>...</td>\n",
       "    </tr>\n",
       "    <tr>\n",
       "      <th>2182</th>\n",
       "      <td>NaN</td>\n",
       "    </tr>\n",
       "    <tr>\n",
       "      <th>2183</th>\n",
       "      <td>NaN</td>\n",
       "    </tr>\n",
       "    <tr>\n",
       "      <th>2184</th>\n",
       "      <td>NaN</td>\n",
       "    </tr>\n",
       "    <tr>\n",
       "      <th>2185</th>\n",
       "      <td>NaN</td>\n",
       "    </tr>\n",
       "    <tr>\n",
       "      <th>2186</th>\n",
       "      <td>NaN</td>\n",
       "    </tr>\n",
       "    <tr>\n",
       "      <th>2187</th>\n",
       "      <td>NaN</td>\n",
       "    </tr>\n",
       "    <tr>\n",
       "      <th>2188</th>\n",
       "      <td>NaN</td>\n",
       "    </tr>\n",
       "    <tr>\n",
       "      <th>2189</th>\n",
       "      <td>NaN</td>\n",
       "    </tr>\n",
       "    <tr>\n",
       "      <th>2190</th>\n",
       "      <td>NaN</td>\n",
       "    </tr>\n",
       "    <tr>\n",
       "      <th>2191</th>\n",
       "      <td>NaN</td>\n",
       "    </tr>\n",
       "    <tr>\n",
       "      <th>2192</th>\n",
       "      <td>NaN</td>\n",
       "    </tr>\n",
       "    <tr>\n",
       "      <th>2193</th>\n",
       "      <td>NaN</td>\n",
       "    </tr>\n",
       "    <tr>\n",
       "      <th>2194</th>\n",
       "      <td>NaN</td>\n",
       "    </tr>\n",
       "    <tr>\n",
       "      <th>2195</th>\n",
       "      <td>NaN</td>\n",
       "    </tr>\n",
       "    <tr>\n",
       "      <th>2196</th>\n",
       "      <td>NaN</td>\n",
       "    </tr>\n",
       "    <tr>\n",
       "      <th>2197</th>\n",
       "      <td>NaN</td>\n",
       "    </tr>\n",
       "    <tr>\n",
       "      <th>2198</th>\n",
       "      <td>NaN</td>\n",
       "    </tr>\n",
       "    <tr>\n",
       "      <th>2199</th>\n",
       "      <td>NaN</td>\n",
       "    </tr>\n",
       "    <tr>\n",
       "      <th>2200</th>\n",
       "      <td>NaN</td>\n",
       "    </tr>\n",
       "    <tr>\n",
       "      <th>2201</th>\n",
       "      <td>NaN</td>\n",
       "    </tr>\n",
       "    <tr>\n",
       "      <th>2202</th>\n",
       "      <td>NaN</td>\n",
       "    </tr>\n",
       "    <tr>\n",
       "      <th>2203</th>\n",
       "      <td>NaN</td>\n",
       "    </tr>\n",
       "    <tr>\n",
       "      <th>2204</th>\n",
       "      <td>NaN</td>\n",
       "    </tr>\n",
       "    <tr>\n",
       "      <th>2205</th>\n",
       "      <td>NaN</td>\n",
       "    </tr>\n",
       "    <tr>\n",
       "      <th>2206</th>\n",
       "      <td>NaN</td>\n",
       "    </tr>\n",
       "    <tr>\n",
       "      <th>2207</th>\n",
       "      <td>NaN</td>\n",
       "    </tr>\n",
       "    <tr>\n",
       "      <th>2208</th>\n",
       "      <td>NaN</td>\n",
       "    </tr>\n",
       "    <tr>\n",
       "      <th>2209</th>\n",
       "      <td>NaN</td>\n",
       "    </tr>\n",
       "    <tr>\n",
       "      <th>2210</th>\n",
       "      <td>NaN</td>\n",
       "    </tr>\n",
       "    <tr>\n",
       "      <th>2211</th>\n",
       "      <td>NaN</td>\n",
       "    </tr>\n",
       "  </tbody>\n",
       "</table>\n",
       "<p>2212 rows × 1 columns</p>\n",
       "</div>"
      ],
      "text/plain": [
       "      values\n",
       "0        2.0\n",
       "1        2.0\n",
       "2        2.0\n",
       "3        4.0\n",
       "4        4.0\n",
       "5        4.0\n",
       "6        4.0\n",
       "7        4.0\n",
       "8        4.0\n",
       "9        4.0\n",
       "10       4.0\n",
       "11       4.0\n",
       "12       5.0\n",
       "13       5.0\n",
       "14       5.0\n",
       "15       5.0\n",
       "16       5.0\n",
       "17       5.0\n",
       "18       5.0\n",
       "19       5.0\n",
       "20       5.0\n",
       "21       5.0\n",
       "22       5.0\n",
       "23       5.0\n",
       "24       5.0\n",
       "25       5.0\n",
       "26       5.0\n",
       "27       5.0\n",
       "28       5.0\n",
       "29       5.0\n",
       "...      ...\n",
       "2182     NaN\n",
       "2183     NaN\n",
       "2184     NaN\n",
       "2185     NaN\n",
       "2186     NaN\n",
       "2187     NaN\n",
       "2188     NaN\n",
       "2189     NaN\n",
       "2190     NaN\n",
       "2191     NaN\n",
       "2192     NaN\n",
       "2193     NaN\n",
       "2194     NaN\n",
       "2195     NaN\n",
       "2196     NaN\n",
       "2197     NaN\n",
       "2198     NaN\n",
       "2199     NaN\n",
       "2200     NaN\n",
       "2201     NaN\n",
       "2202     NaN\n",
       "2203     NaN\n",
       "2204     NaN\n",
       "2205     NaN\n",
       "2206     NaN\n",
       "2207     NaN\n",
       "2208     NaN\n",
       "2209     NaN\n",
       "2210     NaN\n",
       "2211     NaN\n",
       "\n",
       "[2212 rows x 1 columns]"
      ]
     },
     "execution_count": 20,
     "metadata": {},
     "output_type": "execute_result"
    }
   ],
   "source": [
    "sorted_data.columns = ['values']\n"
   ]
  },
  {
   "cell_type": "code",
   "execution_count": 16,
   "metadata": {
    "collapsed": true
   },
   "outputs": [],
   "source": [
    "\n",
    "counts=pd.DataFrame(counts)\n",
    "for_b_B = sorted_data.merge(counts, left_on='values', right_index=True)"
   ]
  },
  {
   "cell_type": "code",
   "execution_count": 17,
   "metadata": {
    "collapsed": true
   },
   "outputs": [],
   "source": [
    "for_b_B.columns = ['vals', 'freq']"
   ]
  },
  {
   "cell_type": "code",
   "execution_count": 18,
   "metadata": {
    "collapsed": true
   },
   "outputs": [
    {
     "data": {
      "text/plain": [
       "45"
      ]
     },
     "execution_count": 18,
     "metadata": {},
     "output_type": "execute_result"
    }
   ],
   "source": [
    "for_b_B.vals.isnull().sum()"
   ]
  },
  {
   "cell_type": "code",
   "execution_count": 70,
   "metadata": {},
   "outputs": [
    {
     "name": "stdout",
     "output_type": "stream",
     "text": [
      "66.83634719710672\n",
      "freq    0.000904\n",
      "Name: 202.0, dtype: float64\n"
     ]
    }
   ],
   "source": [
    "d = for_b_B.groupby('vals').mean()\n",
    "\n",
    "for i in np.arange(1, d.shape[0]):\n",
    "    cumsum = sum(d.iloc[:i, :].index * d.iloc[:i, :].freq)\n",
    "#     print(cumsum)\n",
    "    if cumsum > target_price:\n",
    "        print(cumsum)\n",
    "        print(d.iloc[i, :])\n",
    "        break"
   ]
  }
 ],
 "metadata": {
  "kernelspec": {
   "display_name": "Python 3",
   "language": "python",
   "name": "python3"
  },
  "language_info": {
   "codemirror_mode": {
    "name": "ipython",
    "version": 3
   },
   "file_extension": ".py",
   "mimetype": "text/x-python",
   "name": "python",
   "nbconvert_exporter": "python",
   "pygments_lexer": "ipython3",
   "version": "3.6.4"
  }
 },
 "nbformat": 4,
 "nbformat_minor": 2
}
