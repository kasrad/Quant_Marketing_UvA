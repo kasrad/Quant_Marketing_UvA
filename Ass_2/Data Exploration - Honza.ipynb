{
 "cells": [
  {
   "cell_type": "code",
   "execution_count": 1,
   "metadata": {
    "collapsed": true
   },
   "outputs": [],
   "source": [
    "from data_loader import data_reader, colnames, colnames_bid\n",
    "#from inverse_cdf import inverse\n",
    "from matplotlib import pyplot as plt\n",
    "import math\n",
    "import pandas as pd\n",
    "import numpy as np"
   ]
  },
  {
   "cell_type": "code",
   "execution_count": 2,
   "metadata": {
    "collapsed": true
   },
   "outputs": [],
   "source": [
    "imp_19 = data_reader('data\\\\imp.20131019.txt', colnames, \n",
    "                verbose=False, fuck_parsing=True)\n",
    "bid_19 = data_reader('data\\\\bid.20131019.txt', colnames_bid, verbose=False, fuck_parsing=True)\n",
    "# clk_19 = data_reader('data\\\\clk.20131019.txt', colnames, verbose=False, fuck_parsing=True)\n",
    "# conv_19 = data_reader('data\\\\conv.20131019.txt', colnames, verbose=False, fuck_parsing=True)\n",
    "\n",
    "\n",
    "imp_20 = data_reader('data\\\\imp.20131020.txt', colnames, \n",
    "                verbose=False, fuck_parsing=True)\n",
    "bid_20 = data_reader('data\\\\bid.20131020.txt', colnames_bid, verbose=False, fuck_parsing=True)\n",
    "# clk_20 = data_reader('data\\\\clk.20131020.txt', colnames, verbose=False, fuck_parsing=True)\n",
    "# conv_20 = data_reader('data\\\\conv.20131020.txt', colnames, verbose=False, fuck_parsing=True)"
   ]
  },
  {
   "cell_type": "code",
   "execution_count": 16,
   "metadata": {
    "collapsed": true
   },
   "outputs": [],
   "source": [
    "imp = imp_19.append(imp_20, ignore_index=True)\n",
    "bid = bid_19.append(bid_20, ignore_index=True)\n",
    "# clk = clk_19.append(clk_20, ignore_index=True)\n",
    "# conv = conv_19.append(conv_20, ignore_index=True)"
   ]
  },
  {
   "cell_type": "code",
   "execution_count": 17,
   "metadata": {},
   "outputs": [
    {
     "data": {
      "text/plain": [
       "True"
      ]
     },
     "execution_count": 17,
     "metadata": {},
     "output_type": "execute_result"
    }
   ],
   "source": [
    "imp.shape[0] == imp_19.shape[0] + imp_20.shape[0] and \\\n",
    "bid.shape[0] == bid_19.shape[0] + bid_20.shape[0] # and \\\n",
    "# clk.shape[0] == clk_19.shape[0] + clk_20.shape[0] and \\\n",
    "# conv.shape[0] == conv_19.shape[0] + conv_20.shape[0]"
   ]
  },
  {
   "cell_type": "code",
   "execution_count": 158,
   "metadata": {},
   "outputs": [
    {
     "name": "stdout",
     "output_type": "stream",
     "text": [
      "Dropping not won ads\n"
     ]
    }
   ],
   "source": [
    "bid_rel = bid[['bid_id', 'timestamp']]\n",
    "imp_rel = imp[['bid_id', 'paying_price']]\n",
    "# clk_rel = clk[['bid_id', 'paying_price']]\n",
    "# conv_rel = conv[['bid_id', 'paying_price']]\n",
    "bids = bid_rel.merge(imp_rel,how='left', on='bid_id').sort_values('timestamp')\n",
    "bids['not_bought'] = [math.isnan(price) for price in bids.paying_price]\n",
    "\n",
    "def drop_values_or_fill_zeros(bids, drop=True):\n",
    "    result = bids.copy()\n",
    "    if drop:\n",
    "        print('Dropping not won ads')\n",
    "        result = bids.dropna()\n",
    "    else:\n",
    "        print('Filling not won ads with zeroes')\n",
    "        result.paying_price = bids.paying_price.fillna(0)\n",
    "    return result\n",
    "\n",
    "bids = drop_values_or_fill_zeros(bids, drop=True)"
   ]
  },
  {
   "cell_type": "code",
   "execution_count": 159,
   "metadata": {
    "scrolled": true
   },
   "outputs": [
    {
     "name": "stdout",
     "output_type": "stream",
     "text": [
      "dimensions: (442, 4)\n",
      "target price: 60.00\n",
      "target winrate: 0.23\n"
     ]
    }
   ],
   "source": [
    "def split_explore_exploit(bids, share_exploration):\n",
    "    N = bids.shape[0]\n",
    "    this_many = int(share_exploration * N)\n",
    "    bids_explore = bids.iloc[:this_many, :]\n",
    "    bids_exploit = bids.iloc[this_many:, :]\n",
    "    return bids_explore, bids_exploit, N\n",
    "\n",
    "share_exploration = 0.001\n",
    "bids_explore, bids_exploit, N = split_explore_exploit(bids, share_exploration)\n",
    "\n",
    "G = 1e5\n",
    "B = 6e6\n",
    "target_price =  B / G\n",
    "target_winrate = G / N\n",
    "\n",
    "\n",
    "\n",
    "\n",
    "print('dimensions: ' + str(bids_explore.shape))\n",
    "print(\"target price: %.2f\" % target_price)\n",
    "print(\"target winrate: %.2f\" % target_winrate)"
   ]
  },
  {
   "cell_type": "code",
   "execution_count": 160,
   "metadata": {
    "collapsed": true,
    "scrolled": false
   },
   "outputs": [],
   "source": [
    "def explore(bids_explore, target_price, N, rounds=5, plot_win_fct=False):\n",
    "    bid_price = target_price\n",
    "    N_expl = bids_explore.shape[0]\n",
    "    step = int(N_expl / rounds)\n",
    "    start = 0\n",
    "    stop = step\n",
    "    spent_exploring = 0\n",
    "    for round in range(rounds):\n",
    "        won = 0\n",
    "        cost = 0\n",
    "        winning_prices = [np.nan] * step\n",
    "        index=0\n",
    "        \n",
    "        for _, bid in bids_explore \\\n",
    "                            .iloc[start:stop, :] \\\n",
    "                            .iterrows():\n",
    "            if bid_price > bid.paying_price:\n",
    "                won += 1\n",
    "                cost += bid.paying_price\n",
    "                winning_prices[index] = bid.paying_price\n",
    "            index += 1\n",
    "        if plot_win_fct:\n",
    "            sorted_data = np.sort(winning_prices)\n",
    "            yvals = np.arange(step) / float(step-1) #len(winning_prices) = step\n",
    "            plt.plot(sorted_data, yvals)\n",
    "            plt.show()\n",
    "        winrate = won / step\n",
    "        exp_price = cost / won\n",
    "        exp_views = N * winrate\n",
    "        spent_exploring += cost\n",
    "        if  (exp_views < G) or (exp_price < target_price):\n",
    "            bid_price = bid_price * 2\n",
    "            print('\\nDoubling')\n",
    "            print(\"winrate: %.2f\" % winrate)\n",
    "            print(\"price: %.2f\" % exp_price)\n",
    "        else:\n",
    "            print('\\nBreaking in round %s' % (round + 1))\n",
    "            print('winrate: %.2f' % winrate)\n",
    "            print('E(views): %.2f > target_views %.2f' % \\\n",
    "                  (exp_views, G))\n",
    "            print('E(price): %.2f > target_price %.2f' % \\\n",
    "                  (exp_price, target_price))\n",
    "            break\n",
    "        start += step\n",
    "        stop += step\n",
    "        \n",
    "    winning_prices.sort()\n",
    "    yvalues = np.arange(len(winning_prices)) / float(len(winning_prices)-1)\n",
    "\n",
    "    cdf = pd.DataFrame({'price' : winning_prices, \n",
    "                        'value' : yvalues})\n",
    "    return cdf, spent_exploring\n",
    "\n",
    "\n",
    "def exploit(cdf, target_winrate, target_price, N, G):\n",
    "    \n",
    "    idx_bG = (np.abs(cdf.value - target_winrate)).argmin()\n",
    "    b_G = cdf.price[idx_bG]\n",
    "    \n",
    "    expected_F = np.array([])\n",
    "    \n",
    "    for length in np.arange(1, cdf.shape[0]):\n",
    "        subset = cdf.price[:length]\n",
    "        probability = 1 / subset.size\n",
    "        expected_F = np.append(expected_F, np.nansum(subset) * probability)\n",
    "        \n",
    "    idx_bB = (np.abs(expected_F - target_price)).argmin()\n",
    "    b_B = cdf.price[idx_bB]\n",
    "    probability_b_B = G / (N * cdf.value[idx_bB])\n",
    "    \n",
    "    bid_price = b_B if np.random.uniform(0, 1, 1) < probability_b_B and b_G <= b_B else b_G\n",
    "    \n",
    "    return bid_price, b_G, b_B, probability_b_B, idx_bG"
   ]
  },
  {
   "cell_type": "code",
   "execution_count": 161,
   "metadata": {
    "scrolled": true
   },
   "outputs": [
    {
     "name": "stdout",
     "output_type": "stream",
     "text": [
      "\n",
      "Doubling\n",
      "winrate: 0.36\n",
      "price: 27.00\n",
      "\n",
      "Doubling\n",
      "winrate: 0.55\n",
      "price: 58.00\n",
      "\n",
      "Breaking in round 3\n",
      "winrate: 1.00\n",
      "E(views): 442428.00 > target_views 100000.00\n",
      "E(price): 91.45 > target_price 60.00\n"
     ]
    }
   ],
   "source": [
    "cdf, spent_exploring = explore(bids_explore, target_price, N, rounds=10, plot_win_fct=False)\n"
   ]
  },
  {
   "cell_type": "code",
   "execution_count": 162,
   "metadata": {},
   "outputs": [
    {
     "data": {
      "text/plain": [
       "5848.0"
      ]
     },
     "execution_count": 162,
     "metadata": {},
     "output_type": "execute_result"
    }
   ],
   "source": [
    "spent_exploring"
   ]
  },
  {
   "cell_type": "code",
   "execution_count": 163,
   "metadata": {
    "scrolled": true
   },
   "outputs": [
    {
     "name": "stdout",
     "output_type": "stream",
     "text": [
      "(48.0, 48.0, 122.0, 0.32396985121496225, 10)\n"
     ]
    }
   ],
   "source": [
    "param_set = exploit(cdf, target_winrate, target_price, N, G)\n",
    "print(param_set)"
   ]
  },
  {
   "cell_type": "code",
   "execution_count": 186,
   "metadata": {},
   "outputs": [],
   "source": [
    "# (48.0, 48.0, 122.0, 0.32396985121496225, 10) \n",
    "# (0.0, 0.0, 201.0, 0.1539125960230823, 10)\n",
    "def calculate_winnings(bids_exploit, param_set, B):\n",
    "    bid_price, b_G, b_B, probability_b_B, idx_bG = param_set\n",
    "    if b_G < 0.5:\n",
    "        b_G = 1\n",
    "    else:\n",
    "        pass\n",
    "    index = 0\n",
    "    cost = 0\n",
    "    won = 0\n",
    "    N, _ = bids_exploit.shape\n",
    "    for _, bid in bids_exploit.iterrows():\n",
    "        if np.random.uniform(size=1) > probability_b_B:\n",
    "            bid_price = b_G\n",
    "        else:\n",
    "            bid_price = b_B\n",
    "        if bid_price > bid.paying_price:\n",
    "            cost += bid.paying_price\n",
    "            if cost > B:\n",
    "                break\n",
    "                print('costs exceeded budget in round %s out of %s' % index, N )\n",
    "            else:\n",
    "                won += 1\n",
    "        index += 1\n",
    "    win_rate = won / N\n",
    "#     print(win_rate)\n",
    "    return win_rate, cost\n",
    "    \n"
   ]
  },
  {
   "cell_type": "code",
   "execution_count": 174,
   "metadata": {},
   "outputs": [
    {
     "name": "stdout",
     "output_type": "stream",
     "text": [
      "0.3941572809998507\n"
     ]
    },
    {
     "data": {
      "text/plain": [
       "(0.3941572809998507, 5994159.0)"
      ]
     },
     "execution_count": 174,
     "metadata": {},
     "output_type": "execute_result"
    }
   ],
   "source": [
    "calculate_winnings(bids_exploit, param_set, B-spent_exploring)"
   ]
  },
  {
   "cell_type": "code",
   "execution_count": 191,
   "metadata": {},
   "outputs": [],
   "source": [
    "def automatize(bids, share_exploration, B, G):\n",
    "    bids_explore, bids_exploit, N = split_explore_exploit(bids, share_exploration)\n",
    "    target_price =  B / G\n",
    "    target_winrate = G / N\n",
    "    print('dimensions: ' + str(bids_explore.shape))\n",
    "    print(\"target price: %.2f\" % target_price)\n",
    "    print(\"target winrate: %.2f\" % target_winrate)\n",
    "    print('\\nExploring')\n",
    "    cdf, spent_exploring = explore(bids_explore, target_price, N, rounds=10, plot_win_fct=False)\n",
    "    print('spent exploring: %.2f' % spent_exploring)\n",
    "    param_set = \\\n",
    "                (bid_price, b_G, b_B, probability_b_B, idx_bG) = \\\n",
    "                exploit(cdf, target_winrate, target_price, N, G)\n",
    "    print('bid impressions: %.1f' % b_G)\n",
    "    print('bid budget: %.1f' % b_B)\n",
    "    print('probability for bid budget: %.1f' % probability_b_B)\n",
    "    print('\\nExploiting')\n",
    "    win_rate, cost = calculate_winnings(bids_exploit, param_set, B - spent_exploring)\n",
    "    print('win_rate, cost, spent_exploring: %.2f, %.2f, %.2f' % (win_rate, cost, spent_exploring))\n",
    "    return win_rate, cost, spent_exploring"
   ]
  },
  {
   "cell_type": "code",
   "execution_count": null,
   "metadata": {
    "scrolled": false
   },
   "outputs": [
    {
     "name": "stdout",
     "output_type": "stream",
     "text": [
      "\n",
      "\n",
      "~~~~~~~~~~~~~~~~~~~~~~~~~~~~~~~~~\n",
      "| SHARE of EXPLORATION : 0.0001 |\n"
     ]
    }
   ],
   "source": [
    "win_rates = []\n",
    "costs = []\n",
    "costs_expl = []\n",
    "for share_exploration in (np.geomspace(1, 1000, num=20) / 10000):\n",
    "    print('\\n\\n~~~~~~~~~~~~~~~~~~~~~~~~~~~~~~~~~')\n",
    "    print('| SHARE of EXPLORATION : %.4f |' % share_exploration)\n",
    "    print('~~~~~~~~~~~~~~~~~~~~~~~~~~~~~~~~~\\n')\n",
    "    win_rate, cost, spent_exploring = automatize(bids, share_exploration, B, G)\n",
    "    win_rates.append(win_rate)\n",
    "    costs.append(costs)\n",
    "    costs_expl.append(spent_exploring)"
   ]
  }
 ],
 "metadata": {
  "kernelspec": {
   "display_name": "Python 3",
   "language": "python",
   "name": "python3"
  },
  "language_info": {
   "codemirror_mode": {
    "name": "ipython",
    "version": 3
   },
   "file_extension": ".py",
   "mimetype": "text/x-python",
   "name": "python",
   "nbconvert_exporter": "python",
   "pygments_lexer": "ipython3",
   "version": "3.6.3"
  }
 },
 "nbformat": 4,
 "nbformat_minor": 2
}
