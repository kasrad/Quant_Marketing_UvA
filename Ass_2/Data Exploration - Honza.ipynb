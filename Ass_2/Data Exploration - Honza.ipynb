{
 "cells": [
  {
   "cell_type": "code",
   "execution_count": 1,
   "metadata": {
    "collapsed": true
   },
   "outputs": [],
   "source": [
    "from data_loader import data_reader, colnames, colnames_bid\n",
    "#from inverse_cdf import inverse\n",
    "from matplotlib import pyplot as plt\n",
    "import math\n",
    "import pandas as pd\n",
    "import numpy as np"
   ]
  },
  {
   "cell_type": "code",
   "execution_count": 2,
   "metadata": {
    "collapsed": true
   },
   "outputs": [],
   "source": [
    "imp_19 = data_reader('data\\\\imp.20131019.txt', colnames, \n",
    "                verbose=False, fuck_parsing=True)\n",
    "bid_19 = data_reader('data\\\\bid.20131019.txt', colnames_bid, verbose=False, fuck_parsing=True)\n",
    "clk_19 = data_reader('data\\\\clk.20131019.txt', colnames, verbose=False, fuck_parsing=True)\n",
    "conv_19 = data_reader('data\\\\conv.20131019.txt', colnames, verbose=False, fuck_parsing=True)\n",
    "\n",
    "\n",
    "imp_20 = data_reader('data\\\\imp.20131020.txt', colnames, \n",
    "                verbose=False, fuck_parsing=True)\n",
    "bid_20 = data_reader('data\\\\bid.20131020.txt', colnames_bid, verbose=False, fuck_parsing=True)\n",
    "clk_20 = data_reader('data\\\\clk.20131020.txt', colnames, verbose=False, fuck_parsing=True)\n",
    "conv_20 = data_reader('data\\\\conv.20131020.txt', colnames, verbose=False, fuck_parsing=True)"
   ]
  },
  {
   "cell_type": "code",
   "execution_count": 3,
   "metadata": {
    "collapsed": true
   },
   "outputs": [],
   "source": [
    "imp = imp_19.append(imp_20, ignore_index=True)\n",
    "bid = bid_19.append(bid_20, ignore_index=True)\n",
    "clk = clk_19.append(clk_20, ignore_index=True)\n",
    "conv = conv_19.append(conv_20, ignore_index=True)"
   ]
  },
  {
   "cell_type": "code",
   "execution_count": 4,
   "metadata": {},
   "outputs": [
    {
     "data": {
      "text/plain": [
       "True"
      ]
     },
     "execution_count": 4,
     "metadata": {},
     "output_type": "execute_result"
    }
   ],
   "source": [
    "imp.shape[0] == imp_19.shape[0] + imp_20.shape[0] and \\\n",
    "bid.shape[0] == bid_19.shape[0] + bid_20.shape[0] and \\\n",
    "clk.shape[0] == clk_19.shape[0] + clk_20.shape[0] and \\\n",
    "conv.shape[0] == conv_19.shape[0] + conv_20.shape[0]"
   ]
  },
  {
   "cell_type": "code",
   "execution_count": 5,
   "metadata": {
    "collapsed": true
   },
   "outputs": [],
   "source": [
    "bid_rel = bid[['bid_id', 'timestamp']]\n",
    "imp_rel = imp[['bid_id', 'paying_price']]\n",
    "# clk_rel = clk[['bid_id', 'paying_price']]\n",
    "# conv_rel = conv[['bid_id', 'paying_price']]\n",
    "bids = bid_rel.merge(imp_rel,how='left', on='bid_id').sort_values('timestamp')\n",
    "bids['not_bought'] = [math.isnan(price) for price in bids.paying_price]\n",
    "# bids.paying_price = bids.paying_price.fillna(0)\n",
    "bids = bids.dropna()"
   ]
  },
  {
   "cell_type": "code",
   "execution_count": 6,
   "metadata": {
    "scrolled": true
   },
   "outputs": [
    {
     "name": "stdout",
     "output_type": "stream",
     "text": [
      "(22121, 4)\n",
      "60.0\n",
      "0.22602547759183414\n"
     ]
    }
   ],
   "source": [
    "def split_explore_exploit(bids, share_exploration):\n",
    "    N = bids.shape[0]\n",
    "    this_many = int(share_exploration * N)\n",
    "    bids_explore = bids.iloc[:this_many, :]\n",
    "    bids_exploit = bids.iloc[this_many:, :]\n",
    "    return bids_explore, bids_exploit, N\n",
    "\n",
    "share_exploration = 0.05\n",
    "bids_explore, bids_exploit, N = split_explore_exploit(bids, share_exploration)\n",
    "\n",
    "G = 1e5\n",
    "B = 6e6\n",
    "target_price =  B / G\n",
    "target_winrate = G / N\n",
    "\n",
    "\n",
    "\n",
    "\n",
    "print(bids_explore.shape)\n",
    "print(target_price)\n",
    "print(target_winrate)"
   ]
  },
  {
   "cell_type": "code",
   "execution_count": 8,
   "metadata": {
    "scrolled": false
   },
   "outputs": [],
   "source": [
    "def explore(bids_explore, target_price, N, rounds=5, plot_win_fct=False):\n",
    "    bid_price = target_price\n",
    "    N_expl = bids_explore.shape[0]\n",
    "    step = int(N_expl / rounds)\n",
    "    start = 0\n",
    "    stop = step\n",
    "    for round in range(rounds):\n",
    "        won = 0\n",
    "        cost = 0\n",
    "        winning_prices = [np.nan] * step\n",
    "        index=0\n",
    "        for _, bid in bids_explore \\\n",
    "                            .iloc[start:stop, :] \\\n",
    "                            .iterrows():\n",
    "            if bid_price > bid.paying_price:\n",
    "                won += 1\n",
    "                cost += bid.paying_price\n",
    "                winning_prices[index] = bid.paying_price\n",
    "            index += 1\n",
    "        if plot_win_fct:\n",
    "            sorted_data = np.sort(winning_prices)\n",
    "            yvals = np.arange(step) / float(step-1) #len(winning_prices) = step\n",
    "            plt.plot(sorted_data, yvals)\n",
    "            plt.show()\n",
    "        winrate = won / step\n",
    "        price = cost / won\n",
    "        exp_views = N * winrate\n",
    "#         exp_price = cost / step #preco?\n",
    "        \n",
    "        if  (exp_views < G) or (price < target_price):\n",
    "            bid_price = bid_price * 2\n",
    "            print(winrate)\n",
    "            print(price)\n",
    "            print('doubling')\n",
    "        else:\n",
    "            print('breaking in round %s' % (round + 1))\n",
    "            print('winrate: %.2f' % winrate)\n",
    "            print('E(views): %.2f > target_views %.2f' % \\\n",
    "                  (exp_views, G))\n",
    "            print('E(price): %.2f > target_price %.2f' % \\\n",
    "                  (price, target_price))\n",
    "            break\n",
    "        start += step\n",
    "        stop += step\n",
    "        \n",
    "    winning_prices.sort()\n",
    "    yvalues = np.arange(len(winning_prices)) / float(len(winning_prices)-1)\n",
    "\n",
    "    cdf = pd.DataFrame({'price' : winning_prices, \n",
    "                        'value' : yvalues})\n",
    "    return cdf\n",
    "\n",
    "\n",
    "def exploit(cdf, target_winrate, target_price, N, G):\n",
    "    \n",
    "    idx_bG = (np.abs(cdf.value - target_winrate)).argmin()\n",
    "    b_G = cdf.price[idx_bG]\n",
    "    \n",
    "    expected_F = np.array([])\n",
    "    \n",
    "    for length in np.arange(1, cdf.shape[0]):\n",
    "        subset = cdf.price[:length]\n",
    "        probability = 1 / subset.size\n",
    "        expected_F = np.append(expected_F, sum(subset) * probability)\n",
    "        \n",
    "    idx_bB = (np.abs(expected_F - target_price)).argmin()\n",
    "    b_B = cdf.price[idx_bB]\n",
    "    probability_b_B = G / (N * cdf.value[idx_bB])\n",
    "    \n",
    "    bid_price = b_B if np.random.uniform(0, 1, 1) < probability_b_B and b_G <= b_B else b_G\n",
    "    \n",
    "    return bid_price, b_G, b_B, probability_b_B, idx_bG"
   ]
  },
  {
   "cell_type": "code",
   "execution_count": 12,
   "metadata": {},
   "outputs": [
    {
     "data": {
      "image/png": "[encoded data removed]",
      "text/plain": [
       "<matplotlib.figure.Figure at 0x27dcef83d30>"
      ]
     },
     "metadata": {},
     "output_type": "display_data"
    },
    {
     "name": "stdout",
     "output_type": "stream",
     "text": [
      "0.43128390596745025\n",
      "24.753668763102727\n",
      "doubling\n"
     ]
    },
    {
     "data": {
      "image/png": "[encoded data removed]",
      "text/plain": [
       "<matplotlib.figure.Figure at 0x27dceff55f8>"
      ]
     },
     "metadata": {},
     "output_type": "display_data"
    },
    {
     "name": "stdout",
     "output_type": "stream",
     "text": [
      "0.7197106690777577\n",
      "50.26130653266332\n",
      "doubling\n"
     ]
    },
    {
     "data": {
      "image/png": "[encoded data removed]",
      "text/plain": [
       "<matplotlib.figure.Figure at 0x27dcef945f8>"
      ]
     },
     "metadata": {},
     "output_type": "display_data"
    },
    {
     "name": "stdout",
     "output_type": "stream",
     "text": [
      "breaking in round 3\n",
      "winrate: 0.98\n",
      "E(views): 433427.43 > target_views 100000.00\n",
      "E(price): 77.29 > target_price 60.00\n"
     ]
    },
    {
     "data": {
      "text/plain": [
       "45"
      ]
     },
     "execution_count": 12,
     "metadata": {},
     "output_type": "execute_result"
    }
   ],
   "source": [
    "abc = explore(bids_explore, target_price, N, rounds=10, plot_win_fct=True)\n",
    "sum(abc.price.isnull())\n",
    "# exploit(abc, target_winrate, target_price, N, G)"
   ]
  },
  {
   "cell_type": "code",
   "execution_count": 25,
   "metadata": {},
   "outputs": [
    {
     "data": {
      "text/plain": [
       "array([   1,    2,    3, ..., 3397, 3398, 3399])"
      ]
     },
     "execution_count": 25,
     "metadata": {},
     "output_type": "execute_result"
    }
   ],
   "source": [
    "np.arange(1, abc.shape[0])"
   ]
  },
  {
   "cell_type": "code",
   "execution_count": 10,
   "metadata": {
    "scrolled": false
   },
   "outputs": [
    {
     "data": {
      "image/png": "[encoded data removed]",
      "text/plain": [
       "<matplotlib.figure.Figure at 0x27dae89a470>"
      ]
     },
     "metadata": {},
     "output_type": "display_data"
    },
    {
     "name": "stdout",
     "output_type": "stream",
     "text": [
      "0.43128390596745025\n",
      "24.753668763102727\n",
      "doubling\n"
     ]
    },
    {
     "data": {
      "image/png": "[encoded data removed]",
      "text/plain": [
       "<matplotlib.figure.Figure at 0x27da3ff2668>"
      ]
     },
     "metadata": {},
     "output_type": "display_data"
    },
    {
     "name": "stdout",
     "output_type": "stream",
     "text": [
      "0.7197106690777577\n",
      "50.26130653266332\n",
      "doubling\n"
     ]
    },
    {
     "data": {
      "image/png": "[encoded data removed]",
      "text/plain": [
       "<matplotlib.figure.Figure at 0x27dcb71a7b8>"
      ]
     },
     "metadata": {},
     "output_type": "display_data"
    },
    {
     "name": "stdout",
     "output_type": "stream",
     "text": [
      "breaking in round 3\n",
      "winrate: 0.98\n",
      "E(views): 433427.43 > target_views 100000.00\n",
      "E(price): 77.29 > target_price 60.00\n"
     ]
    }
   ],
   "source": [
    "abc = explore(bids_explore, target_price, N, rounds=10, plot_win_fct=True)"
   ]
  },
  {
   "cell_type": "code",
   "execution_count": 61,
   "metadata": {},
   "outputs": [
    {
     "name": "stdout",
     "output_type": "stream",
     "text": [
      "(8.0, 8.0, nan, 3.873971557794925, 500)\n",
      "(8.0, 8.0, nan, 3.873971557794925, 500)\n",
      "(8.0, 8.0, nan, 3.873971557794925, 500)\n",
      "(8.0, 8.0, nan, 3.873971557794925, 500)\n",
      "(8.0, 8.0, nan, 3.873971557794925, 500)\n",
      "(8.0, 8.0, nan, 3.873971557794925, 500)\n",
      "(8.0, 8.0, nan, 3.873971557794925, 500)\n",
      "(8.0, 8.0, nan, 3.873971557794925, 500)\n",
      "(8.0, 8.0, nan, 3.873971557794925, 500)\n",
      "(8.0, 8.0, nan, 3.873971557794925, 500)\n"
     ]
    }
   ],
   "source": [
    "for _ in range(10):\n",
    "    s = exploit(abc, target_winrate, target_price, N, G)\n",
    "    print(s)"
   ]
  },
  {
   "cell_type": "code",
   "execution_count": 11,
   "metadata": {},
   "outputs": [
    {
     "data": {
      "text/plain": [
       "45"
      ]
     },
     "execution_count": 11,
     "metadata": {},
     "output_type": "execute_result"
    }
   ],
   "source": [
    "sum(abc.price.isnull())"
   ]
  },
  {
   "cell_type": "code",
   "execution_count": 62,
   "metadata": {},
   "outputs": [
    {
     "data": {
      "image/png": "[encoded data removed]",
      "text/plain": [
       "<matplotlib.figure.Figure at 0x1a7bfe42550>"
      ]
     },
     "metadata": {},
     "output_type": "display_data"
    }
   ],
   "source": [
    "sorted_data = np.sort(abc.price)\n",
    "yvals=np.arange(len(abc))/float(len(abc)-1)\n",
    "plt.plot(sorted_data,yvals)\n",
    "plt.show()"
   ]
  },
  {
   "cell_type": "code",
   "execution_count": 63,
   "metadata": {},
   "outputs": [
    {
     "data": {
      "text/plain": [
       "2211.0"
      ]
     },
     "execution_count": 63,
     "metadata": {},
     "output_type": "execute_result"
    }
   ],
   "source": [
    "float(len(abc)-1)"
   ]
  },
  {
   "cell_type": "code",
   "execution_count": 64,
   "metadata": {
    "collapsed": true
   },
   "outputs": [],
   "source": [
    "counts = pd.Series(sorted_data).value_counts(normalize=True, sort=False, dropna=False)\n",
    "sorted_data=pd.DataFrame(sorted_data)"
   ]
  },
  {
   "cell_type": "code",
   "execution_count": 65,
   "metadata": {
    "collapsed": true
   },
   "outputs": [],
   "source": [
    "sorted_data.columns = ['values']"
   ]
  },
  {
   "cell_type": "code",
   "execution_count": 66,
   "metadata": {
    "collapsed": true
   },
   "outputs": [],
   "source": [
    "\n",
    "counts=pd.DataFrame(counts)\n",
    "for_b_B = sorted_data.merge(counts, left_on='values', right_index=True)"
   ]
  },
  {
   "cell_type": "code",
   "execution_count": 67,
   "metadata": {
    "collapsed": true
   },
   "outputs": [],
   "source": [
    "for_b_B.columns = ['vals', 'freq']"
   ]
  },
  {
   "cell_type": "code",
   "execution_count": 78,
   "metadata": {},
   "outputs": [
    {
     "data": {
      "text/plain": [
       "45"
      ]
     },
     "execution_count": 78,
     "metadata": {},
     "output_type": "execute_result"
    }
   ],
   "source": [
    "sum(abc.price.isnull())"
   ]
  },
  {
   "cell_type": "code",
   "execution_count": 70,
   "metadata": {},
   "outputs": [
    {
     "name": "stdout",
     "output_type": "stream",
     "text": [
      "66.83634719710672\n",
      "freq    0.000904\n",
      "Name: 202.0, dtype: float64\n"
     ]
    }
   ],
   "source": [
    "d = for_b_B.groupby('vals').mean()\n",
    "\n",
    "for i in np.arange(1, d.shape[0]):\n",
    "    cumsum = sum(d.iloc[:i, :].index * d.iloc[:i, :].freq)\n",
    "#     print(cumsum)\n",
    "    if cumsum > target_price:\n",
    "        print(cumsum)\n",
    "        print(d.iloc[i, :])\n",
    "        break"
   ]
  }
 ],
 "metadata": {
  "kernelspec": {
   "display_name": "Python 3",
   "language": "python",
   "name": "python3"
  },
  "language_info": {
   "codemirror_mode": {
    "name": "ipython",
    "version": 3
   },
   "file_extension": ".py",
   "mimetype": "text/x-python",
   "name": "python",
   "nbconvert_exporter": "python",
   "pygments_lexer": "ipython3",
   "version": "3.6.3"
  }
 },
 "nbformat": 4,
 "nbformat_minor": 2
}
