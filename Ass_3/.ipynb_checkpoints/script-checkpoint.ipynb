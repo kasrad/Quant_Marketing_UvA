{
 "cells": [
  {
   "cell_type": "markdown",
   "metadata": {},
   "source": [
    "## preparation"
   ]
  },
  {
   "cell_type": "code",
   "execution_count": 2,
   "metadata": {},
   "outputs": [],
   "source": [
    "import pandas as pd\n",
    "import numpy as np\n",
    "import scipy.optimize\n",
    "import random"
   ]
  },
  {
   "cell_type": "code",
   "execution_count": 3,
   "metadata": {},
   "outputs": [],
   "source": [
    "fares = pd.read_csv('Fares.csv', sep = ';')\n",
    "flights = pd.read_csv('Flights.csv', sep = ';')\n"
   ]
  },
  {
   "cell_type": "code",
   "execution_count": 4,
   "metadata": {},
   "outputs": [],
   "source": [
    "history = pd.read_csv('~\\Documents\\GitHub\\Quant_Marketing_UvA\\Ass_3\\History\\Bookings_001.csv', sep = ';')"
   ]
  },
  {
   "cell_type": "code",
   "execution_count": 5,
   "metadata": {},
   "outputs": [],
   "source": [
    "history = pd.read_csv('~\\Documents\\GitHub\\Quant_Marketing_UvA\\Ass_3\\History\\Bookings_001.csv', sep = ';')\n",
    "history['id'] = '001'\n",
    "for i in range(2,101,1):\n",
    "    if len(str(i)) == 1:\n",
    "        i = '00' + str(i)\n",
    "    elif len(str(i)) == 2:\n",
    "        i = '0' + str(i)\n",
    "    else:\n",
    "        i = str(i)\n",
    "        \n",
    "        \n",
    "    hist = pd.read_csv('~\\Documents\\GitHub\\Quant_Marketing_UvA\\Ass_3\\History\\Bookings_' + i + '.csv', sep = ';')\n",
    "    hist['id'] = i\n",
    "    history = history.append(hist)\n",
    "    \n",
    "    \n",
    "   "
   ]
  },
  {
   "cell_type": "code",
   "execution_count": 29,
   "metadata": {},
   "outputs": [],
   "source": [
    "def get_demands(fare_id, history):\n",
    "    filt_history = history.loc[history.FARE_ID == fare_id,]\n",
    "    demands = filt_history['id'].value_counts()\n",
    "    return demands\n",
    "\n",
    "def get_capacity(flight_id):\n",
    "    return flights.loc[flights.FLIGHT_ID == flight_id]['CAPACITY']\n",
    "    \n",
    "def get_price(fare_id):\n",
    "    return fares.loc[fares.FARE_ID == fare_id]['PRICE']\n",
    "\n",
    "def get_flights(fare_id):\n",
    "    dep_air  = int(fares.loc[fares.FARE_ID == fare_id]['DEPARTURE_AIRPORT'])\n",
    "    dest_air = int(fares.loc[fares.FARE_ID == fare_id]['DESTINATION_AIRPORT'])\n",
    "   \n",
    "    if dep_air == 1 or dest_air == 1:\n",
    "        return [flights.loc[(flights.DEPARTURE_AIRPORT == dep_air) &\n",
    "                           (flights.DESTINATION_AIRPORT == dest_air)]['FLIGHT_ID']]\n",
    "    else:\n",
    "        return [flights.loc[(flights.DEPARTURE_AIRPORT == dep_air)]['FLIGHT_ID'], \n",
    "                flights.loc[(flights.DESTINATION_AIRPORT == dest_air)]['FLIGHT_ID']]\n",
    "    \n",
    "def get_shadow_price(fare_id):\n",
    "    flights_needed = get_flights(fare_id)\n",
    "    if len(flights_needed) == 1:\n",
    "        shadow_price = shadow_prices_df[flights_needed-1]\n",
    "    else:\n",
    "        shadow_price = shadow_prices_df[flights_needed[0]-1] + shadow_prices_df[flights_needed[1]-1]\n",
    "        \n",
    "    return(shadow_price)\n",
    "    \n",
    "    \n",
    "def allocate_seat(allocations, shadow_prices_df, fare_id, sold_tickets, flight_fare_df):\n",
    "    if allocations[fare_id-1] > 0:\n",
    "        allocations[fare_id-1] -= 1\n",
    "        sold_tickets[fare_id-1] += 1 \n",
    "    else :\n",
    "        shadow_price = get_shadow_price(fare_id)\n",
    "        flights_needed = get_flights(fare_id)\n",
    "#         flights_needed = get_flights(fare_id)\n",
    "#         if len(flights_needed) == 1:\n",
    "#             shadow_price = shadow_prices_df[flights_needed-1]\n",
    "#         else:\n",
    "#             shadow_price = shadow_prices_df[flights_needed[0]-1] + shadow_prices_df[flights_needed[1]-1]\n",
    "      \n",
    "        if len(flights_needed) == 1:\n",
    "            if flights_needed[0] in bucket_flights:\n",
    "                bucket_flights = np.delete(bucket_flights,np.where(bucket_flights == flights_needed)[0][0])\n",
    "                sold_tickets[fare_id-1] +=1\n",
    "            else:\n",
    "                candidate_fares = np.where(flight_fare_df.iloc[flights_needed - 1,] == 1)[0]\n",
    "                fully_booked_fares = np.where(allocations == 0) + 1\n",
    "                candidate_fares = np.array(set(candidate_fares) - set(fully_booked_fares))\n",
    "                \n",
    "                candidate_fare_shadow_prices = np.zeros((candidate_fares.shape))\n",
    "                for i in range(candidate_fares.shape[0]):\n",
    "                    candidate_fare_shadow_prices[i] = get_shadow_price(candidate_fares[i])\n",
    "                \n",
    "                sacrificed_fare = \\\n",
    "                candidate_fares[np.where(candidate_fare_shadow_prices == \\\n",
    "                                         candidate_fare_shadow_prices.min())[0][0]]\n",
    "                \n",
    "                allocations[sacrificed fare-1] -= 1\n",
    "                sold_tickets[fare_id-1] += 1\n",
    "                \n",
    "                if sum(flight_fare_df.iloc[,sacrificed_fare-1]) == 2:\n",
    "                    sf_flights = np.where(flight_fare_df.iloc[,sacrificed_fare-1] == 1)+1\n",
    "                    sf_flights = np.delete(sf_flights, sf_flights == flights_needed)\n",
    "                    bucket_flights = np.append(bucket_flights, sf_flights)\n",
    "                \n",
    "        else:\n",
    "            if flights_needed[0] in bucket_flights:\n",
    "                bucket_flights = np.delete(bucket_flights,np.where(bucket_flights == flights_needed)[0][0])\n",
    "                sold_tickets[fare_id-1] +=1\n",
    "            else:\n",
    "                candidate_fares = np.where(flight_fare_df.iloc[flights_needed - 1,] == 1)[0]\n",
    "                fully_booked_fares = np.where(allocations == 0) + 1\n",
    "                candidate_fares = np.array(set(candidate_fares) - set(fully_booked_fares))\n",
    "                \n",
    "                candidate_fare_shadow_prices = np.zeros((candidate_fares.shape))\n",
    "                for i in range(candidate_fares.shape[0]):\n",
    "                    candidate_fare_shadow_prices[i] = get_shadow_price(candidate_fares[i])\n",
    "                \n",
    "                sacrificed_fare = \\\n",
    "                candidate_fares[np.where(candidate_fare_shadow_prices == \\\n",
    "                                         candidate_fare_shadow_prices.min())[0][0]]\n",
    "                \n",
    "                allocations[sacrificed fare-1] -= 1\n",
    "                sold_tickets[fare_id-1] += 1\n",
    "                \n",
    "                if sum(flight_fare_df.iloc[,sacrificed_fare-1]) == 2:\n",
    "                    sf_flights = np.where(flight_fare_df.iloc[,sacrificed_fare-1] == 1)+1\n",
    "                    sf_flights = np.delete(sf_flights, sf_flights == flights_needed)\n",
    "                    bucket_flights = np.append(bucket_flights, sf_flights)\n",
    "                \n",
    "            if flights_needed[1] in bucket_flights:\n",
    "                bucket_flights = np.delete(bucket_flights,np.where(bucket_flights == flights_needed)[0][0])\n",
    "                sold_tickets[fare_id-1] +=1\n",
    "            else:\n",
    "                candidate_fares = np.where(flight_fare_df.iloc[flights_needed - 1,] == 1)[0]\n",
    "                fully_booked_fares = np.where(allocations == 0) + 1\n",
    "                candidate_fares = np.array(set(candidate_fares) - set(fully_booked_fares))\n",
    "                \n",
    "                candidate_fare_shadow_prices = np.zeros((candidate_fares.shape))\n",
    "                for i in range(candidate_fares.shape[0]):\n",
    "                    candidate_fare_shadow_prices[i] = get_shadow_price(candidate_fares[i])\n",
    "                \n",
    "                sacrificed_fare = \\\n",
    "                candidate_fares[np.where(candidate_fare_shadow_prices == \\\n",
    "                                         candidate_fare_shadow_prices.min())[0][0]]\n",
    "                \n",
    "                allocations[sacrificed fare-1] -= 1\n",
    "                sold_tickets[fare_id-1] += 1\n",
    "                \n",
    "                if sum(flight_fare_df.iloc[,sacrificed_fare-1]) == 2:\n",
    "                    sf_flights = np.where(flight_fare_df.iloc[,sacrificed_fare-1] == 1)+1\n",
    "                    sf_flights = np.delete(sf_flights, sf_flights == flights_needed)\n",
    "                    bucket_flights = np.append(bucket_flights, sf_flights)\n",
    "            \n",
    "            #napocitat ktery fares maj volny alokace, porovnat shadow pricy, vzit jim je, priradit a zbytek do bucketu\n",
    "            \n",
    "        \n",
    "        \n",
    "#     return allocations, shadow_prices_df, fare_id, sold_tickets, bucket_flights  \n",
    "    \n",
    "    \n",
    "def run_allocations(history_day, allocations):\n",
    "    sold_tickets = np.zeros((144,1))\n",
    "    bucket_flights = np.array([])\n",
    "    for i in range(history_day.shape[0]):\n",
    "        allocate_seat(allocations, history_day['FARE_ID'][i])\n",
    "    \n",
    "    return sold_tickets\n",
    "    \n",
    "\n",
    "\n",
    "\n",
    "\n",
    "    "
   ]
  },
  {
   "cell_type": "code",
   "execution_count": 47,
   "metadata": {},
   "outputs": [
    {
     "data": {
      "text/plain": [
       "8    90\n",
       "Name: FLIGHT_ID, dtype: int64"
      ]
     },
     "execution_count": 47,
     "metadata": {},
     "output_type": "execute_result"
    }
   ],
   "source": []
  },
  {
   "cell_type": "code",
   "execution_count": 30,
   "metadata": {},
   "outputs": [],
   "source": [
    "flight_fare_df = pd.DataFrame(index=range(flights.shape[0]),columns=range(fares.shape[0]), data = 0)\n",
    "for i in range(fares.shape[0]):\n",
    "    used_flights = get_flights(i+1)\n",
    "    try: \n",
    "        flight_fare_df.iloc[int(used_flights[0]) - 1, i] = 1\n",
    "        flight_fare_df.iloc[int(used_flights[1]) - 1, i] = 1\n",
    "    except:\n",
    "        flight_fare_df.iloc[int(used_flights[0]) - 1, i] = 1\n",
    "        "
   ]
  },
  {
   "cell_type": "markdown",
   "metadata": {},
   "source": [
    "## optimization"
   ]
  },
  {
   "cell_type": "code",
   "execution_count": 12,
   "metadata": {},
   "outputs": [
    {
     "data": {
      "text/plain": [
       "4"
      ]
     },
     "execution_count": 12,
     "metadata": {},
     "output_type": "execute_result"
    }
   ],
   "source": [
    "x = 5\n"
   ]
  },
  {
   "cell_type": "code",
   "execution_count": 9,
   "metadata": {},
   "outputs": [
    {
     "name": "stdout",
     "output_type": "stream",
     "text": [
      "(144,)\n"
     ]
    },
    {
     "name": "stderr",
     "output_type": "stream",
     "text": [
      "C:\\Users\\Radim\\Anaconda3\\lib\\site-packages\\numpy\\core\\fromnumeric.py:52: FutureWarning: reshape is deprecated and will raise in a subsequent release. Please use .values.reshape(...) instead\n",
      "  return getattr(obj, method)(*args, **kwds)\n"
     ]
    }
   ],
   "source": [
    "capacity = flights['CAPACITY']\n",
    "np.reshape(capacity, (16)).shape\n",
    "exp_demand = np.array(history['FARE_ID'].value_counts())\n",
    "bounds = [(0, exp_demand[i]) for i in range(len(exp_demand))]\n",
    "print(exp_demand.shape)\n",
    "\n",
    "x = scipy.optimize.linprog(c= - np.array(fares['PRICE']), A_ub=np.array(flight_fare_df),\n",
    "                      b_ub=capacity, bounds=bounds)"
   ]
  },
  {
   "cell_type": "code",
   "execution_count": 11,
   "metadata": {},
   "outputs": [
    {
     "data": {
      "text/plain": [
       "array([ 0.,  5.,  0.,  6.,  0., 10.,  0.,  0.,  0.,  0.,  0.,  7.,  0.,\n",
       "       23.,  0.,  0.,  0., 16.,  0.,  0.,  0.,  0.,  0.,  0.,  0.,  0.,\n",
       "        0.,  0.,  0.,  0.,  0.,  0.,  0.,  6.,  0.,  0.,  0.,  0.,  0.,\n",
       "        0.,  0., 15.,  0.,  0.,  0.,  0.,  0.,  0.,  0.,  0.,  0.,  0.,\n",
       "        0.,  0.,  0.,  0.,  0.,  0.,  0.,  0.,  0.,  0.,  0., 16.,  0.,\n",
       "        0.,  0.,  0.,  0.,  0.,  0.,  0.,  0.,  0.,  0., 14.,  0.,  0.,\n",
       "        0.,  0.,  0.,  0.,  0.,  0.,  0., 14.,  0.,  0.,  0.,  0.,  0.,\n",
       "        0.,  0.,  0.,  0.,  0.,  0.,  3.,  0.,  0.,  0.,  0.,  0.,  0.,\n",
       "        0., 14.,  0.,  0.,  0.,  0.,  0.,  0.,  0., 18.,  0.,  0.,  0.,\n",
       "        0.,  0.,  0.,  0.,  0.,  0.,  0.,  0.,  0.,  0.,  0.,  0.,  0.,\n",
       "        0.,  7.,  0.,  0.,  0.,  8.,  0.,  0.,  0.,  0.,  0.,  0.,  0.,\n",
       "        0.])"
      ]
     },
     "execution_count": 11,
     "metadata": {},
     "output_type": "execute_result"
    }
   ],
   "source": [
    "x.x"
   ]
  },
  {
   "cell_type": "code",
   "execution_count": 312,
   "metadata": {},
   "outputs": [
    {
     "data": {
      "text/plain": [
       "(16,)"
      ]
     },
     "execution_count": 312,
     "metadata": {},
     "output_type": "execute_result"
    }
   ],
   "source": [
    "(np.reshape(np.array(flight_fare_df) @ x0,(16))).shape"
   ]
  },
  {
   "cell_type": "code",
   "execution_count": 274,
   "metadata": {},
   "outputs": [
    {
     "data": {
      "text/plain": [
       "array([-0.])"
      ]
     },
     "execution_count": 274,
     "metadata": {},
     "output_type": "execute_result"
    }
   ],
   "source": []
  },
  {
   "cell_type": "code",
   "execution_count": 306,
   "metadata": {},
   "outputs": [
    {
     "data": {
      "text/plain": [
       "(16, 1)"
      ]
     },
     "execution_count": 306,
     "metadata": {},
     "output_type": "execute_result"
    }
   ],
   "source": [
    "(np.array(flight_fare_df) @ np.zeros((fares.shape[0],1))).shape"
   ]
  },
  {
   "cell_type": "code",
   "execution_count": 268,
   "metadata": {},
   "outputs": [
    {
     "data": {
      "text/plain": [
       "19380530"
      ]
     },
     "execution_count": 268,
     "metadata": {},
     "output_type": "execute_result"
    }
   ],
   "source": []
  }
 ],
 "metadata": {
  "kernelspec": {
   "display_name": "Python 3",
   "language": "python",
   "name": "python3"
  },
  "language_info": {
   "codemirror_mode": {
    "name": "ipython",
    "version": 3
   },
   "file_extension": ".py",
   "mimetype": "text/x-python",
   "name": "python",
   "nbconvert_exporter": "python",
   "pygments_lexer": "ipython3",
   "version": "3.6.4"
  }
 },
 "nbformat": 4,
 "nbformat_minor": 2
}
