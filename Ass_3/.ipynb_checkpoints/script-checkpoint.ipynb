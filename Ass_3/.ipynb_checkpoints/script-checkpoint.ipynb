{
 "cells": [
  {
   "cell_type": "markdown",
   "metadata": {},
   "source": [
    "## preparation"
   ]
  },
  {
   "cell_type": "code",
   "execution_count": 4,
   "metadata": {},
   "outputs": [],
   "source": [
    "import pandas as pd\n",
    "import numpy as np\n",
    "import scipy.optimize\n",
    "import random"
   ]
  },
  {
   "cell_type": "code",
   "execution_count": 5,
   "metadata": {},
   "outputs": [],
   "source": [
    "fares = pd.read_csv('Fares.csv', sep = ';')\n",
    "flights = pd.read_csv('Flights.csv', sep = ';')\n"
   ]
  },
  {
   "cell_type": "code",
   "execution_count": 6,
   "metadata": {},
   "outputs": [],
   "source": [
    "history = pd.read_csv('~\\Documents\\GitHub\\Quant_Marketing_UvA\\Ass_3\\History\\Bookings_001.csv', sep = ';')"
   ]
  },
  {
   "cell_type": "code",
   "execution_count": 7,
   "metadata": {},
   "outputs": [],
   "source": [
    "history = pd.read_csv('~\\Documents\\GitHub\\Quant_Marketing_UvA\\Ass_3\\History\\Bookings_001.csv', sep = ';')\n",
    "history['id'] = '001'\n",
    "for i in range(2,101,1):\n",
    "    if len(str(i)) == 1:\n",
    "        i = '00' + str(i)\n",
    "    elif len(str(i)) == 2:\n",
    "        i = '0' + str(i)\n",
    "    else:\n",
    "        i = str(i)\n",
    "        \n",
    "        \n",
    "    hist = pd.read_csv('~\\Documents\\GitHub\\Quant_Marketing_UvA\\Ass_3\\History\\Bookings_' + i + '.csv', sep = ';')\n",
    "    hist['id'] = i\n",
    "    history = history.append(hist)\n",
    "    \n",
    "    \n",
    "   "
   ]
  },
  {
   "cell_type": "code",
   "execution_count": 8,
   "metadata": {},
   "outputs": [],
   "source": [
    "def get_demands(fare_id, history):\n",
    "    filt_history = history.loc[history.FARE_ID == fare_id,]\n",
    "    demands = filt_history['id'].value_counts()\n",
    "    return demands\n",
    "\n",
    "def get_capacity(flight_id):\n",
    "    return flights.loc[flights.FLIGHT_ID == flight_id]['CAPACITY']\n",
    "    \n",
    "def get_price(fare_id):\n",
    "    return fares.loc[fares.FARE_ID == fare_id]['PRICE']\n",
    "\n",
    "def get_flights(fare_id):\n",
    "    dep_air  = int(fares.loc[fares.FARE_ID == fare_id]['DEPARTURE_AIRPORT'])\n",
    "    dest_air = int(fares.loc[fares.FARE_ID == fare_id]['DESTINATION_AIRPORT'])\n",
    "   \n",
    "    if dep_air == 1 or dest_air == 1:\n",
    "        return [flights.loc[(flights.DEPARTURE_AIRPORT == dep_air) &\n",
    "                           (flights.DESTINATION_AIRPORT == dest_air)]['FLIGHT_ID']]\n",
    "    else:\n",
    "        return [flights.loc[(flights.DEPARTURE_AIRPORT == dep_air)]['FLIGHT_ID'], \n",
    "                flights.loc[(flights.DESTINATION_AIRPORT == dest_air)]['FLIGHT_ID']]\n",
    "\n",
    "\n",
    "\n",
    "\n",
    "    "
   ]
  },
  {
   "cell_type": "code",
   "execution_count": 9,
   "metadata": {},
   "outputs": [],
   "source": [
    "flight_fare_df = pd.DataFrame(index=range(flights.shape[0]),columns=range(fares.shape[0]), data = 0)\n",
    "for i in range(fares.shape[0]):\n",
    "    used_flights = get_flights(i+1)\n",
    "    try: \n",
    "        flight_fare_df.iloc[int(used_flights[0]) - 1, i] = 1\n",
    "        flight_fare_df.iloc[int(used_flights[1]) - 1, i] = 1\n",
    "    except:\n",
    "        flight_fare_df.iloc[int(used_flights[0]) - 1, i] = 1\n",
    "        "
   ]
  },
  {
   "cell_type": "markdown",
   "metadata": {},
   "source": [
    "## optimization"
   ]
  },
  {
   "cell_type": "code",
   "execution_count": 10,
   "metadata": {},
   "outputs": [],
   "source": [
    "def kvadr_x(x):\n",
    "    return (x ** 2 - 3 * x + 8) "
   ]
  },
  {
   "cell_type": "code",
   "execution_count": 11,
   "metadata": {},
   "outputs": [],
   "source": [
    "cons = ( {'type': 'ineq',\n",
    "            'fun' : lambda x: np.array([-x, 0])})"
   ]
  },
  {
   "cell_type": "code",
   "execution_count": 12,
   "metadata": {},
   "outputs": [
    {
     "data": {
      "text/plain": [
       "     fun: 7.999999999999997\n",
       "     jac: array([-3.])\n",
       " message: 'Optimization terminated successfully.'\n",
       "    nfev: 10\n",
       "     nit: 3\n",
       "    njev: 3\n",
       "  status: 0\n",
       " success: True\n",
       "       x: array([8.8817842e-16])"
      ]
     },
     "execution_count": 12,
     "metadata": {},
     "output_type": "execute_result"
    }
   ],
   "source": [
    "x0 = np.array([100])\n",
    "scipy.optimize.minimize(kvadr_x, x0,  method='SLSQP', constraints = cons)"
   ]
  },
  {
   "cell_type": "code",
   "execution_count": null,
   "metadata": {},
   "outputs": [],
   "source": [
    "#problem je v constraints nekde\n",
    "def profit(x):\n",
    "    return -(np.array(fares['PRICE']) @ x)\n",
    "\n",
    "capacity = flights['CAPACITY']\n",
    "capacity = np.reshape(capacity, (16, 1))\n",
    "x0 = np.zeros((fares.shape[0], ))\n",
    "\n",
    "print(capacity.shape)\n",
    "print(np.reshape(np.array(flight_fare_df) @ x0,(16)).shape)\n",
    "print(x0.shape)\n",
    "\n",
    "cons = ({'type' : 'ineq',\n",
    "         'fun' : lambda x: np.array([capacity, np.reshape(np.array(flight_fare_df) @ x,(16, 1))])})\n",
    "         \n",
    "scipy.optimize.minimize(profit, x0,  method='SLSQP', constraints = cons)\n",
    "         \n",
    "\n"
   ]
  },
  {
   "cell_type": "code",
   "execution_count": 38,
   "metadata": {},
   "outputs": [],
   "source": [
    "exp_demand = np.array(history['FARE_ID'].value_counts())"
   ]
  },
  {
   "cell_type": "code",
   "execution_count": 39,
   "metadata": {},
   "outputs": [],
   "source": [
    "bounds = [(0, exp_demand[i]) for i in range(len(exp_demand))]"
   ]
  },
  {
   "cell_type": "code",
   "execution_count": 42,
   "metadata": {},
   "outputs": [
    {
     "data": {
      "text/plain": [
       "     fun: -87336.0\n",
       " message: 'Optimization terminated successfully.'\n",
       "     nit: 30\n",
       "   slack: array([  0.,   0.,   0.,   0.,   0.,   0.,   0.,   0.,   0.,   0.,   0.,\n",
       "         0.,   0.,   0.,   0.,   0., 514., 509., 488., 480., 483., 417.,\n",
       "       425., 420., 416., 413., 392., 383., 389., 364., 381., 380., 369.,\n",
       "       350., 365., 364., 360., 338., 334., 326., 323., 320., 320., 317.,\n",
       "       315., 303., 301., 289., 268., 245., 250., 250., 244., 239., 238.,\n",
       "       232., 231., 196., 210., 208., 206., 205., 197., 193., 191., 190.,\n",
       "       179., 178., 176., 174., 173., 170., 165., 162., 156., 155., 155.,\n",
       "       154., 145., 123., 138., 132., 132., 132., 131., 131., 130., 129.,\n",
       "       128., 127., 123., 106., 120., 118., 118., 117., 116., 115., 108.,\n",
       "       103., 102.,  88., 101.,  99.,  99.,  95.,  94.,  93.,  92.,  91.,\n",
       "        91.,  89.,  86.,  82.,  83.,  83.,  82.,  80.,  78.,  78.,  78.,\n",
       "        60.,  73.,  71.,  69.,  57.,  56.,  56.,  53.,  34.,  50.,  50.,\n",
       "        49.,  48.,  48.,  37.,  35.,  35.,  35.,  35.,  34.,  32.,  32.,\n",
       "        31.,  26.,  21.,  17.,   7.,  13.,  11.,  10.,   0.,   6.,   6.,\n",
       "         5.,   4.,   3.,   3.,   1.,   1.])\n",
       "  status: 0\n",
       " success: True\n",
       "       x: array([ 0.,  5.,  0.,  6.,  0., 10.,  0.,  0.,  0.,  0.,  0.,  7.,  0.,\n",
       "       23.,  0.,  0.,  0., 16.,  0.,  0.,  0.,  0.,  0.,  0.,  0.,  0.,\n",
       "        0.,  0.,  0.,  0.,  0.,  0.,  0.,  6.,  0.,  0.,  0.,  0.,  0.,\n",
       "        0.,  0., 15.,  0.,  0.,  0.,  0.,  0.,  0.,  0.,  0.,  0.,  0.,\n",
       "        0.,  0.,  0.,  0.,  0.,  0.,  0.,  0.,  0.,  0.,  0., 16.,  0.,\n",
       "        0.,  0.,  0.,  0.,  0.,  0.,  0.,  0.,  0.,  0., 14.,  0.,  0.,\n",
       "        0.,  0.,  0.,  0.,  0.,  0.,  0., 14.,  0.,  0.,  0.,  0.,  0.,\n",
       "        0.,  0.,  0.,  0.,  0.,  0.,  3.,  0.,  0.,  0.,  0.,  0.,  0.,\n",
       "        0., 14.,  0.,  0.,  0.,  0.,  0.,  0.,  0., 18.,  0.,  0.,  0.,\n",
       "        0.,  0.,  0.,  0.,  0.,  0.,  0.,  0.,  0.,  0.,  0.,  0.,  0.,\n",
       "        0.,  7.,  0.,  0.,  0.,  8.,  0.,  0.,  0.,  0.,  0.,  0.,  0.,\n",
       "        0.])"
      ]
     },
     "execution_count": 42,
     "metadata": {},
     "output_type": "execute_result"
    }
   ],
   "source": [
    "scipy.optimize.linprog(c= - np.array(fares['PRICE']), A_ub=np.array(flight_fare_df),\n",
    "                      b_ub=capacity, bounds=bounds)"
   ]
  },
  {
   "cell_type": "code",
   "execution_count": 63,
   "metadata": {},
   "outputs": [
    {
     "data": {
      "text/plain": [
       "     fun: 87336.0\n",
       " message: 'Optimization terminated successfully.'\n",
       "     nit: 232\n",
       "   slack: array([168.,   0., 238.,   0., 469.,   0., 442.,   8., 427.,   0., 133.,\n",
       "         0., 147.,   0., 329.,   0., 168.,   0., 411.,  40., 681., 352.,\n",
       "       640., 248., 624., 232., 310.,  72., 316.,   8., 497.,   0., 238.,\n",
       "         0., 411.,  40., 726., 152., 680.,   8., 665.,   0., 405., 272.,\n",
       "       421., 288., 604., 296., 469.,   0., 681., 352., 726., 152., 947.,\n",
       "       296., 931., 280., 622., 160., 621.,  40., 798.,   0., 442.,   8.,\n",
       "       640., 248., 680.,   8., 947., 296., 990., 976., 574.,   0., 593.,\n",
       "        40., 794., 192., 427.,   0., 624., 232., 665.,   0., 931., 280.,\n",
       "       990., 976., 560.,   0., 579.,  40., 780., 192., 133.,   0., 310.,\n",
       "        72., 405., 272., 622., 160., 574.,   0., 560.,   0., 302., 176.,\n",
       "       477., 120., 147.,   0., 316.,   8., 421., 288., 621.,  40., 593.,\n",
       "        40., 579.,  40., 302., 176., 512., 288., 329.,   0., 497.,   0.,\n",
       "       604., 296., 798.,   0., 794., 192., 780., 192., 477., 120., 512.,\n",
       "       288.])\n",
       "  status: 0\n",
       " success: True\n",
       "       x: array([192., 272., 536., 504., 488., 152., 168., 376., 192., 272., 536.,\n",
       "       504., 488., 152., 168., 376.])"
      ]
     },
     "execution_count": 63,
     "metadata": {},
     "output_type": "execute_result"
    }
   ],
   "source": [
    "scipy.optimize.linprog(c=capacity.reshape((16,)), A_ub= - np.array(flight_fare_df).T,\n",
    "                      b_ub= - np.array(fares['PRICE']).T)"
   ]
  },
  {
   "cell_type": "code",
   "execution_count": 313,
   "metadata": {},
   "outputs": [
    {
     "name": "stderr",
     "output_type": "stream",
     "text": [
      "C:\\Users\\Radim\\Anaconda3\\lib\\site-packages\\numpy\\core\\fromnumeric.py:52: FutureWarning: reshape is deprecated and will raise in a subsequent release. Please use .values.reshape(...) instead\n",
      "  return getattr(obj, method)(*args, **kwds)\n"
     ]
    },
    {
     "data": {
      "text/plain": [
       "(16,)"
      ]
     },
     "execution_count": 313,
     "metadata": {},
     "output_type": "execute_result"
    }
   ],
   "source": [
    "capacity = flights['CAPACITY']\n",
    "np.reshape(capacity, (16)).shape\n",
    "# capacity - np.array(flight_fare_df) @ x0"
   ]
  },
  {
   "cell_type": "code",
   "execution_count": 312,
   "metadata": {},
   "outputs": [
    {
     "data": {
      "text/plain": [
       "(16,)"
      ]
     },
     "execution_count": 312,
     "metadata": {},
     "output_type": "execute_result"
    }
   ],
   "source": [
    "(np.reshape(np.array(flight_fare_df) @ x0,(16))).shape"
   ]
  },
  {
   "cell_type": "code",
   "execution_count": 274,
   "metadata": {},
   "outputs": [
    {
     "data": {
      "text/plain": [
       "array([-0.])"
      ]
     },
     "execution_count": 274,
     "metadata": {},
     "output_type": "execute_result"
    }
   ],
   "source": []
  },
  {
   "cell_type": "code",
   "execution_count": 306,
   "metadata": {},
   "outputs": [
    {
     "data": {
      "text/plain": [
       "(16, 1)"
      ]
     },
     "execution_count": 306,
     "metadata": {},
     "output_type": "execute_result"
    }
   ],
   "source": [
    "(np.array(flight_fare_df) @ np.zeros((fares.shape[0],1))).shape"
   ]
  },
  {
   "cell_type": "code",
   "execution_count": 268,
   "metadata": {},
   "outputs": [
    {
     "data": {
      "text/plain": [
       "19380530"
      ]
     },
     "execution_count": 268,
     "metadata": {},
     "output_type": "execute_result"
    }
   ],
   "source": []
  }
 ],
 "metadata": {
  "kernelspec": {
   "display_name": "Python 3",
   "language": "python",
   "name": "python3"
  },
  "language_info": {
   "codemirror_mode": {
    "name": "ipython",
    "version": 3
   },
   "file_extension": ".py",
   "mimetype": "text/x-python",
   "name": "python",
   "nbconvert_exporter": "python",
   "pygments_lexer": "ipython3",
   "version": "3.6.4"
  }
 },
 "nbformat": 4,
 "nbformat_minor": 2
}
