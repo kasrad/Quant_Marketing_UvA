{
 "cells": [
  {
   "cell_type": "markdown",
   "metadata": {},
   "source": [
    "## preparation"
   ]
  },
  {
   "cell_type": "code",
   "execution_count": 1,
   "metadata": {},
   "outputs": [],
   "source": [
    "import pandas as pd\n",
    "import numpy as np\n",
    "import scipy.optimize\n",
    "import random"
   ]
  },
  {
   "cell_type": "code",
   "execution_count": 2,
   "metadata": {},
   "outputs": [],
   "source": [
    "fares = pd.read_csv('Fares.csv', sep = ';')\n",
    "flights = pd.read_csv('Flights.csv', sep = ';')\n"
   ]
  },
  {
   "cell_type": "code",
   "execution_count": 3,
   "metadata": {},
   "outputs": [],
   "source": [
    "history = pd.read_csv('~\\Documents\\GitHub\\Quant_Marketing_UvA\\Ass_3\\History\\Bookings_001.csv', sep = ';')"
   ]
  },
  {
   "cell_type": "code",
   "execution_count": 4,
   "metadata": {},
   "outputs": [],
   "source": [
    "history = pd.read_csv('~\\Documents\\GitHub\\Quant_Marketing_UvA\\Ass_3\\History\\Bookings_001.csv', sep = ';')\n",
    "history['id'] = '001'\n",
    "for i in range(2,101,1):\n",
    "    if len(str(i)) == 1:\n",
    "        i = '00' + str(i)\n",
    "    elif len(str(i)) == 2:\n",
    "        i = '0' + str(i)\n",
    "    else:\n",
    "        i = str(i)\n",
    "        \n",
    "        \n",
    "    hist = pd.read_csv('~\\Documents\\GitHub\\Quant_Marketing_UvA\\Ass_3\\History\\Bookings_' + i + '.csv', sep = ';')\n",
    "    hist['id'] = i\n",
    "    history = history.append(hist)\n",
    "    \n",
    "    \n",
    "   "
   ]
  },
  {
   "cell_type": "code",
   "execution_count": 17,
   "metadata": {},
   "outputs": [],
   "source": [
    "def get_demands(fare_id, history):\n",
    "    filt_history = history.loc[history.FARE_ID == fare_id,]\n",
    "    demands = filt_history['id'].value_counts()\n",
    "    return demands\n",
    "\n",
    "def get_capacity(flight_id):\n",
    "    return flights.loc[flights.FLIGHT_ID == flight_id]['CAPACITY']\n",
    "    \n",
    "def get_price(fare_id):\n",
    "    return fares.loc[fares.FARE_ID == fare_id]['PRICE']\n",
    "\n",
    "def get_flights(fare_id):\n",
    "    dep_air  = int(fares.loc[fares.FARE_ID == fare_id]['DEPARTURE_AIRPORT'])\n",
    "    dest_air = int(fares.loc[fares.FARE_ID == fare_id]['DESTINATION_AIRPORT'])\n",
    "   \n",
    "    if dep_air == 1 or dest_air == 1:\n",
    "        return [flights.loc[(flights.DEPARTURE_AIRPORT == dep_air) &\n",
    "                           (flights.DESTINATION_AIRPORT == dest_air)]['FLIGHT_ID']]\n",
    "    else:\n",
    "        return [flights.loc[(flights.DEPARTURE_AIRPORT == dep_air)]['FLIGHT_ID'], \n",
    "                flights.loc[(flights.DESTINATION_AIRPORT == dest_air)]['FLIGHT_ID']]\n",
    "    \n",
    "def get_shadow_price(fare_id, shadow_prices_df):\n",
    "    flights_needed = get_flights(fare_id)\n",
    "    if len(flights_needed) == 1:\n",
    "        shadow_price = shadow_prices_df[flights_needed[0] -1]\n",
    "    else:\n",
    "        shadow_price = shadow_prices_df[flights_needed[0]-1] + shadow_prices_df[flights_needed[1]-1]\n",
    "        \n",
    "    return(shadow_price)\n",
    "    \n",
    "    \n",
    "def allocate_seat(allocations, shadow_prices_df, fare_id, sold_tickets, flight_fare_df, bucket_flights):\n",
    "    if allocations[fare_id-1] > 0:\n",
    "        allocations[fare_id-1] -= 1\n",
    "        sold_tickets[fare_id-1] += 1 \n",
    "    else :\n",
    "        shadow_price = get_shadow_price(fare_id, shadow_prices_df)\n",
    "        flights_needed = get_flights(fare_id)\n",
    "#         flights_needed = get_flights(fare_id)\n",
    "#         if len(flights_needed) == 1:\n",
    "#             shadow_price = shadow_prices_df[flights_needed-1]\n",
    "#         else:\n",
    "#             shadow_price = shadow_prices_df[flights_needed[0]-1] + shadow_prices_df[flights_needed[1]-1]\n",
    "      \n",
    "        if len(flights_needed) == 1:\n",
    "            if flights_needed in bucket_flights:\n",
    "                bucket_flights = np.delete(bucket_flights,np.where(bucket_flights == flights_needed)[0])\n",
    "                sold_tickets[fare_id-1] +=1\n",
    "            else:\n",
    "                candidate_fares = np.where(flight_fare_df.iloc[flights_needed[0] - 1,] == 1)[0]\n",
    "                fully_booked_fares = np.array(np.where(allocations == 0)) + 1\n",
    "                                                \n",
    "                candidate_fares = candidate_fares[~np.in1d(candidate_fares,fully_booked_fares)]\n",
    "                \n",
    "                \n",
    "                candidate_fare_shadow_prices = np.zeros((candidate_fares.shape))\n",
    "                for i in range(candidate_fares.shape[0]):\n",
    "                    candidate_fare_shadow_prices[i] = get_shadow_price(candidate_fares[i]+1, shadow_prices_df)\n",
    "                \n",
    "                sacrificed_fare = \\\n",
    "                candidate_fares[np.where(candidate_fare_shadow_prices == \\\n",
    "                                         candidate_fare_shadow_prices.min())[0][0]]\n",
    "                \n",
    "                allocations[sacrificed_fare-1] -= 1\n",
    "                sold_tickets[fare_id-1] += 1\n",
    "                \n",
    "                if sum(flight_fare_df.iloc[:,sacrificed_fare-1]) == 2:\n",
    "                    sf_flights = np.array(np.where(flight_fare_df.iloc[:,sacrificed_fare-1] == 1)) +1\n",
    "                    sf_flights = np.delete(sf_flights, sf_flights == flights_needed)\n",
    "                    bucket_flights = np.append(bucket_flights, sf_flights)\n",
    "                \n",
    "        else:\n",
    "            if flights_needed in bucket_flights:\n",
    "                bucket_flights = np.delete(bucket_flights,np.where(bucket_flights == flights_needed)[0])\n",
    "                sold_tickets[fare_id-1] +=1\n",
    "            else:\n",
    "                candidate_fares = np.where(flight_fare_df.iloc[flights_needed[0] - 1,] == 1)[0]\n",
    "                fully_booked_fares = np.array(np.where(allocations == 0)) + 1\n",
    "                candidate_fares = candidate_fares[~np.in1d(candidate_fares,fully_booked_fares)]\n",
    "                \n",
    "                candidate_fare_shadow_prices = np.zeros((candidate_fares.shape))\n",
    "                for i in range(candidate_fares.shape[0]):\n",
    "                    candidate_fare_shadow_prices[i] = get_shadow_price(candidate_fares[i] +1, shadow_prices_df)\n",
    "                \n",
    "                sacrificed_fare = \\\n",
    "                candidate_fares[np.where(candidate_fare_shadow_prices == \\\n",
    "                                         candidate_fare_shadow_prices.min())[0][0]]\n",
    "                \n",
    "                allocations[sacrificed_fare-1] -= 1\n",
    "                sold_tickets[fare_id-1] += 1\n",
    "                \n",
    "                if sum(flight_fare_df.iloc[:,sacrificed_fare-1]) == 2:\n",
    "                    sf_flights = np.array(np.where(flight_fare_df.iloc[:,sacrificed_fare-1] == 1)) + 1\n",
    "                    sf_flights = np.delete(sf_flights, sf_flights == flights_needed)\n",
    "                    bucket_flights = np.append(bucket_flights, sf_flights)\n",
    "                \n",
    "            if flights_needed[1] in bucket_flights:\n",
    "                bucket_flights = np.delete(bucket_flights,np.where(bucket_flights == flights_needed)[0])\n",
    "                sold_tickets[fare_id-1] +=1\n",
    "            else:\n",
    "                candidate_fares = np.where(flight_fare_df.iloc[flights_needed[0] - 1,] == 1)[0]\n",
    "                fully_booked_fares = np.array(np.where(allocations == 0)) + 1\n",
    "                candidate_fares = candidate_fares[~np.in1d(candidate_fares,fully_booked_fares)]\n",
    "                \n",
    "                candidate_fare_shadow_prices = np.zeros((candidate_fares.shape))\n",
    "                for i in range(candidate_fares.shape[0]):\n",
    "                    candidate_fare_shadow_prices[i] = get_shadow_price(candidate_fares[i] +1, shadow_prices_df)\n",
    "                \n",
    "                sacrificed_fare = \\\n",
    "                candidate_fares[np.where(candidate_fare_shadow_prices == \\\n",
    "                                         candidate_fare_shadow_prices.min())[0][0]]\n",
    "                \n",
    "                allocations[sacrificed_fare - 1] -= 1\n",
    "                sold_tickets[fare_id-1] += 1\n",
    "                \n",
    "                if sum(flight_fare_df.iloc[:,sacrificed_fare-1]) == 2:\n",
    "                    sf_flights = np.array(np.where(flight_fare_df.iloc[:,sacrificed_fare-1] == 1)) + 1\n",
    "                    sf_flights = np.delete(sf_flights, sf_flights == flights_needed)\n",
    "                    bucket_flights = np.append(bucket_flights, sf_flights)\n",
    "            \n",
    "            #napocitat ktery fares maj volny alokace, porovnat shadow pricy, vzit jim je, priradit a zbytek do bucketu\n",
    "            \n",
    "        \n",
    "        \n",
    "#     return allocations, shadow_prices_df, fare_id, sold_tickets, bucket_flights  \n",
    "    \n",
    "def run_allocations(history_day, allocations, shadow_prices_calc, flight_fare_df):\n",
    "    sold_tickets = np.zeros((144,1))\n",
    "    bucket_flights = np.array([])\n",
    "    for i in range(history_day.shape[0]):\n",
    "        allocate_seat(allocations, shadow_prices_calc, history_day['FARE_ID'][i], sold_tickets, flight_fare_df, bucket_flights)\n",
    "        if i % 50 == 0:\n",
    "            print(i)\n",
    "    \n",
    "    return sold_tickets\n",
    "    \n",
    "\n",
    "\n",
    "\n",
    "\n",
    "    "
   ]
  },
  {
   "cell_type": "code",
   "execution_count": 16,
   "metadata": {},
   "outputs": [
    {
     "data": {
      "text/plain": [
       "0"
      ]
     },
     "execution_count": 16,
     "metadata": {},
     "output_type": "execute_result"
    }
   ],
   "source": [
    "10 % 2"
   ]
  },
  {
   "cell_type": "code",
   "execution_count": 18,
   "metadata": {},
   "outputs": [
    {
     "name": "stdout",
     "output_type": "stream",
     "text": [
      "182.0\n"
     ]
    },
    {
     "name": "stderr",
     "output_type": "stream",
     "text": [
      "C:\\Users\\Radim\\Anaconda3\\lib\\site-packages\\ipykernel_launcher.py:17: FutureWarning: reshape is deprecated and will raise in a subsequent release. Please use .values.reshape(...) instead\n"
     ]
    }
   ],
   "source": [
    "flight_fare_df = pd.DataFrame(index=range(flights.shape[0]),columns=range(fares.shape[0]), data = 0)\n",
    "for i in range(fares.shape[0]):\n",
    "    used_flights = get_flights(i+1)\n",
    "    try: \n",
    "        flight_fare_df.iloc[int(used_flights[0]) - 1, i] = 1\n",
    "        flight_fare_df.iloc[int(used_flights[1]) - 1, i] = 1\n",
    "    except:\n",
    "        flight_fare_df.iloc[int(used_flights[0]) - 1, i] = 1\n",
    "\n",
    "exp_demand = np.array(history['FARE_ID'].value_counts().sort_index())\n",
    "bounds = [(0, exp_demand[i]) for i in range(len(exp_demand))]\n",
    "capacity = flights['CAPACITY']\n",
    "\n",
    "allocations = scipy.optimize.linprog(c= - np.array(fares['PRICE']), A_ub=np.array(flight_fare_df), \n",
    "                                     b_ub=capacity, bounds=bounds).x\n",
    "print(sum(allocations))\n",
    "shadow_prices = scipy.optimize.linprog(c=capacity.reshape((16,)), A_ub= - np.array(flight_fare_df).T,\n",
    "                                       b_ub= - np.array(fares['PRICE']).T).x"
   ]
  },
  {
   "cell_type": "code",
   "execution_count": 19,
   "metadata": {},
   "outputs": [
    {
     "name": "stderr",
     "output_type": "stream",
     "text": [
      "C:\\Users\\Radim\\Anaconda3\\lib\\site-packages\\ipykernel_launcher.py:72: DeprecationWarning: elementwise == comparison failed; this will raise an error in the future.\n",
      "C:\\Users\\Radim\\Anaconda3\\lib\\site-packages\\ipykernel_launcher.py:91: DeprecationWarning: elementwise == comparison failed; this will raise an error in the future.\n",
      "C:\\Users\\Radim\\Anaconda3\\lib\\site-packages\\ipykernel_launcher.py:91: FutureWarning: in the future insert will treat boolean arrays and array-likes as boolean index instead of casting it to integer\n",
      "C:\\Users\\Radim\\Anaconda3\\lib\\site-packages\\ipykernel_launcher.py:113: DeprecationWarning: elementwise == comparison failed; this will raise an error in the future.\n",
      "C:\\Users\\Radim\\Anaconda3\\lib\\site-packages\\ipykernel_launcher.py:113: FutureWarning: in the future insert will treat boolean arrays and array-likes as boolean index instead of casting it to integer\n",
      "C:\\Users\\Radim\\Anaconda3\\lib\\site-packages\\ipykernel_launcher.py:47: DeprecationWarning: elementwise == comparison failed; this will raise an error in the future.\n",
      "C:\\Users\\Radim\\Anaconda3\\lib\\site-packages\\ipykernel_launcher.py:68: DeprecationWarning: elementwise == comparison failed; this will raise an error in the future.\n",
      "C:\\Users\\Radim\\Anaconda3\\lib\\site-packages\\ipykernel_launcher.py:68: FutureWarning: in the future insert will treat boolean arrays and array-likes as boolean index instead of casting it to integer\n"
     ]
    },
    {
     "name": "stdout",
     "output_type": "stream",
     "text": [
      "0\n"
     ]
    },
    {
     "name": "stderr",
     "output_type": "stream",
     "text": [
      "C:\\Users\\Radim\\Anaconda3\\lib\\site-packages\\ipykernel_launcher.py:95: DeprecationWarning: elementwise == comparison failed; this will raise an error in the future.\n"
     ]
    },
    {
     "name": "stdout",
     "output_type": "stream",
     "text": [
      "50\n",
      "100\n",
      "150\n",
      "200\n"
     ]
    }
   ],
   "source": [
    "hist = pd.read_csv('~\\Documents\\GitHub\\Quant_Marketing_UvA\\Ass_3\\Future\\Bookings_001.csv', sep = ';')\n",
    "tickets = run_allocations(hist, allocations, shadow_prices, flight_fare_df)"
   ]
  },
  {
   "cell_type": "code",
   "execution_count": 20,
   "metadata": {},
   "outputs": [
    {
     "data": {
      "text/plain": [
       "array([430.])"
      ]
     },
     "execution_count": 20,
     "metadata": {},
     "output_type": "execute_result"
    }
   ],
   "source": [
    "sum(tickets)"
   ]
  },
  {
   "cell_type": "markdown",
   "metadata": {},
   "source": [
    "## optimization"
   ]
  }
 ],
 "metadata": {
  "kernelspec": {
   "display_name": "Python 3",
   "language": "python",
   "name": "python3"
  },
  "language_info": {
   "codemirror_mode": {
    "name": "ipython",
    "version": 3
   },
   "file_extension": ".py",
   "mimetype": "text/x-python",
   "name": "python",
   "nbconvert_exporter": "python",
   "pygments_lexer": "ipython3",
   "version": "3.6.4"
  }
 },
 "nbformat": 4,
 "nbformat_minor": 2
}
