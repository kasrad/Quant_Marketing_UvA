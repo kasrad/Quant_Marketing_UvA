{
 "cells": [
  {
   "cell_type": "markdown",
   "metadata": {},
   "source": [
    "## preparation"
   ]
  },
  {
   "cell_type": "code",
   "execution_count": 1,
   "metadata": {},
   "outputs": [],
   "source": [
    "import pandas as pd\n",
    "import numpy as np\n",
    "import scipy.optimize\n",
    "import random"
   ]
  },
  {
   "cell_type": "code",
   "execution_count": 2,
   "metadata": {},
   "outputs": [],
   "source": [
    "fares = pd.read_csv('Fares.csv', sep = ';')\n",
    "flights = pd.read_csv('Flights.csv', sep = ';')"
   ]
  },
  {
   "cell_type": "code",
   "execution_count": 3,
   "metadata": {},
   "outputs": [],
   "source": [
    "history = pd.read_csv('~\\Documents\\GitHub\\Quant_Marketing_UvA\\Ass_3\\History\\Bookings_001.csv', sep = ';')"
   ]
  },
  {
   "cell_type": "code",
   "execution_count": 4,
   "metadata": {},
   "outputs": [],
   "source": [
    "history = pd.read_csv('~\\Documents\\GitHub\\Quant_Marketing_UvA\\Ass_3\\History\\Bookings_001.csv', sep = ';')\n",
    "history['id'] = '001'\n",
    "for i in range(2,101,1):\n",
    "    if len(str(i)) == 1:\n",
    "        i = '00' + str(i)\n",
    "    elif len(str(i)) == 2:\n",
    "        i = '0' + str(i)\n",
    "    else:\n",
    "        i = str(i)\n",
    "        \n",
    "        \n",
    "    hist = pd.read_csv('~\\Documents\\GitHub\\Quant_Marketing_UvA\\Ass_3\\History\\Bookings_' + i + '.csv', \n",
    "                       sep = ';')\n",
    "    hist['id'] = i\n",
    "    history = history.append(hist)\n",
    "    \n",
    "    \n",
    "   "
   ]
  },
  {
   "cell_type": "code",
   "execution_count": 5,
   "metadata": {},
   "outputs": [],
   "source": [
    "def get_demands(fare_id, history):\n",
    "    filt_history = history.loc[history.FARE_ID == fare_id,]\n",
    "    demands = filt_history['id'].value_counts()\n",
    "    return demands\n",
    "\n",
    "def get_capacity(flight_id):\n",
    "    return flights.loc[flights.FLIGHT_ID == flight_id]['CAPACITY']\n",
    "    \n",
    "def get_price(fare_id):\n",
    "    return fares.loc[fares.FARE_ID == fare_id]['PRICE']\n",
    "\n",
    "def get_flights(fare_id):\n",
    "    dep_air  = int(fares.loc[fares.FARE_ID == fare_id]['DEPARTURE_AIRPORT'])\n",
    "    dest_air = int(fares.loc[fares.FARE_ID == fare_id]['DESTINATION_AIRPORT'])\n",
    "   \n",
    "    if dep_air == 1 or dest_air == 1:\n",
    "        return [flights.loc[(flights.DEPARTURE_AIRPORT == dep_air) &\n",
    "                           (flights.DESTINATION_AIRPORT == dest_air)]['FLIGHT_ID']]\n",
    "    else:\n",
    "        return [flights.loc[(flights.DEPARTURE_AIRPORT == dep_air)]['FLIGHT_ID'], \n",
    "                flights.loc[(flights.DESTINATION_AIRPORT == dest_air)]['FLIGHT_ID']]\n",
    "\n",
    "\n",
    "\n",
    "\n",
    "    "
   ]
  },
  {
   "cell_type": "code",
   "execution_count": 7,
   "metadata": {},
   "outputs": [],
   "source": [
    "flight_fare_df = pd.DataFrame(index=range(flights.shape[0]),columns=range(fares.shape[0]), data = 0)\n",
    "for i in range(fares.shape[0]):\n",
    "    used_flights = get_flights(i+1)\n",
    "    try: \n",
    "        flight_fare_df.iloc[int(used_flights[0]) - 1, i] = 1\n",
    "        flight_fare_df.iloc[int(used_flights[1]) - 1, i] = 1\n",
    "    except:\n",
    "        flight_fare_df.iloc[int(used_flights[0]) - 1, i] = 1\n",
    "        "
   ]
  },
  {
   "cell_type": "markdown",
   "metadata": {},
   "source": [
    "## optimization"
   ]
  },
  {
   "cell_type": "code",
   "execution_count": 8,
   "metadata": {},
   "outputs": [
    {
     "name": "stdout",
     "output_type": "stream",
     "text": [
      "Index(['FARE_ID', 'DEPARTURE_AIRPORT', 'DESTINATION_AIRPORT', 'CLASS',\n",
      "       'PRICE'],\n",
      "      dtype='object') (144, 5)\n",
      "Index(['FLIGHT_ID', 'DEPARTURE_AIRPORT', 'DESTINATION_AIRPORT', 'CAPACITY'], dtype='object') (16, 4)\n",
      "Index(['TIME', 'FARE_ID', 'id'], dtype='object') (24120, 3)\n"
     ]
    }
   ],
   "source": [
    "print(fares.columns, fares.shape)\n",
    "print(flights.columns, flights.shape)\n",
    "print(history.columns, history.shape)"
   ]
  },
  {
   "cell_type": "code",
   "execution_count": 9,
   "metadata": {},
   "outputs": [],
   "source": [
    "def kvadr_x(x):\n",
    "    return (x ** 2 - 3 * x + 8) "
   ]
  },
  {
   "cell_type": "code",
   "execution_count": 10,
   "metadata": {},
   "outputs": [],
   "source": [
    "cons = ( {'type': 'ineq',\n",
    "            'fun' : lambda x: np.array([-x, 0])})"
   ]
  },
  {
   "cell_type": "code",
   "execution_count": 11,
   "metadata": {},
   "outputs": [
    {
     "data": {
      "text/plain": [
       "     fun: 7.999999999999997\n",
       "     jac: array([-3.])\n",
       " message: 'Optimization terminated successfully.'\n",
       "    nfev: 10\n",
       "     nit: 3\n",
       "    njev: 3\n",
       "  status: 0\n",
       " success: True\n",
       "       x: array([8.8817842e-16])"
      ]
     },
     "execution_count": 11,
     "metadata": {},
     "output_type": "execute_result"
    }
   ],
   "source": [
    "x0 = np.array([100])\n",
    "scipy.optimize.minimize(kvadr_x, x0,  method='SLSQP', constraints = cons)"
   ]
  },
  {
   "cell_type": "raw",
   "metadata": {},
   "source": [
    "#problem je v constraints nekde\n",
    "def profit(x):\n",
    "    return -(np.array(fares['PRICE']) @ x)\n",
    "\n",
    "capacity = flights['CAPACITY']\n",
    "capacity = np.reshape(capacity, (16, 1))\n",
    "x0 = np.zeros((fares.shape[0], ))\n",
    "\n",
    "print(capacity.shape)\n",
    "print(np.reshape(np.array(flight_fare_df) @ x0,(16)).shape)\n",
    "print(x0.shape)\n",
    "\n",
    "cons = ({'type' : 'ineq',\n",
    "         'fun' : lambda x: np.array([capacity, np.reshape(np.array(flight_fare_df) @ x,(16, 1))])})\n",
    "         \n",
    "scipy.optimize.minimize(profit, x0,  method='SLSQP', constraints = cons)\n",
    "         \n",
    "\n"
   ]
  },
  {
   "cell_type": "code",
   "execution_count": 13,
   "metadata": {},
   "outputs": [],
   "source": [
    "exp_demand = np.array(history['FARE_ID'].value_counts().sort_index()) / 100"
   ]
  },
  {
   "cell_type": "code",
   "execution_count": 14,
   "metadata": {},
   "outputs": [
    {
     "data": {
      "text/plain": [
       "array([3.38, 1.45, 1.76, 0.82, 4.16, 1.32, 0.03, 0.01, 3.64, 1.78, 2.51,\n",
       "       0.78, 2.89, 1.23, 3.23, 1.32, 0.04, 0.03, 0.91, 0.35, 5.14, 2.32,\n",
       "       2.1 , 1.01, 2.05, 0.91, 4.83, 2.06, 3.2 , 1.18, 0.78, 0.17, 5.14,\n",
       "       2.31, 1.93, 0.73, 1.97, 0.78, 3.2 , 0.83, 3.87, 0.95, 2.5 , 0.99,\n",
       "       2.44, 0.85, 3.6 , 1.15, 1.2 , 0.48, 3.01, 1.02, 3.26, 0.94, 3.81,\n",
       "       1.54, 1.29, 0.56, 1.31, 0.37, 4.25, 1.31, 0.89, 0.35, 0.05, 0.01,\n",
       "       1.03, 0.34, 3.89, 1.16, 2.68, 0.86, 0.83, 0.31, 4.2 , 1.7 , 3.65,\n",
       "       1.28, 0.5 , 0.21, 0.13, 0.06, 0.48, 0.1 , 3.66, 1.55, 3.15, 1.18,\n",
       "       1.91, 0.69, 1.73, 0.5 , 4.13, 1.39, 2.11, 0.8 , 3.8 , 1.2 , 0.26,\n",
       "       0.08, 4.86, 1.56, 0.35, 0.11, 2.38, 0.74, 0.32, 0.06, 3.17, 1.3 ,\n",
       "       4.88, 1.74, 1.32, 0.49, 1.9 , 0.52, 1.62, 0.71, 2.5 , 1.02, 2.39,\n",
       "       0.99, 3.34, 1.38, 4.27, 1.27, 3.03, 1.08, 0.56, 0.14, 1.79, 0.53,\n",
       "       3.92, 0.93, 1.17, 0.35, 0.92, 0.32, 2.08, 0.57, 3.69, 1.55, 3.9 ,\n",
       "       1.65])"
      ]
     },
     "execution_count": 14,
     "metadata": {},
     "output_type": "execute_result"
    }
   ],
   "source": [
    "exp_demand"
   ]
  },
  {
   "cell_type": "code",
   "execution_count": 38,
   "metadata": {},
   "outputs": [],
   "source": [
    "bounds = [(0, exp_demand[i]) for i in range(len(exp_demand))]"
   ]
  },
  {
   "cell_type": "code",
   "execution_count": 39,
   "metadata": {},
   "outputs": [],
   "source": [
    "allocations = scipy.optimize.linprog(c= - np.array(fares['PRICE']), A_ub=np.array(flight_fare_df), \n",
    "                                     b_ub=capacity, bounds=bounds)"
   ]
  },
  {
   "cell_type": "code",
   "execution_count": 40,
   "metadata": {},
   "outputs": [
    {
     "data": {
      "text/plain": [
       "     fun: -34721.03999999999\n",
       " message: 'Optimization terminated successfully.'\n",
       "     nit: 137\n",
       "   slack: array([0.  , 0.  , 0.  , 0.  , 0.  , 0.  , 0.  , 0.  , 0.  , 0.  , 0.  ,\n",
       "       0.  , 0.  , 0.  , 0.  , 0.  , 0.  , 0.  , 1.33, 0.  , 0.  , 0.  ,\n",
       "       0.03, 0.  , 2.3 , 0.  , 2.51, 0.  , 1.61, 0.  , 0.  , 0.  , 0.  ,\n",
       "       0.  , 0.  , 0.  , 5.14, 0.  , 2.1 , 0.  , 2.05, 0.  , 1.79, 0.  ,\n",
       "       0.  , 0.  , 0.  , 0.  , 1.6 , 0.  , 1.77, 0.  , 0.  , 0.  , 0.33,\n",
       "       0.  , 0.  , 0.  , 2.5 , 0.  , 2.44, 0.  , 3.6 , 0.  , 0.  , 0.  ,\n",
       "       3.01, 0.  , 0.17, 0.  , 3.81, 0.  , 1.29, 0.  , 1.31, 0.  , 0.  ,\n",
       "       0.  , 0.  , 0.  , 0.  , 0.  , 1.03, 0.  , 0.  , 0.  , 2.68, 0.  ,\n",
       "       0.83, 0.31, 0.88, 0.  , 2.47, 0.  , 0.5 , 0.  , 0.  , 0.  , 0.48,\n",
       "       0.  , 0.  , 0.  , 3.15, 0.  , 1.91, 0.69, 0.  , 0.  , 1.23, 0.  ,\n",
       "       2.11, 0.  , 0.83, 0.  , 0.26, 0.  , 4.86, 0.  , 0.09, 0.  , 0.  ,\n",
       "       0.  , 0.  , 0.  , 3.17, 0.  , 0.6 , 0.  , 0.  , 0.  , 0.  , 0.  ,\n",
       "       1.62, 0.  , 0.  , 0.  , 0.  , 0.  , 0.91, 0.  , 4.27, 0.  , 3.03,\n",
       "       0.  , 0.  , 0.  , 0.  , 0.  , 3.92, 0.  , 0.  , 0.  , 0.  , 0.  ,\n",
       "       1.25, 0.  , 0.  , 0.  , 3.9 , 0.  ])\n",
       "  status: 0\n",
       " success: True\n",
       "       x: array([3.38, 1.45, 0.43, 0.82, 4.16, 1.32, 0.  , 0.01, 1.34, 1.78, 0.  ,\n",
       "       0.78, 1.28, 1.23, 3.23, 1.32, 0.04, 0.03, 0.91, 0.35, 0.  , 2.32,\n",
       "       0.  , 1.01, 0.  , 0.91, 3.04, 2.06, 3.2 , 1.18, 0.78, 0.17, 3.54,\n",
       "       2.31, 0.16, 0.73, 1.97, 0.78, 2.87, 0.83, 3.87, 0.95, 0.  , 0.99,\n",
       "       0.  , 0.85, 0.  , 1.15, 1.2 , 0.48, 0.  , 1.02, 3.09, 0.94, 0.  ,\n",
       "       1.54, 0.  , 0.56, 0.  , 0.37, 4.25, 1.31, 0.89, 0.35, 0.05, 0.01,\n",
       "       0.  , 0.34, 3.89, 1.16, 0.  , 0.86, 0.  , 0.  , 3.32, 1.7 , 1.18,\n",
       "       1.28, 0.  , 0.21, 0.13, 0.06, 0.  , 0.1 , 3.66, 1.55, 0.  , 1.18,\n",
       "       0.  , 0.  , 1.73, 0.5 , 2.9 , 1.39, 0.  , 0.8 , 2.97, 1.2 , 0.  ,\n",
       "       0.08, 0.  , 1.56, 0.26, 0.11, 2.38, 0.74, 0.32, 0.06, 0.  , 1.3 ,\n",
       "       4.28, 1.74, 1.32, 0.49, 1.9 , 0.52, 0.  , 0.71, 2.5 , 1.02, 2.39,\n",
       "       0.99, 2.43, 1.38, 0.  , 1.27, 0.  , 1.08, 0.56, 0.14, 1.79, 0.53,\n",
       "       0.  , 0.93, 1.17, 0.35, 0.92, 0.32, 0.83, 0.57, 3.69, 1.55, 0.  ,\n",
       "       1.65])"
      ]
     },
     "execution_count": 40,
     "metadata": {},
     "output_type": "execute_result"
    }
   ],
   "source": [
    "allocations"
   ]
  },
  {
   "cell_type": "code",
   "execution_count": 52,
   "metadata": {},
   "outputs": [],
   "source": [
    "shadow_prices = scipy.optimize.linprog(c=capacity.reshape((16,)), A_ub= - np.array(flight_fare_df).T,\n",
    "                                       b_ub= - np.array(fares['PRICE']).T)"
   ]
  },
  {
   "cell_type": "code",
   "execution_count": 53,
   "metadata": {},
   "outputs": [
    {
     "data": {
      "text/plain": [
       "     fun: 87336.0\n",
       " message: 'Optimization terminated successfully.'\n",
       "     nit: 232\n",
       "   slack: array([168.,   0., 238.,   0., 469.,   0., 442.,   8., 427.,   0., 133.,\n",
       "         0., 147.,   0., 329.,   0., 168.,   0., 411.,  40., 681., 352.,\n",
       "       640., 248., 624., 232., 310.,  72., 316.,   8., 497.,   0., 238.,\n",
       "         0., 411.,  40., 726., 152., 680.,   8., 665.,   0., 405., 272.,\n",
       "       421., 288., 604., 296., 469.,   0., 681., 352., 726., 152., 947.,\n",
       "       296., 931., 280., 622., 160., 621.,  40., 798.,   0., 442.,   8.,\n",
       "       640., 248., 680.,   8., 947., 296., 990., 976., 574.,   0., 593.,\n",
       "        40., 794., 192., 427.,   0., 624., 232., 665.,   0., 931., 280.,\n",
       "       990., 976., 560.,   0., 579.,  40., 780., 192., 133.,   0., 310.,\n",
       "        72., 405., 272., 622., 160., 574.,   0., 560.,   0., 302., 176.,\n",
       "       477., 120., 147.,   0., 316.,   8., 421., 288., 621.,  40., 593.,\n",
       "        40., 579.,  40., 302., 176., 512., 288., 329.,   0., 497.,   0.,\n",
       "       604., 296., 798.,   0., 794., 192., 780., 192., 477., 120., 512.,\n",
       "       288.])\n",
       "  status: 0\n",
       " success: True\n",
       "       x: array([192., 272., 536., 504., 488., 152., 168., 376., 192., 272., 536.,\n",
       "       504., 488., 152., 168., 376.])"
      ]
     },
     "execution_count": 53,
     "metadata": {},
     "output_type": "execute_result"
    }
   ],
   "source": [
    "shadow_prices"
   ]
  },
  {
   "cell_type": "code",
   "execution_count": 20,
   "metadata": {},
   "outputs": [
    {
     "data": {
      "text/plain": [
       "array([ 24, 192,  34, 272,  67, 536,  62, 496,  61, 488,  19, 152,  21,\n",
       "       168,  47, 376,  24, 192,  53, 424,  47, 376,  56, 448,  56, 448,\n",
       "        34, 272,  44, 352,  71, 568,  34, 272,  53, 424,  82, 656,  96,\n",
       "       768,  95, 760,  19, 152,  19, 152,  44, 352,  67, 536,  47, 376,\n",
       "        82, 656,  93, 744,  93, 744,  66, 528,  83, 664, 114, 912,  62,\n",
       "       496,  56, 448,  96, 768,  93, 744,   2,  16,  82, 656,  79, 632,\n",
       "        86, 688,  61, 488,  56, 448,  95, 760,  93, 744,   2,  16,  80,\n",
       "       640,  77, 616,  84, 672,  19, 152,  34, 272,  19, 152,  66, 528,\n",
       "        82, 656,  80, 640,  18, 144,  51, 408,  21, 168,  44, 352,  19,\n",
       "       152,  83, 664,  79, 632,  77, 616,  18, 144,  32, 256,  47, 376,\n",
       "        71, 568,  44, 352, 114, 912,  86, 688,  84, 672,  51, 408,  32,\n",
       "       256], dtype=int64)"
      ]
     },
     "execution_count": 20,
     "metadata": {},
     "output_type": "execute_result"
    }
   ],
   "source": [
    "np.array(fares['PRICE'])"
   ]
  },
  {
   "cell_type": "markdown",
   "metadata": {},
   "source": [
    "## bid prices"
   ]
  },
  {
   "cell_type": "code",
   "execution_count": 33,
   "metadata": {},
   "outputs": [],
   "source": [
    "thresholds = np.sum(np.multiply(flight_fare_df.T, \n",
    "                               shadow_prices.x[:, np.newaxis].T), axis=1)"
   ]
  },
  {
   "cell_type": "code",
   "execution_count": 57,
   "metadata": {},
   "outputs": [
    {
     "data": {
      "text/plain": [
       "0      False\n",
       "1       True\n",
       "2      False\n",
       "3       True\n",
       "4      False\n",
       "5       True\n",
       "6      False\n",
       "7      False\n",
       "8      False\n",
       "9       True\n",
       "10     False\n",
       "11      True\n",
       "12     False\n",
       "13      True\n",
       "14     False\n",
       "15      True\n",
       "16     False\n",
       "17      True\n",
       "18     False\n",
       "19     False\n",
       "20     False\n",
       "21     False\n",
       "22     False\n",
       "23     False\n",
       "24     False\n",
       "25     False\n",
       "26     False\n",
       "27     False\n",
       "28     False\n",
       "29     False\n",
       "       ...  \n",
       "114    False\n",
       "115    False\n",
       "116    False\n",
       "117    False\n",
       "118    False\n",
       "119    False\n",
       "120    False\n",
       "121    False\n",
       "122    False\n",
       "123    False\n",
       "124    False\n",
       "125    False\n",
       "126    False\n",
       "127    False\n",
       "128    False\n",
       "129     True\n",
       "130    False\n",
       "131     True\n",
       "132    False\n",
       "133    False\n",
       "134    False\n",
       "135     True\n",
       "136    False\n",
       "137    False\n",
       "138    False\n",
       "139    False\n",
       "140    False\n",
       "141    False\n",
       "142    False\n",
       "143    False\n",
       "Length: 144, dtype: bool"
      ]
     },
     "execution_count": 57,
     "metadata": {},
     "output_type": "execute_result"
    }
   ],
   "source": [
    "np.array(fares['PRICE']) >= thresholds"
   ]
  },
  {
   "cell_type": "code",
   "execution_count": 65,
   "metadata": {},
   "outputs": [],
   "source": [
    "hist1 = pd.read_csv('~\\Documents\\GitHub\\Quant_Marketing_UvA\\Ass_3\\History\\Bookings_001.csv', sep = ';')"
   ]
  },
  {
   "cell_type": "code",
   "execution_count": 216,
   "metadata": {},
   "outputs": [
    {
     "ename": "ValueError",
     "evalue": "The truth value of a Series is ambiguous. Use a.empty, a.bool(), a.item(), a.any() or a.all().",
     "output_type": "error",
     "traceback": [
      "\u001b[1;31m---------------------------------------------------------------------------\u001b[0m",
      "\u001b[1;31mValueError\u001b[0m                                Traceback (most recent call last)",
      "\u001b[1;32m<ipython-input-216-15946caea7b7>\u001b[0m in \u001b[0;36m<module>\u001b[1;34m()\u001b[0m\n\u001b[1;32m----> 1\u001b[1;33m \u001b[0mhist1\u001b[0m\u001b[1;33m[\u001b[0m\u001b[0mhist1\u001b[0m\u001b[1;33m.\u001b[0m\u001b[0mTIME\u001b[0m \u001b[1;33m<=\u001b[0m \u001b[1;36m100\u001b[0m \u001b[1;33m&\u001b[0m \u001b[0mhist1\u001b[0m\u001b[1;33m.\u001b[0m\u001b[0mTIME\u001b[0m \u001b[1;33m>=\u001b[0m \u001b[1;36m0\u001b[0m\u001b[1;33m]\u001b[0m\u001b[1;33m.\u001b[0m\u001b[0mFARE_ID\u001b[0m\u001b[1;33m\u001b[0m\u001b[0m\n\u001b[0m",
      "\u001b[1;32m~\\Anaconda3\\lib\\site-packages\\pandas\\core\\generic.py\u001b[0m in \u001b[0;36m__nonzero__\u001b[1;34m(self)\u001b[0m\n\u001b[0;32m   1119\u001b[0m         raise ValueError(\"The truth value of a {0} is ambiguous. \"\n\u001b[0;32m   1120\u001b[0m                          \u001b[1;34m\"Use a.empty, a.bool(), a.item(), a.any() or a.all().\"\u001b[0m\u001b[1;33m\u001b[0m\u001b[0m\n\u001b[1;32m-> 1121\u001b[1;33m                          .format(self.__class__.__name__))\n\u001b[0m\u001b[0;32m   1122\u001b[0m \u001b[1;33m\u001b[0m\u001b[0m\n\u001b[0;32m   1123\u001b[0m     \u001b[0m__bool__\u001b[0m \u001b[1;33m=\u001b[0m \u001b[0m__nonzero__\u001b[0m\u001b[1;33m\u001b[0m\u001b[0m\n",
      "\u001b[1;31mValueError\u001b[0m: The truth value of a Series is ambiguous. Use a.empty, a.bool(), a.item(), a.any() or a.all()."
     ]
    }
   ],
   "source": [
    "hist1[hist1.TIME <= 100 & hist1.TIME >= 0].FARE_ID"
   ]
  },
  {
   "cell_type": "code",
   "execution_count": 106,
   "metadata": {},
   "outputs": [
    {
     "data": {
      "text/plain": [
       "(16,)"
      ]
     },
     "execution_count": 106,
     "metadata": {},
     "output_type": "execute_result"
    }
   ],
   "source": [
    "np.array(flight_fare_df.iloc[:, 10]).shape"
   ]
  },
  {
   "cell_type": "code",
   "execution_count": 221,
   "metadata": {},
   "outputs": [
    {
     "data": {
      "text/plain": [
       "array([[16],\n",
       "       [21],\n",
       "       [16],\n",
       "       [14],\n",
       "       [14],\n",
       "       [17],\n",
       "       [18],\n",
       "       [15],\n",
       "       [12],\n",
       "       [20],\n",
       "       [18],\n",
       "       [14],\n",
       "       [15],\n",
       "       [20],\n",
       "       [23],\n",
       "       [16]], dtype=int64)"
      ]
     },
     "execution_count": 221,
     "metadata": {},
     "output_type": "execute_result"
    }
   ],
   "source": [
    "(capacity - np.array(flight_fare_df.iloc[:, 10]).reshape((16, 1)))"
   ]
  },
  {
   "cell_type": "code",
   "execution_count": 63,
   "metadata": {},
   "outputs": [],
   "source": [
    "fares_available = np.array(fares['PRICE']) >= thresholds"
   ]
  },
  {
   "cell_type": "code",
   "execution_count": 130,
   "metadata": {},
   "outputs": [],
   "source": [
    "fares_ID = [np.where(fares_available)[i] + 1 for i in range(len(np.where(fares_available)))]"
   ]
  },
  {
   "cell_type": "code",
   "execution_count": 192,
   "metadata": {},
   "outputs": [
    {
     "data": {
      "text/plain": [
       "[array([  2,   4,   6,  10,  12,  14,  16,  18,  32,  34,  42,  50,  64,\n",
       "         76,  82,  86,  92,  98, 106, 108, 114, 130, 132, 136], dtype=int64)]"
      ]
     },
     "execution_count": 192,
     "metadata": {},
     "output_type": "execute_result"
    }
   ],
   "source": [
    "fares_ID"
   ]
  },
  {
   "cell_type": "code",
   "execution_count": 263,
   "metadata": {},
   "outputs": [],
   "source": [
    "accepted_fares = [fut1.FARE_ID.values[i] for i in range(len(fut1.FARE_ID.values)) \n",
    "                  if fut1.FARE_ID.values[i] in fares_ID[0]]"
   ]
  },
  {
   "cell_type": "code",
   "execution_count": 270,
   "metadata": {},
   "outputs": [],
   "source": [
    "fut = pd.read_csv('~\\Documents\\GitHub\\Quant_Marketing_UvA\\Ass_3\\Future\\Bookings_019.csv', sep = ';')"
   ]
  },
  {
   "cell_type": "code",
   "execution_count": 257,
   "metadata": {},
   "outputs": [],
   "source": [
    "fut1 = pd.read_csv('~\\Documents\\GitHub\\Quant_Marketing_UvA\\Ass_3\\Future\\Bookings_001.csv', sep = ';')"
   ]
  },
  {
   "cell_type": "code",
   "execution_count": 264,
   "metadata": {},
   "outputs": [],
   "source": [
    "indexes = [fut1.FARE_ID[i] in (np.unique(accepted_fares)) for i in range(len(fut1.FARE_ID))]"
   ]
  },
  {
   "cell_type": "code",
   "execution_count": 265,
   "metadata": {},
   "outputs": [
    {
     "data": {
      "text/plain": [
       "array([  2,   4,   6,  10,  14,  16,  34,  76,  86,  92,  98, 106, 114,\n",
       "       132], dtype=int64)"
      ]
     },
     "execution_count": 265,
     "metadata": {},
     "output_type": "execute_result"
    }
   ],
   "source": [
    "np.intersect1d(accepted_fares, fut1.FARE_ID)"
   ]
  },
  {
   "cell_type": "code",
   "execution_count": 267,
   "metadata": {},
   "outputs": [
    {
     "data": {
      "text/plain": [
       "array([111,   9, 133,  95,  41, 121, 141,  55,  51, 131,  21,  29,  21,\n",
       "         9,  39, 143,  41,  29, 109,  43, 101,  75,  27, 143,  61, 143,\n",
       "         9, 125,  21,  99,  21,  97,   9, 115,  41,  27, 109,  69, 131,\n",
       "       115,  37,   1,  71,  41,  23,   3, 113,  97,  41, 135,  89,  61,\n",
       "        29, 115, 121,  27,  33,  59, 141,  69, 111,  59,   9,  37,  71,\n",
       "        23,  97,  13,  97, 127, 113,  33,  11,  51,  43,  69, 101, 101,\n",
       "        91,  29, 129,  45,  39,  43, 131,  21, 127,  57,  39, 101,  51,\n",
       "        95,  79,  15,  47,  25,  33,  93,  97, 109, 101,  33,  75, 143,\n",
       "       105, 117, 101,  97, 129, 115,  61,  47, 109, 101,  51,  61,  15,\n",
       "        41,  21,  53, 117,  41,   9,  91,  55, 137,  85,  91,  61,  85,\n",
       "        67,  87,  47,  41,  61, 133,  11,  57, 127,  87, 123, 123,  76,\n",
       "        27, 101,  55, 121,  61,  22,  73,  95,  41,   5,  29, 141,  10,\n",
       "       111,  87,  53, 118,  98, 144,  53, 106, 142, 141,   4,   9,  34,\n",
       "       101,  25,   2,  80,  53,   9, 124,  30, 131,  89,  46,  76, 141,\n",
       "        62,  97,  56,   1,  30,  24,  21,  13,  96,  22,  44,  14,  89,\n",
       "        52,  92,  60,  26,  84,  48,  16,  60,   6,  96, 126,   2,  36,\n",
       "        98, 112, 120,  78,  62,  90,  34, 142, 128, 110,  36, 142, 110,\n",
       "        28, 102,  98,  88, 114,  70,  70, 134, 124, 119,  22,  52,  77,\n",
       "        86, 132,  92,  24, 144,  30], dtype=int64)"
      ]
     },
     "execution_count": 267,
     "metadata": {},
     "output_type": "execute_result"
    }
   ],
   "source": [
    "np.array(fut1.FARE_ID)"
   ]
  },
  {
   "cell_type": "code",
   "execution_count": 261,
   "metadata": {},
   "outputs": [],
   "source": [
    "def bid_prices(fares, capacity, flight_fare_df, bookings):\n",
    "    profit = 0\n",
    "    \n",
    "    for i in range(1, 7):\n",
    "        shadow_prices = scipy.optimize.linprog(c=capacity.reshape((16,)), A_ub= - np.array(flight_fare_df).T,\n",
    "                                               b_ub= - np.array(fares['PRICE']).T)\n",
    "        thresholds = np.sum(np.multiply(flight_fare_df.T, \n",
    "                               shadow_prices.x[:, np.newaxis].T), axis=1)\n",
    "\n",
    "        bookings_aux = bookings[(bookings.TIME <= (i * 100)) & (bookings.TIME >= ((i - 1) * 100))]\n",
    "        fares_available = np.array(fares['PRICE']) >= thresholds\n",
    "        fares_ID = [np.where(fares_available)[k] + 1 for k in range(len(np.where(fares_available)))]\n",
    "        accepted_fares = [bookings_aux.FARE_ID.values[k] for k in range(len(bookings_aux.FARE_ID.values))\n",
    "                          if bookings_aux.FARE_ID.values[k] in fares_ID[0]]\n",
    "        \n",
    "        for j in accepted_fares:\n",
    "            if np.sum(capacity > 0) == 16:\n",
    "                capacity = capacity - np.array(flight_fare_df.iloc[:, j - 1]).reshape((16, 1))\n",
    "                profit += fares.iloc[j - 1, -1]\n",
    "            elif np.sum((capacity \n",
    "                            - np.array(flight_fare_df.iloc[:, j - 1]).reshape((16, 1))) >= 0) == 16:\n",
    "                capacity = capacity - np.array(flight_fare_df.iloc[:, j - 1]).reshape((16, 1))\n",
    "                profit += fares.iloc[j - 1, -1]\n",
    "        print(profit, np.sum(capacity))\n",
    "            \n",
    "    return profit  \n",
    "    "
   ]
  },
  {
   "cell_type": "code",
   "execution_count": 271,
   "metadata": {},
   "outputs": [
    {
     "name": "stdout",
     "output_type": "stream",
     "text": [
      "0 270\n",
      "0 270\n",
      "0 270\n",
      "0 270\n",
      "2056 264\n",
      "7464 250\n"
     ]
    },
    {
     "data": {
      "text/plain": [
       "7464"
      ]
     },
     "execution_count": 271,
     "metadata": {},
     "output_type": "execute_result"
    }
   ],
   "source": [
    "bid_prices(fares, capacity, flight_fare_df, fut)"
   ]
  }
 ],
 "metadata": {
  "kernelspec": {
   "display_name": "Python 3",
   "language": "python",
   "name": "python3"
  },
  "language_info": {
   "codemirror_mode": {
    "name": "ipython",
    "version": 3
   },
   "file_extension": ".py",
   "mimetype": "text/x-python",
   "name": "python",
   "nbconvert_exporter": "python",
   "pygments_lexer": "ipython3",
   "version": "3.6.4"
  }
 },
 "nbformat": 4,
 "nbformat_minor": 2
}
