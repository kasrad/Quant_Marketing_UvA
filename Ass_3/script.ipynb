{
 "cells": [
  {
   "cell_type": "markdown",
   "metadata": {},
   "source": [
    "## preparation"
   ]
  },
  {
   "cell_type": "code",
   "execution_count": null,
   "metadata": {},
   "outputs": [],
   "source": [
    "import pandas as pd\n",
    "import numpy as np\n",
    "import scipy.optimize\n",
    "import random"
   ]
  },
  {
   "cell_type": "code",
   "execution_count": null,
   "metadata": {},
   "outputs": [],
   "source": [
    "fares = pd.read_csv('Fares.csv', sep = ';')\n",
    "flights = pd.read_csv('Flights.csv', sep = ';')\n"
   ]
  },
  {
   "cell_type": "code",
   "execution_count": null,
   "metadata": {},
   "outputs": [],
   "source": [
    "history = pd.read_csv('~\\Documents\\GitHub\\Quant_Marketing_UvA\\Ass_3\\History\\Bookings_001.csv', sep = ';')"
   ]
  },
  {
   "cell_type": "code",
   "execution_count": null,
   "metadata": {},
   "outputs": [],
   "source": [
    "history = pd.read_csv('~\\Documents\\GitHub\\Quant_Marketing_UvA\\Ass_3\\History\\Bookings_001.csv', sep = ';')\n",
    "history['id'] = '001'\n",
    "for i in range(2,101,1):\n",
    "    if len(str(i)) == 1:\n",
    "        i = '00' + str(i)\n",
    "    elif len(str(i)) == 2:\n",
    "        i = '0' + str(i)\n",
    "    else:\n",
    "        i = str(i)\n",
    "        \n",
    "        \n",
    "    hist = pd.read_csv('~\\Documents\\GitHub\\Quant_Marketing_UvA\\Ass_3\\History\\Bookings_' + i + '.csv', sep = ';')\n",
    "    hist['id'] = i\n",
    "    history = history.append(hist)\n",
    "    \n",
    "    \n",
    "   "
   ]
  },
  {
   "cell_type": "code",
   "execution_count": 36,
   "metadata": {},
   "outputs": [],
   "source": [
    "def get_demands(fare_id, history):\n",
    "    filt_history = history.loc[history.FARE_ID == fare_id,]\n",
    "    demands = filt_history['id'].value_counts()\n",
    "    return demands\n",
    "\n",
    "def get_capacity(flight_id):\n",
    "    return flights.loc[flights.FLIGHT_ID == flight_id]['CAPACITY']\n",
    "    \n",
    "def get_price(fare_id):\n",
    "    return fares.loc[fares.FARE_ID == fare_id]['PRICE']\n",
    "\n",
    "def get_flights(fare_id):\n",
    "    dep_air  = int(fares.loc[fares.FARE_ID == fare_id]['DEPARTURE_AIRPORT'])\n",
    "    dest_air = int(fares.loc[fares.FARE_ID == fare_id]['DESTINATION_AIRPORT'])\n",
    "   \n",
    "    if dep_air == 1 or dest_air == 1:\n",
    "        return [flights.loc[(flights.DEPARTURE_AIRPORT == dep_air) &\n",
    "                           (flights.DESTINATION_AIRPORT == dest_air)]['FLIGHT_ID']]\n",
    "    else:\n",
    "        return [flights.loc[(flights.DEPARTURE_AIRPORT == dep_air)]['FLIGHT_ID'], \n",
    "                flights.loc[(flights.DESTINATION_AIRPORT == dest_air)]['FLIGHT_ID']]\n",
    "    \n",
    "def get_shadow_price(fare_id, shadow_prices_df):\n",
    "    flights_needed = get_flights(fare_id)\n",
    "    if len(flights_needed) == 1:\n",
    "        shadow_price = shadow_prices_df[flights_needed[0] -1]\n",
    "    else:\n",
    "        shadow_price = shadow_prices_df[flights_needed[0]-1] + shadow_prices_df[flights_needed[1]-1]\n",
    "        \n",
    "    return(shadow_price)\n",
    "    \n",
    "    \n",
    "def allocate_seat(allocations, shadow_prices_df, fare_id, sold_tickets, flight_fare_df, bucket_flights):\n",
    "    #is there allocation available?\n",
    "    if allocations[fare_id-1] > 0:\n",
    "        allocations[fare_id-1] -= 1\n",
    "        sold_tickets[fare_id-1] += 1 \n",
    "    else :\n",
    "        shadow_price = get_shadow_price(fare_id, shadow_prices_df)\n",
    "        flights_needed = get_flights(fare_id)\n",
    "#         flights_needed = get_flights(fare_id)\n",
    "#         if len(flights_needed) == 1:\n",
    "#             shadow_price = shadow_prices_df[flights_needed-1]\n",
    "#         else:\n",
    "#             shadow_price = shadow_prices_df[flights_needed[0]-1] + shadow_prices_df[flights_needed[1]-1]\n",
    "      \n",
    "        if len(flights_needed) == 1:\n",
    "            if flights_needed in bucket_flights:\n",
    "                bucket_flights = np.delete(bucket_flights,np.where(bucket_flights == flights_needed)[0])\n",
    "                sold_tickets[fare_id-1] +=1\n",
    "            else:\n",
    "                candidate_fares = np.where(flight_fare_df.iloc[int(flights_needed[0]) - 1,] == 1)[0]\n",
    "                fully_booked_fares = np.array(np.where(allocations == 0))\n",
    "                candidate_fares = candidate_fares[~np.in1d(candidate_fares,fully_booked_fares)]\n",
    "                \n",
    "                \n",
    "                candidate_fare_shadow_prices = np.zeros((candidate_fares.shape))\n",
    "                for i in range(candidate_fares.shape[0]):\n",
    "                    candidate_fare_shadow_prices[i] = get_price(candidate_fares[i] +1) - \\\n",
    "                                                    get_shadow_price(candidate_fares[i]+1, shadow_prices_df)\n",
    "                \n",
    "                try:\n",
    "                    sacrificed_fare = \\\n",
    "                    candidate_fares[np.where(candidate_fare_shadow_prices == \\\n",
    "                                             candidate_fare_shadow_prices.min())[0][0]]\n",
    "                \n",
    "                except:\n",
    "                    return\n",
    "                \n",
    "                \n",
    "                allocations[sacrificed_fare] -= 1\n",
    "                sold_tickets[fare_id-1] += 1\n",
    "                \n",
    "                if sum(flight_fare_df.iloc[:,sacrificed_fare-1]) == 2:\n",
    "                    sf_flights = np.array(np.where(flight_fare_df.iloc[:,sacrificed_fare-1] == 1)) +1\n",
    "                    sf_flights = np.delete(sf_flights, sf_flights == flights_needed)\n",
    "                    bucket_flights = np.append(bucket_flights, sf_flights)\n",
    "                \n",
    "        else:\n",
    "            if np.array(flights_needed[0]) in bucket_flights:\n",
    "                bucket_flights = np.delete(bucket_flights,np.where(bucket_flights == flights_needed)[0])\n",
    "                sold_tickets[fare_id-1] +=1\n",
    "            else:\n",
    "                candidate_fares = np.where(flight_fare_df.iloc[int(flights_needed[0]) - 1,] == 1)[0]\n",
    "                fully_booked_fares = np.array(np.where(allocations == 0))\n",
    "                candidate_fares = candidate_fares[~np.in1d(candidate_fares,fully_booked_fares)]\n",
    "                \n",
    "                candidate_fare_shadow_prices = np.zeros((candidate_fares.shape))\n",
    "                for i in range(candidate_fares.shape[0]):\n",
    "                    candidate_fare_shadow_prices[i] = get_price(candidate_fares[i] +1) - \\\n",
    "                                                    get_shadow_price(candidate_fares[i] +1, shadow_prices_df)\n",
    "                \n",
    "                try:\n",
    "                    sacrificed_fare = \\\n",
    "                    candidate_fares[np.where(candidate_fare_shadow_prices == \\\n",
    "                                             candidate_fare_shadow_prices.min())[0][0]]\n",
    "                    \n",
    "                except:\n",
    "                    return\n",
    "                \n",
    "                allocations[sacrificed_fare] -= 1\n",
    "                sold_tickets[fare_id-1] += 1\n",
    "                \n",
    "                if sum(flight_fare_df.iloc[:,sacrificed_fare-1]) == 2:\n",
    "                    sf_flights = np.array(np.where(flight_fare_df.iloc[:,sacrificed_fare-1] == 1)) + 1\n",
    "                    sf_flights = np.delete(sf_flights, sf_flights == flights_needed)\n",
    "                    bucket_flights = np.append(bucket_flights, sf_flights)\n",
    "                \n",
    "            if np.array(flights_needed[1]) in bucket_flights:\n",
    "                bucket_flights = np.delete(bucket_flights,np.where(bucket_flights == flights_needed)[0])\n",
    "                sold_tickets[fare_id-1] +=1\n",
    "            else:\n",
    "                candidate_fares = np.where(flight_fare_df.iloc[int(flights_needed[1]) - 1,] == 1)[0]\n",
    "                fully_booked_fares = np.array(np.where(allocations == 0))\n",
    "                candidate_fares = candidate_fares[~np.in1d(candidate_fares,fully_booked_fares)]\n",
    "                \n",
    "                candidate_fare_shadow_prices = np.zeros((candidate_fares.shape))\n",
    "                for i in range(candidate_fares.shape[0]):\n",
    "                    candidate_fare_shadow_prices[i] = get_price(candidate_fares[i] +1) -\\\n",
    "                                                    get_shadow_price(candidate_fares[i] +1, shadow_prices_df)\n",
    "                \n",
    "                try:\n",
    "                    sacrificed_fare = \\\n",
    "                    candidate_fares[np.where(candidate_fare_shadow_prices == \\\n",
    "                                             candidate_fare_shadow_prices.min())[0][0]]\n",
    "                    \n",
    "                except:\n",
    "                    return\n",
    "                \n",
    "                allocations[sacrificed_fare] -= 1\n",
    "                sold_tickets[fare_id-1] += 1\n",
    "                \n",
    "                if sum(flight_fare_df.iloc[:,sacrificed_fare-1]) == 2:\n",
    "                    sf_flights = np.array(np.where(flight_fare_df.iloc[:,sacrificed_fare-1] == 1)) + 1\n",
    "                    sf_flights = np.delete(sf_flights, sf_flights == flights_needed)\n",
    "                    bucket_flights = np.append(bucket_flights, sf_flights)\n",
    "                    \n",
    "            \n",
    "            #napocitat ktery fares maj volny alokace, porovnat shadow pricy, vzit jim je, priradit a zbytek do bucketu\n",
    "            \n",
    "        \n",
    "        \n",
    "#     return allocations, shadow_prices_df, fare_id, sold_tickets, bucket_flights  \n",
    "    \n",
    "def run_allocations(history_day, allocations, shadow_prices_calc, flight_fare_df):\n",
    "    sold_tickets = np.zeros((144,1))\n",
    "    bucket_flights = np.array([])\n",
    "    for i in range(history_day.shape[0]):\n",
    "        allocate_seat(allocations, shadow_prices_calc, history_day['FARE_ID'][i], sold_tickets, flight_fare_df, bucket_flights)\n",
    "        \n",
    "    return sold_tickets\n",
    "    \n",
    "\n",
    "\n",
    "\n",
    "\n",
    "    "
   ]
  },
  {
   "cell_type": "code",
   "execution_count": 44,
   "metadata": {},
   "outputs": [
    {
     "name": "stderr",
     "output_type": "stream",
     "text": [
      "C:\\Users\\Radim\\Anaconda3\\lib\\site-packages\\numpy\\core\\fromnumeric.py:52: FutureWarning: reshape is deprecated and will raise in a subsequent release. Please use .values.reshape(...) instead\n",
      "  return getattr(obj, method)(*args, **kwds)\n"
     ]
    }
   ],
   "source": [
    "flight_fare_df = pd.DataFrame(index=range(flights.shape[0]),columns=range(fares.shape[0]), data = 0)\n",
    "\n",
    "for i in range(fares.shape[0]):\n",
    "    used_flights = get_flights(i+1)\n",
    "    try: \n",
    "        flight_fare_df.iloc[int(used_flights[0]) - 1, i] = 1\n",
    "        flight_fare_df.iloc[int(used_flights[1]) - 1, i] = 1\n",
    "    except:\n",
    "        flight_fare_df.iloc[int(used_flights[0]) - 1, i] = 1\n",
    "\n",
    "\n",
    "capacity = flights['CAPACITY']\n",
    "capacity = np.reshape(capacity, (16, 1))\n",
    "        \n",
    "        \n",
    "exp_demand = np.array(history['FARE_ID'].value_counts().sort_index()) / 100\n",
    "\n",
    "bounds = np.array([exp_demand[i] for i in range(len(exp_demand))]).reshape((144, 1))\n",
    "\n",
    "A_ub=pd.DataFrame(np.vstack([np.array(flight_fare_df), np.identity(144)]))\n",
    "b_ub=np.vstack([capacity, bounds])\n",
    "\n",
    "allocations = scipy.optimize.linprog(c= - np.array(fares['PRICE']), A_ub=A_ub, \n",
    "                                     b_ub=b_ub).x\n",
    "allocations = np.floor(allocations)\n",
    "\n",
    "shadow_prices = scipy.optimize.linprog(c=b_ub.reshape((160,)), A_ub= - A_ub.T,\n",
    "                                       b_ub= - np.array(fares['PRICE']).T).x\n",
    "\n",
    "\n",
    "\n"
   ]
  },
  {
   "cell_type": "code",
   "execution_count": 45,
   "metadata": {},
   "outputs": [
    {
     "data": {
      "text/plain": [
       "array([3., 1., 0., 0., 4., 1., 0., 0., 1., 1., 0., 0., 1., 1., 3., 1., 0.,\n",
       "       0., 0., 0., 0., 2., 0., 1., 0., 0., 3., 2., 3., 1., 0., 0., 3., 2.,\n",
       "       0., 0., 1., 0., 2., 0., 3., 0., 0., 0., 0., 0., 0., 1., 1., 0., 0.,\n",
       "       1., 3., 0., 0., 1., 0., 0., 0., 0., 4., 1., 0., 0., 0., 0., 0., 0.,\n",
       "       3., 1., 0., 0., 0., 0., 3., 1., 1., 1., 0., 0., 0., 0., 0., 0., 3.,\n",
       "       1., 0., 1., 0., 0., 1., 0., 2., 1., 0., 0., 2., 1., 0., 0., 0., 1.,\n",
       "       0., 0., 2., 0., 0., 0., 0., 1., 4., 1., 1., 0., 1., 0., 0., 0., 2.,\n",
       "       1., 2., 0., 2., 1., 0., 1., 0., 1., 0., 0., 1., 0., 0., 0., 1., 0.,\n",
       "       0., 0., 0., 0., 3., 1., 0., 1.])"
      ]
     },
     "execution_count": 45,
     "metadata": {},
     "output_type": "execute_result"
    }
   ],
   "source": [
    "allocations"
   ]
  },
  {
   "cell_type": "code",
   "execution_count": 46,
   "metadata": {},
   "outputs": [
    {
     "name": "stderr",
     "output_type": "stream",
     "text": [
      "C:\\Users\\Radim\\Anaconda3\\lib\\site-packages\\ipykernel_launcher.py:100: DeprecationWarning: elementwise == comparison failed; this will raise an error in the future.\n",
      "C:\\Users\\Radim\\Anaconda3\\lib\\site-packages\\ipykernel_launcher.py:100: FutureWarning: in the future insert will treat boolean arrays and array-likes as boolean index instead of casting it to integer\n",
      "C:\\Users\\Radim\\Anaconda3\\lib\\site-packages\\ipykernel_launcher.py:126: DeprecationWarning: elementwise == comparison failed; this will raise an error in the future.\n",
      "C:\\Users\\Radim\\Anaconda3\\lib\\site-packages\\ipykernel_launcher.py:126: FutureWarning: in the future insert will treat boolean arrays and array-likes as boolean index instead of casting it to integer\n",
      "C:\\Users\\Radim\\Anaconda3\\lib\\site-packages\\ipykernel_launcher.py:48: DeprecationWarning: elementwise == comparison failed; this will raise an error in the future.\n",
      "C:\\Users\\Radim\\Anaconda3\\lib\\site-packages\\ipykernel_launcher.py:73: DeprecationWarning: elementwise == comparison failed; this will raise an error in the future.\n",
      "C:\\Users\\Radim\\Anaconda3\\lib\\site-packages\\ipykernel_launcher.py:73: FutureWarning: in the future insert will treat boolean arrays and array-likes as boolean index instead of casting it to integer\n",
      "C:\\Users\\Radim\\Anaconda3\\lib\\site-packages\\ipykernel_launcher.py:104: DeprecationWarning: elementwise == comparison failed; this will raise an error in the future.\n"
     ]
    }
   ],
   "source": [
    "hist = pd.read_csv('~\\Documents\\GitHub\\Quant_Marketing_UvA\\Ass_3\\History\\Bookings_009.csv', sep = ';')\n",
    "tickets = run_allocations(hist, allocations, shadow_prices, flight_fare_df)"
   ]
  },
  {
   "cell_type": "code",
   "execution_count": 50,
   "metadata": {},
   "outputs": [
    {
     "name": "stdout",
     "output_type": "stream",
     "text": [
      "[0. 0. 0. 0. 0. 0. 0. 0. 0. 0. 0. 0. 0. 0. 0. 0. 0. 0. 0. 0. 0. 0. 0. 0.\n",
      " 0. 0. 0. 0. 0. 0. 0. 0. 0. 0. 0. 0. 0. 0. 0. 0. 0. 0. 0. 0. 0. 0. 0. 0.\n",
      " 0. 0. 0. 0. 0. 0. 0. 0. 0. 0. 0. 0. 0. 0. 0. 0. 0. 0. 0. 0. 0. 0. 0. 0.\n",
      " 0. 0. 0. 0. 0. 0. 0. 0. 0. 0. 0. 0. 0. 0. 0. 0. 0. 0. 0. 0. 0. 0. 0. 0.\n",
      " 0. 0. 0. 0. 0. 0. 0. 0. 0. 0. 0. 0. 0. 0. 0. 0. 0. 0. 0. 0. 0. 0. 0. 0.\n",
      " 0. 0. 0. 0. 0. 0. 0. 0. 0. 0. 0. 0. 0. 0. 0. 0. 0. 0. 0. 0. 0. 0. 0. 0.]\n",
      "[6757.]\n"
     ]
    }
   ],
   "source": [
    "print(allocations)\n",
    "print(tickets.T @ np.array(fares.PRICE))"
   ]
  },
  {
   "cell_type": "code",
   "execution_count": null,
   "metadata": {},
   "outputs": [
    {
     "name": "stderr",
     "output_type": "stream",
     "text": [
      "C:\\Users\\Radim\\Anaconda3\\lib\\site-packages\\ipykernel_launcher.py:100: DeprecationWarning: elementwise == comparison failed; this will raise an error in the future.\n",
      "C:\\Users\\Radim\\Anaconda3\\lib\\site-packages\\ipykernel_launcher.py:100: FutureWarning: in the future insert will treat boolean arrays and array-likes as boolean index instead of casting it to integer\n",
      "C:\\Users\\Radim\\Anaconda3\\lib\\site-packages\\ipykernel_launcher.py:126: DeprecationWarning: elementwise == comparison failed; this will raise an error in the future.\n",
      "C:\\Users\\Radim\\Anaconda3\\lib\\site-packages\\ipykernel_launcher.py:126: FutureWarning: in the future insert will treat boolean arrays and array-likes as boolean index instead of casting it to integer\n",
      "C:\\Users\\Radim\\Anaconda3\\lib\\site-packages\\ipykernel_launcher.py:104: DeprecationWarning: elementwise == comparison failed; this will raise an error in the future.\n",
      "C:\\Users\\Radim\\Anaconda3\\lib\\site-packages\\ipykernel_launcher.py:48: DeprecationWarning: elementwise == comparison failed; this will raise an error in the future.\n",
      "C:\\Users\\Radim\\Anaconda3\\lib\\site-packages\\ipykernel_launcher.py:73: DeprecationWarning: elementwise == comparison failed; this will raise an error in the future.\n",
      "C:\\Users\\Radim\\Anaconda3\\lib\\site-packages\\ipykernel_launcher.py:73: FutureWarning: in the future insert will treat boolean arrays and array-likes as boolean index instead of casting it to integer\n"
     ]
    },
    {
     "name": "stdout",
     "output_type": "stream",
     "text": [
      "001\n",
      "[0. 0. 0. 0. 0. 0. 0. 0. 0. 0. 0. 0. 0. 0. 0. 0. 0. 0. 0. 0. 0. 0. 0. 0.\n",
      " 0. 0. 0. 0. 0. 0. 0. 0. 0. 0. 0. 0. 0. 0. 0. 0. 0. 0. 0. 0. 0. 0. 0. 0.\n",
      " 0. 0. 0. 0. 0. 0. 0. 0. 0. 0. 0. 0. 0. 0. 0. 0. 0. 0. 0. 0. 0. 0. 0. 0.\n",
      " 0. 0. 0. 0. 0. 0. 0. 0. 0. 0. 0. 0. 0. 0. 0. 0. 0. 0. 0. 0. 0. 0. 0. 0.\n",
      " 0. 0. 0. 0. 0. 0. 0. 0. 0. 0. 0. 0. 0. 0. 0. 0. 0. 0. 0. 0. 0. 0. 0. 0.\n",
      " 0. 0. 0. 0. 0. 0. 0. 0. 0. 0. 0. 0. 0. 0. 0. 0. 0. 0. 0. 0. 0. 0. 0. 0.]\n",
      "002\n",
      "[0. 0. 0. 0. 0. 0. 0. 0. 0. 0. 0. 0. 0. 0. 0. 0. 0. 0. 0. 0. 0. 0. 0. 0.\n",
      " 0. 0. 0. 0. 0. 0. 0. 0. 0. 0. 0. 0. 0. 0. 0. 0. 0. 0. 0. 0. 0. 0. 0. 0.\n",
      " 0. 0. 0. 0. 0. 0. 0. 0. 0. 0. 0. 0. 0. 0. 0. 0. 0. 0. 0. 0. 0. 0. 0. 0.\n",
      " 0. 0. 0. 0. 0. 0. 0. 0. 0. 0. 0. 0. 0. 0. 0. 0. 0. 0. 0. 0. 0. 0. 0. 0.\n",
      " 0. 0. 0. 0. 0. 0. 0. 0. 0. 0. 0. 0. 0. 0. 0. 0. 0. 0. 0. 0. 0. 0. 0. 0.\n",
      " 0. 0. 0. 0. 0. 0. 0. 0. 0. 0. 0. 0. 0. 0. 0. 0. 0. 0. 0. 0. 0. 0. 0. 0.]\n",
      "003\n",
      "[0. 0. 0. 0. 0. 0. 0. 0. 0. 0. 0. 0. 0. 0. 0. 0. 0. 0. 0. 0. 0. 0. 0. 0.\n",
      " 0. 0. 0. 0. 0. 0. 0. 0. 0. 0. 0. 0. 0. 0. 0. 0. 0. 0. 0. 0. 0. 0. 0. 0.\n",
      " 0. 0. 0. 0. 0. 0. 0. 0. 0. 0. 0. 0. 0. 0. 0. 0. 0. 0. 0. 0. 0. 0. 0. 0.\n",
      " 0. 0. 0. 0. 0. 0. 0. 0. 0. 0. 0. 0. 0. 0. 0. 0. 0. 0. 0. 0. 0. 0. 0. 0.\n",
      " 0. 0. 0. 0. 0. 0. 0. 0. 0. 0. 0. 0. 0. 0. 0. 0. 0. 0. 0. 0. 0. 0. 0. 0.\n",
      " 0. 0. 0. 0. 0. 0. 0. 0. 0. 0. 0. 0. 0. 0. 0. 0. 0. 0. 0. 0. 0. 0. 0. 0.]\n",
      "004\n",
      "[0. 0. 0. 0. 0. 0. 0. 0. 0. 0. 0. 0. 0. 0. 0. 0. 0. 0. 0. 0. 0. 0. 0. 0.\n",
      " 0. 0. 0. 0. 0. 0. 0. 0. 0. 0. 0. 0. 0. 0. 0. 0. 0. 0. 0. 0. 0. 0. 0. 0.\n",
      " 0. 0. 0. 0. 0. 0. 0. 0. 0. 0. 0. 0. 0. 0. 0. 0. 0. 0. 0. 0. 0. 0. 0. 0.\n",
      " 0. 0. 0. 0. 0. 0. 0. 0. 0. 0. 0. 0. 0. 0. 0. 0. 0. 0. 0. 0. 0. 0. 0. 0.\n",
      " 0. 0. 0. 0. 0. 0. 0. 0. 0. 0. 0. 0. 0. 0. 0. 0. 0. 0. 0. 0. 0. 0. 0. 0.\n",
      " 0. 0. 0. 0. 0. 0. 0. 0. 0. 0. 0. 0. 0. 0. 0. 0. 0. 0. 0. 0. 0. 0. 0. 0.]\n",
      "005\n",
      "[0. 0. 0. 0. 0. 0. 0. 0. 0. 0. 0. 0. 0. 0. 0. 0. 0. 0. 0. 0. 0. 0. 0. 0.\n",
      " 0. 0. 0. 0. 0. 0. 0. 0. 0. 0. 0. 0. 0. 0. 0. 0. 0. 0. 0. 0. 0. 0. 0. 0.\n",
      " 0. 0. 0. 0. 0. 0. 0. 0. 0. 0. 0. 0. 0. 0. 0. 0. 0. 0. 0. 0. 0. 0. 0. 0.\n",
      " 0. 0. 0. 0. 0. 0. 0. 0. 0. 0. 0. 0. 0. 0. 0. 0. 0. 0. 0. 0. 0. 0. 0. 0.\n",
      " 0. 0. 0. 0. 0. 0. 0. 0. 0. 0. 0. 0. 0. 0. 0. 0. 0. 0. 0. 0. 0. 0. 0. 0.\n",
      " 0. 0. 0. 0. 0. 0. 0. 0. 0. 0. 0. 0. 0. 0. 0. 0. 0. 0. 0. 0. 0. 0. 0. 0.]\n"
     ]
    }
   ],
   "source": [
    "revenue_total = 0\n",
    "for i in range(1,101):\n",
    "    allocations = scipy.optimize.linprog(c= - np.array(fares['PRICE']), A_ub=A_ub, \n",
    "                                     b_ub=b_ub).x\n",
    "    allocations = np.floor(allocations)\n",
    "    if len(str(i)) == 1:\n",
    "        i = '00' + str(i)\n",
    "    elif len(str(i)) == 2:\n",
    "        i = '0' + str(i)\n",
    "    else:\n",
    "        i = str(i)\n",
    "    hist = pd.read_csv('~\\Documents\\GitHub\\Quant_Marketing_UvA\\Ass_3\\Future\\Bookings_' + i + '.csv', sep = ';')\n",
    "    tickets = run_allocations(hist, allocations, shadow_prices, flight_fare_df)\n",
    "    revenue_total += (tickets.T @ np.array(fares.PRICE))\n",
    "    print(i)\n",
    "    print(allocations)\n",
    "    \n",
    "    \n",
    "print('The average revenue in one day is: ', revenue_total/100)"
   ]
  },
  {
   "cell_type": "code",
   "execution_count": null,
   "metadata": {},
   "outputs": [],
   "source": [
    "np.sum(tickets)"
   ]
  }
 ],
 "metadata": {
  "kernelspec": {
   "display_name": "Python 3",
   "language": "python",
   "name": "python3"
  },
  "language_info": {
   "codemirror_mode": {
    "name": "ipython",
    "version": 3
   },
   "file_extension": ".py",
   "mimetype": "text/x-python",
   "name": "python",
   "nbconvert_exporter": "python",
   "pygments_lexer": "ipython3",
   "version": "3.6.4"
  }
 },
 "nbformat": 4,
 "nbformat_minor": 2
}
