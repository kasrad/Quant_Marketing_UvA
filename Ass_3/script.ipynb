{
 "cells": [
  {
   "cell_type": "code",
   "execution_count": 31,
   "metadata": {},
   "outputs": [],
   "source": [
    "import pandas as pd\n",
    "import numpy as np\n",
    "import scipy.optimize"
   ]
  },
  {
   "cell_type": "code",
   "execution_count": 7,
   "metadata": {},
   "outputs": [],
   "source": [
    "fares = pd.read_csv('Fares.csv', sep = ';')\n",
    "flights = pd.read_csv('Flights.csv', sep = ';')\n"
   ]
  },
  {
   "cell_type": "code",
   "execution_count": 12,
   "metadata": {},
   "outputs": [],
   "source": [
    "history = pd.read_csv('~\\Documents\\GitHub\\Quant_Marketing_UvA\\Ass_3\\History\\Bookings_001.csv', sep = ';')"
   ]
  },
  {
   "cell_type": "code",
   "execution_count": 40,
   "metadata": {},
   "outputs": [],
   "source": [
    "history = pd.read_csv('~\\Documents\\GitHub\\Quant_Marketing_UvA\\Ass_3\\History\\Bookings_001.csv', sep = ';')\n",
    "history['id'] = '001'\n",
    "for i in range(2,101,1):\n",
    "    if len(str(i)) == 1:\n",
    "        i = '00' + str(i)\n",
    "    elif len(str(i)) == 2:\n",
    "        i = '0' + str(i)\n",
    "    else:\n",
    "        i = str(i)\n",
    "        \n",
    "        \n",
    "    hist = pd.read_csv('~\\Documents\\GitHub\\Quant_Marketing_UvA\\Ass_3\\History\\Bookings_' + i + '.csv', sep = ';')\n",
    "    hist['id'] = i\n",
    "    history = history.append(hist)\n",
    "    \n",
    "    \n",
    "   "
   ]
  },
  {
   "cell_type": "code",
   "execution_count": 45,
   "metadata": {},
   "outputs": [],
   "source": [
    "def get_demands(fare_id, history):\n",
    "    filt_history = history.loc[history.FARE_ID == fare_id,]\n",
    "    print(filt_history)"
   ]
  },
  {
   "cell_type": "code",
   "execution_count": 46,
   "metadata": {},
   "outputs": [
    {
     "name": "stdout",
     "output_type": "stream",
     "text": [
      "     TIME  FARE_ID\n",
      "id                \n",
      "001     1        1\n",
      "002     1        1\n",
      "004     1        1\n",
      "009     2        2\n",
      "010     1        1\n",
      "011     2        2\n",
      "012     1        1\n",
      "014     3        3\n",
      "016     2        2\n",
      "017     1        1\n",
      "020     1        1\n",
      "021     1        1\n",
      "022     2        2\n",
      "024     2        2\n",
      "026     2        2\n",
      "027     2        2\n",
      "028     1        1\n",
      "029     1        1\n",
      "039     4        4\n",
      "040     1        1\n",
      "041     2        2\n",
      "042     2        2\n",
      "044     1        1\n",
      "045     2        2\n",
      "047     1        1\n",
      "048     1        1\n",
      "051     1        1\n",
      "052     1        1\n",
      "053     1        1\n",
      "054     1        1\n",
      "055     1        1\n",
      "057     1        1\n",
      "058     2        2\n",
      "059     1        1\n",
      "060     2        2\n",
      "061     1        1\n",
      "064     1        1\n",
      "068     2        2\n",
      "070     2        2\n",
      "071     2        2\n",
      "073     1        1\n",
      "074     2        2\n",
      "075     1        1\n",
      "077     3        3\n",
      "078     1        1\n",
      "079     1        1\n",
      "080     1        1\n",
      "081     2        2\n",
      "082     1        1\n",
      "083     1        1\n",
      "084     6        6\n",
      "085     1        1\n",
      "086     1        1\n",
      "088     1        1\n",
      "089     1        1\n",
      "092     1        1\n",
      "093     2        2\n",
      "095     2        2\n",
      "098     2        2\n",
      "099     1        1\n"
     ]
    }
   ],
   "source": [
    "get_demands(137, history)"
   ]
  }
 ],
 "metadata": {
  "kernelspec": {
   "display_name": "Python 3",
   "language": "python",
   "name": "python3"
  },
  "language_info": {
   "codemirror_mode": {
    "name": "ipython",
    "version": 3
   },
   "file_extension": ".py",
   "mimetype": "text/x-python",
   "name": "python",
   "nbconvert_exporter": "python",
   "pygments_lexer": "ipython3",
   "version": "3.6.4"
  }
 },
 "nbformat": 4,
 "nbformat_minor": 2
}
