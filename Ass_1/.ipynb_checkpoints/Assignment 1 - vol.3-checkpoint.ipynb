{
 "cells": [
  {
   "cell_type": "code",
   "execution_count": 1,
   "metadata": {
    "collapsed": true
   },
   "outputs": [],
   "source": [
    "import pandas as pd\n",
    "import numpy as np\n",
    "from sklearn.linear_model import LogisticRegression\n",
    "from sklearn.linear_model import SGDClassifier\n",
    "from sklearn.preprocessing import LabelEncoder\n",
    "from sklearn.preprocessing import StandardScaler\n",
    "from sklearn.model_selection import train_test_split\n",
    "import matplotlib.pyplot as plt\n",
    "import seaborn as sns\n",
    "from sklearn.preprocessing import OneHotEncoder"
   ]
  },
  {
   "cell_type": "code",
   "execution_count": 2,
   "metadata": {
    "collapsed": true
   },
   "outputs": [],
   "source": [
    "def data_prep(data):\n",
    "    data.columns = ['id', 'click', 'hour', 'C1', 'banner_pos', 'site_id', 'site_domain',\n",
    "                    'site_category', 'app_id', 'app_domain', 'app_category', 'device_id',\n",
    "                    'device_ip', 'device_model', 'device_type', 'device_conn_type', 'C14',\n",
    "                    'C15', 'C16', 'C17', 'C18', 'C19', 'C20', 'C21']\n",
    "    data = data.drop('id', axis=1)\n",
    "    data = data.drop('C1', axis = 1)\n",
    "    data = data.drop('C14', axis = 1)\n",
    "    str(data['hour'][4])[-2:]\n",
    "    hours = [str(i)[-2:] for i in data['hour']]\n",
    "    data['hours_clean'] = hours\n",
    "    data = data.drop('hour', axis = 1)\n",
    "    for i in range(1,data.shape[1]):\n",
    "        le = LabelEncoder()\n",
    "        le.fit(data.iloc[:, i].unique())\n",
    "        data.iloc[:, i] = le.transform(data.iloc[:, i])\n",
    "    return(data.drop('click', axis = 1), data['click'])"
   ]
  },
  {
   "cell_type": "code",
   "execution_count": 3,
   "metadata": {
    "collapsed": true
   },
   "outputs": [],
   "source": [
    "data1 = pd.read_csv('trainshuf.csv', nrows = 4.5 * 10 ** 6)\n",
    "x, y = data_prep(data1)"
   ]
  },
  {
   "cell_type": "code",
   "execution_count": 4,
   "metadata": {},
   "outputs": [
    {
     "name": "stdout",
     "output_type": "stream",
     "text": [
      "(4500000, 2339997)\n",
      "(4500000,)\n",
      "<class 'scipy.sparse.csr.csr_matrix'>\n",
      "<class 'pandas.core.series.Series'>\n"
     ]
    }
   ],
   "source": [
    "enc = OneHotEncoder(categorical_features='all', dtype='int64',\n",
    "       handle_unknown='error', n_values='auto', sparse=True)\n",
    "x = enc.fit_transform(x)\n",
    "print(x.shape)\n",
    "print(y.shape)\n",
    "print(type(x))\n",
    "print(type(y))"
   ]
  },
  {
   "cell_type": "code",
   "execution_count": 5,
   "metadata": {
    "collapsed": true
   },
   "outputs": [],
   "source": [
    "df_train = {}\n",
    "df_target = {}\n",
    "for i in range(1,46):\n",
    "    df_train[\"train{0}\".format(i)] = x[(i-1) * 100000 : i * 100000, :]\n",
    "    df_target[\"target{0}\".format(i)] = y[(i-1) * 100000 : i * 100000]"
   ]
  },
  {
   "cell_type": "code",
   "execution_count": 18,
   "metadata": {
    "scrolled": true
   },
   "outputs": [
    {
     "name": "stdout",
     "output_type": "stream",
     "text": [
      "In the run number 1 the predicted CTR was: 0.176498355981\n",
      "In the run number 2 the predicted CTR was: 0.164911603251\n",
      "In the run number 3 the predicted CTR was: 0.174256388056\n",
      "In the run number 4 the predicted CTR was: 0.169606806572\n",
      "In the run number 5 the predicted CTR was: 0.170085426231\n",
      "In the run number 6 the predicted CTR was: 0.169007244949\n",
      "In the run number 7 the predicted CTR was: 0.171525154897\n",
      "In the run number 8 the predicted CTR was: 0.163180499651\n",
      "In the run number 9 the predicted CTR was: 0.17481888114\n",
      "In the run number 10 the predicted CTR was: 0.164034880371\n",
      "In the run number 11 the predicted CTR was: 0.170932969161\n",
      "In the run number 12 the predicted CTR was: 0.177075287843\n",
      "In the run number 13 the predicted CTR was: 0.16711023368\n",
      "In the run number 14 the predicted CTR was: 0.176816910923\n",
      "In the run number 15 the predicted CTR was: 0.177130904696\n",
      "In the run number 16 the predicted CTR was: 0.165814921367\n",
      "In the run number 17 the predicted CTR was: 0.163859621037\n",
      "In the run number 18 the predicted CTR was: 0.169692898986\n",
      "In the run number 19 the predicted CTR was: 0.167857061253\n",
      "In the run number 20 the predicted CTR was: 0.166117430091\n",
      "In the run number 21 the predicted CTR was: 0.162657062416\n",
      "In the run number 22 the predicted CTR was: 0.174343205769\n",
      "In the run number 23 the predicted CTR was: 0.170583036054\n",
      "In the run number 24 the predicted CTR was: 0.166389089987\n",
      "In the run number 25 the predicted CTR was: 0.154715696563\n",
      "In the run number 26 the predicted CTR was: 0.168589354527\n",
      "In the run number 27 the predicted CTR was: 0.160342573777\n",
      "In the run number 28 the predicted CTR was: 0.165098280086\n",
      "In the run number 29 the predicted CTR was: 0.18700209724\n",
      "In the run number 30 the predicted CTR was: 0.165675359321\n",
      "In the run number 31 the predicted CTR was: 0.184770620001\n",
      "In the run number 32 the predicted CTR was: 0.166629599042\n",
      "In the run number 33 the predicted CTR was: 0.171156271047\n",
      "In the run number 34 the predicted CTR was: 0.168756072759\n",
      "In the run number 35 the predicted CTR was: 0.171358553095\n",
      "In the run number 36 the predicted CTR was: 0.173428822338\n",
      "In the run number 37 the predicted CTR was: 0.169152597017\n",
      "In the run number 38 the predicted CTR was: 0.171978803772\n",
      "In the run number 39 the predicted CTR was: 0.167955531931\n",
      "In the run number 40 the predicted CTR was: 0.166488466094\n",
      "In the run number 41 the predicted CTR was: 0.158510706662\n",
      "In the run number 42 the predicted CTR was: 0.169964561179\n",
      "In the run number 43 the predicted CTR was: 0.161030816057\n",
      "In the run number 44 the predicted CTR was: 0.170134457336\n",
      "In the run number 45 the predicted CTR was: 0.174776096456\n"
     ]
    }
   ],
   "source": [
    "results = np.zeros((45,1))\n",
    "for i in range(1,46):\n",
    "    logit.partial_fit(df_train[\"train{0}\".format(i)], df_target[\"target{0}\".format(i)],\n",
    "                      classes = np.unique(y))\n",
    "    target_predicted = logit.predict_proba(df_train['train45'])\n",
    "    print('In the run number', i, 'the predicted CTR was:', np.mean(target_predicted[:,1]))\n",
    "    results[i-1] = np.mean(target_predicted[:,1])\n",
    "#     print(np.mean(target_predicted[:,1]))\n",
    "#     print(np.sum(target_predicted[:,1] > 0.5))\n",
    "    "
   ]
  },
  {
   "cell_type": "code",
   "execution_count": 19,
   "metadata": {},
   "outputs": [
    {
     "data": {
      "image/png": "[encoded data removed]",
      "text/plain": [
       "<matplotlib.figure.Figure at 0x7f1d17eb80f0>"
      ]
     },
     "metadata": {},
     "output_type": "display_data"
    }
   ],
   "source": []
  },
  {
   "cell_type": "code",
   "execution_count": 13,
   "metadata": {
    "scrolled": true
   },
   "outputs": [
    {
     "data": {
      "image/png": "[encoded data removed]",
      "text/plain": [
       "<matplotlib.figure.Figure at 0x7f1d18a04f60>"
      ]
     },
     "metadata": {},
     "output_type": "display_data"
    }
   ],
   "source": [
    "plt.plot(results)\n",
    "plt.show()"
   ]
  },
  {
   "cell_type": "code",
   "execution_count": null,
   "metadata": {
    "collapsed": true,
    "scrolled": true
   },
   "outputs": [],
   "source": [
    "for i in range(1,8):\n",
    "    print(df_train[\"train{0}\".format(i)].shape)\n",
    "    print(i)"
   ]
  },
  {
   "cell_type": "code",
   "execution_count": null,
   "metadata": {
    "collapsed": true
   },
   "outputs": [],
   "source": [
    "x_train, x_test, y_train, y_test = train_test_split(x, y, test_size = 0.2, random_state = 1211)"
   ]
  },
  {
   "cell_type": "code",
   "execution_count": 11,
   "metadata": {
    "collapsed": true
   },
   "outputs": [],
   "source": [
    "logit = SGDClassifier(loss='log', \n",
    "                     penalty='l1', \n",
    "                     alpha=0.0001, \n",
    "                     fit_intercept=False, \n",
    "                     max_iter=100,\n",
    "                     shuffle=False,\n",
    "                     n_jobs=1,\n",
    "                     random_state=19, \n",
    "                     learning_rate='optimal', \n",
    "                     class_weight= None,\n",
    "                     warm_start = True)"
   ]
  },
  {
   "cell_type": "code",
   "execution_count": null,
   "metadata": {
    "collapsed": true
   },
   "outputs": [],
   "source": [
    "logit.partial_fit(x_train, y_train, classes = np.unique(y))\n",
    "target_predicted = logit.predict_proba(x_test)\n",
    "print(np.mean(target_predicted[:,1]))\n",
    "print(np.sum(target_predicted[:,1] > 0.5))\n"
   ]
  },
  {
   "cell_type": "code",
   "execution_count": null,
   "metadata": {
    "collapsed": true
   },
   "outputs": [],
   "source": [
    "np.mean(y_test)"
   ]
  }
 ],
 "metadata": {
  "kernelspec": {
   "display_name": "Python 3",
   "language": "python",
   "name": "python3"
  },
  "language_info": {
   "codemirror_mode": {
    "name": "ipython",
    "version": 3
   },
   "file_extension": ".py",
   "mimetype": "text/x-python",
   "name": "python",
   "nbconvert_exporter": "python",
   "pygments_lexer": "ipython3",
   "version": "3.6.3"
  }
 },
 "nbformat": 4,
 "nbformat_minor": 2
}
