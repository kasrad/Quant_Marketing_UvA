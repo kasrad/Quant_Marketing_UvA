{
 "cells": [
  {
   "cell_type": "code",
   "execution_count": 1,
   "metadata": {},
   "outputs": [],
   "source": [
    "import numpy as np"
   ]
  },
  {
   "cell_type": "code",
   "execution_count": 2,
   "metadata": {},
   "outputs": [],
   "source": [
    "y = np.random.randint(low = 0, high=2, size=(200,1))\n",
    "x1 = np.random.randint(low = 0, high=14, size=(200,1))\n",
    "x2 = np.random.randint(low = 0, high = 78, size=(200,1))\n",
    "x1_2 = np.random.randint(low = 0, high = 18, size=(200,1))\n",
    "x2_2 = np.random.randint(low = 0, high = 74, size=(200,1))"
   ]
  },
  {
   "cell_type": "code",
   "execution_count": 3,
   "metadata": {},
   "outputs": [
    {
     "name": "stderr",
     "output_type": "stream",
     "text": [
      "C:\\Users\\Radim\\Anaconda3\\lib\\site-packages\\h5py\\__init__.py:36: FutureWarning: Conversion of the second argument of issubdtype from `float` to `np.floating` is deprecated. In future, it will be treated as `np.float64 == np.dtype(float).type`.\n",
      "  from ._conv import register_converters as _register_converters\n",
      "Using TensorFlow backend.\n"
     ]
    }
   ],
   "source": [
    "from keras.datasets import mnist \n",
    "# the data, shuffled and split between train and test sets \n",
    "(X_train, y_train), (X_test, y_test) = mnist.load_data()"
   ]
  },
  {
   "cell_type": "code",
   "execution_count": 17,
   "metadata": {},
   "outputs": [
    {
     "data": {
      "text/plain": [
       "(4999, 784)"
      ]
     },
     "execution_count": 17,
     "metadata": {},
     "output_type": "execute_result"
    }
   ],
   "source": [
    "input_dim = 784 #28*28 \n",
    "X_train = X_train.reshape(60000, input_dim) \n",
    "X_test = X_test.reshape(10000, input_dim) \n",
    "X_train = X_train.astype('float32') \n",
    "X_test = X_test.astype('float32') \n",
    "X_train /= 255 \n",
    "X_test /= 255\n",
    "X_train1 = X_train[1:30000,]\n",
    "X_train2 = X_train[30000:, ]\n",
    "X_test1 = X_test[1:5000,]\n",
    "X_test2 = X_test[5000:,]\n",
    "X_test1.shape"
   ]
  },
  {
   "cell_type": "code",
   "execution_count": 18,
   "metadata": {},
   "outputs": [],
   "source": [
    "y_train1 = y_train[1:30000,]\n",
    "y_train2 = y_train[30000:, ]\n",
    "y_test1 = y_test[1:5000,]\n",
    "y_test2 = y_test[5000:,]\n"
   ]
  },
  {
   "cell_type": "code",
   "execution_count": 6,
   "metadata": {},
   "outputs": [],
   "source": [
    "from keras.utils import np_utils \n",
    "output_dim = nb_classes = 10 \n",
    "y_train1 = np_utils.to_categorical(y_train1, nb_classes) \n",
    "y_test1 = np_utils.to_categorical(y_test1, nb_classes)\n",
    "y_train2 = np_utils.to_categorical(y_train2, nb_classes) \n",
    "y_test2 = np_utils.to_categorical(y_test2, nb_classes)"
   ]
  },
  {
   "cell_type": "code",
   "execution_count": 7,
   "metadata": {},
   "outputs": [],
   "source": [
    "from keras.models import Sequential \n",
    "from keras.layers import Dense, Activation \n",
    "model = Sequential() \n",
    "model.add(Dense(output_dim, input_dim=input_dim, activation='softmax')) \n",
    "batch_size = 128 \n",
    "nb_epoch = 10"
   ]
  },
  {
   "cell_type": "code",
   "execution_count": 8,
   "metadata": {},
   "outputs": [
    {
     "name": "stderr",
     "output_type": "stream",
     "text": [
      "C:\\Users\\Radim\\Anaconda3\\lib\\site-packages\\keras\\models.py:942: UserWarning: The `nb_epoch` argument in `fit` has been renamed `epochs`.\n",
      "  warnings.warn('The `nb_epoch` argument in `fit` '\n"
     ]
    },
    {
     "name": "stdout",
     "output_type": "stream",
     "text": [
      "Train on 29999 samples, validate on 4999 samples\n",
      "Epoch 1/10\n",
      "29999/29999 [==============================] - 1s 44us/step - loss: 1.6624 - acc: 0.5514 - val_loss: 1.2626 - val_acc: 0.7257\n",
      "Epoch 2/10\n",
      "29999/29999 [==============================] - 1s 32us/step - loss: 0.9818 - acc: 0.7951 - val_loss: 0.9431 - val_acc: 0.7850\n",
      "Epoch 3/10\n",
      "29999/29999 [==============================] - 1s 34us/step - loss: 0.7729 - acc: 0.8316 - val_loss: 0.8029 - val_acc: 0.8156\n",
      "Epoch 4/10\n",
      "29999/29999 [==============================] - 1s 33us/step - loss: 0.6708 - acc: 0.8473 - val_loss: 0.7258 - val_acc: 0.8280\n",
      "Epoch 5/10\n",
      "29999/29999 [==============================] - 1s 31us/step - loss: 0.6093 - acc: 0.8558 - val_loss: 0.6732 - val_acc: 0.8366\n",
      "Epoch 6/10\n",
      "29999/29999 [==============================] - 1s 29us/step - loss: 0.5674 - acc: 0.8627 - val_loss: 0.6363 - val_acc: 0.8434\n",
      "Epoch 7/10\n",
      "29999/29999 [==============================] - 1s 28us/step - loss: 0.5366 - acc: 0.8681 - val_loss: 0.6085 - val_acc: 0.8470\n",
      "Epoch 8/10\n",
      "29999/29999 [==============================] - 1s 33us/step - loss: 0.5128 - acc: 0.8718 - val_loss: 0.5872 - val_acc: 0.8522\n",
      "Epoch 9/10\n",
      "29999/29999 [==============================] - 1s 27us/step - loss: 0.4939 - acc: 0.8752 - val_loss: 0.5695 - val_acc: 0.8534\n",
      "Epoch 10/10\n",
      "29999/29999 [==============================] - 1s 29us/step - loss: 0.4783 - acc: 0.8774 - val_loss: 0.5548 - val_acc: 0.8560\n",
      "Test score: 0.5548050416829848\n",
      "Test accuracy: 0.8559711942507711\n"
     ]
    }
   ],
   "source": [
    "model.compile(optimizer='sgd', loss='categorical_crossentropy', metrics=['accuracy']) \n",
    "history = model.fit(X_train1, y_train1, batch_size=batch_size, nb_epoch=nb_epoch,verbose=1, validation_data=(X_test1, y_test1)) \n",
    "score = model.evaluate(X_test1, y_test1, verbose=0) \n",
    "print('Test score:', score[0]) \n",
    "print('Test accuracy:', score[1])"
   ]
  },
  {
   "cell_type": "code",
   "execution_count": 9,
   "metadata": {},
   "outputs": [],
   "source": [
    "x1 = model.get_weights()"
   ]
  },
  {
   "cell_type": "code",
   "execution_count": 10,
   "metadata": {
    "scrolled": false
   },
   "outputs": [
    {
     "name": "stderr",
     "output_type": "stream",
     "text": [
      "C:\\Users\\Radim\\Anaconda3\\lib\\site-packages\\keras\\models.py:942: UserWarning: The `nb_epoch` argument in `fit` has been renamed `epochs`.\n",
      "  warnings.warn('The `nb_epoch` argument in `fit` '\n"
     ]
    },
    {
     "name": "stdout",
     "output_type": "stream",
     "text": [
      "Train on 30000 samples, validate on 5000 samples\n",
      "Epoch 1/10\n",
      "30000/30000 [==============================] - 1s 40us/step - loss: 0.4717 - acc: 0.8785 - val_loss: 0.3402 - val_acc: 0.9194\n",
      "Epoch 2/10\n",
      "30000/30000 [==============================] - 1s 37us/step - loss: 0.4598 - acc: 0.8801 - val_loss: 0.3305 - val_acc: 0.9216\n",
      "Epoch 3/10\n",
      "30000/30000 [==============================] - 1s 35us/step - loss: 0.4497 - acc: 0.8817 - val_loss: 0.3227 - val_acc: 0.9232\n",
      "Epoch 4/10\n",
      "30000/30000 [==============================] - 1s 36us/step - loss: 0.4409 - acc: 0.8835 - val_loss: 0.3156 - val_acc: 0.9238\n",
      "Epoch 5/10\n",
      "30000/30000 [==============================] - 1s 34us/step - loss: 0.4331 - acc: 0.8845 - val_loss: 0.3085 - val_acc: 0.9250\n",
      "Epoch 6/10\n",
      "30000/30000 [==============================] - 1s 34us/step - loss: 0.4261 - acc: 0.8857 - val_loss: 0.3038 - val_acc: 0.9258\n",
      "Epoch 7/10\n",
      "30000/30000 [==============================] - 1s 32us/step - loss: 0.4199 - acc: 0.8870 - val_loss: 0.2981 - val_acc: 0.9260\n",
      "Epoch 8/10\n",
      "30000/30000 [==============================] - 1s 32us/step - loss: 0.4143 - acc: 0.8884 - val_loss: 0.2940 - val_acc: 0.9268\n",
      "Epoch 9/10\n",
      "30000/30000 [==============================] - 1s 38us/step - loss: 0.4091 - acc: 0.8893 - val_loss: 0.2899 - val_acc: 0.9278\n",
      "Epoch 10/10\n",
      "30000/30000 [==============================] - 1s 38us/step - loss: 0.4043 - acc: 0.8902 - val_loss: 0.2865 - val_acc: 0.9280\n",
      "2\n",
      "Test score: 0.28651225168704986\n",
      "Test accuracy: 0.928\n"
     ]
    }
   ],
   "source": [
    "model.compile(optimizer='sgd', loss='categorical_crossentropy', metrics=['accuracy']) \n",
    "history = model.fit(X_train2, y_train2, batch_size=batch_size, nb_epoch=nb_epoch,verbose=1, validation_data=(X_test2, y_test2)) \n",
    "score = model.evaluate(X_test2, y_test2, verbose=0)\n",
    "print(len(score))\n",
    "print('Test score:', score[0]) \n",
    "print('Test accuracy:', score[1])"
   ]
  },
  {
   "cell_type": "code",
   "execution_count": 12,
   "metadata": {},
   "outputs": [],
   "source": [
    "x12 = model.get_weights()"
   ]
  },
  {
   "cell_type": "code",
   "execution_count": 13,
   "metadata": {},
   "outputs": [
    {
     "data": {
      "text/plain": [
       "array([-0.0961258 ,  0.18652019, -0.04367469, -0.0717838 ,  0.07151391,\n",
       "        0.22486849, -0.02238853,  0.14454146, -0.34212783, -0.05134398],\n",
       "      dtype=float32)"
      ]
     },
     "execution_count": 13,
     "metadata": {},
     "output_type": "execute_result"
    }
   ],
   "source": [
    "x12[1]"
   ]
  },
  {
   "cell_type": "code",
   "execution_count": 20,
   "metadata": {},
   "outputs": [],
   "source": [
    "from keras.utils import np_utils \n",
    "output_dim = nb_classes = 10 \n",
    "y_train1 = np_utils.to_categorical(y_train1, nb_classes) \n",
    "y_test1 = np_utils.to_categorical(y_test1, nb_classes)\n",
    "y_train2 = np_utils.to_categorical(y_train2, nb_classes)\n",
    "y_test2 = np_utils.to_categorical(y_test2, nb_classes)"
   ]
  },
  {
   "cell_type": "code",
   "execution_count": 21,
   "metadata": {},
   "outputs": [],
   "source": [
    "from keras.models import Sequential \n",
    "from keras.layers import Dense, Activation \n",
    "model1 = Sequential() \n",
    "model1.add(Dense(output_dim, input_dim=input_dim, activation='softmax')) \n",
    "batch_size = 128 \n",
    "nb_epoch = 10"
   ]
  },
  {
   "cell_type": "code",
   "execution_count": 22,
   "metadata": {},
   "outputs": [
    {
     "name": "stderr",
     "output_type": "stream",
     "text": [
      "C:\\Users\\Radim\\Anaconda3\\lib\\site-packages\\keras\\models.py:942: UserWarning: The `nb_epoch` argument in `fit` has been renamed `epochs`.\n",
      "  warnings.warn('The `nb_epoch` argument in `fit` '\n"
     ]
    },
    {
     "name": "stdout",
     "output_type": "stream",
     "text": [
      "Train on 30000 samples, validate on 5000 samples\n",
      "Epoch 1/10\n",
      "30000/30000 [==============================] - 1s 40us/step - loss: 2.3020 - acc: 0.1315 - val_loss: 2.3016 - val_acc: 0.1128\n",
      "Epoch 2/10\n",
      "30000/30000 [==============================] - 1s 27us/step - loss: 2.3016 - acc: 0.1106 - val_loss: 2.3012 - val_acc: 0.1128\n",
      "Epoch 3/10\n",
      "30000/30000 [==============================] - 1s 28us/step - loss: 2.3013 - acc: 0.1106 - val_loss: 2.3009 - val_acc: 0.1128\n",
      "Epoch 4/10\n",
      "30000/30000 [==============================] - 1s 27us/step - loss: 2.3011 - acc: 0.1106 - val_loss: 2.3007 - val_acc: 0.1128\n",
      "Epoch 5/10\n",
      "30000/30000 [==============================] - 1s 26us/step - loss: 2.3010 - acc: 0.1106 - val_loss: 2.3006 - val_acc: 0.1128\n",
      "Epoch 6/10\n",
      "30000/30000 [==============================] - 1s 30us/step - loss: 2.3009 - acc: 0.1106 - val_loss: 2.3005 - val_acc: 0.1128\n",
      "Epoch 7/10\n",
      "30000/30000 [==============================] - 1s 27us/step - loss: 2.3008 - acc: 0.1106 - val_loss: 2.3004 - val_acc: 0.1128\n",
      "Epoch 8/10\n",
      "30000/30000 [==============================] - 1s 30us/step - loss: 2.3007 - acc: 0.1106 - val_loss: 2.3003 - val_acc: 0.1128\n",
      "Epoch 9/10\n",
      "30000/30000 [==============================] - 1s 25us/step - loss: 2.3007 - acc: 0.1106 - val_loss: 2.3002 - val_acc: 0.1128\n",
      "Epoch 10/10\n",
      "30000/30000 [==============================] - 1s 28us/step - loss: 2.3006 - acc: 0.1106 - val_loss: 2.3002 - val_acc: 0.1128\n",
      "2\n",
      "Test score1: 0.28651225168704986\n",
      "Test accuracy1: 0.928\n"
     ]
    }
   ],
   "source": [
    "model1.compile(optimizer='sgd', loss='categorical_crossentropy', metrics=['accuracy']) \n",
    "history1 = model1.fit(X_train2, y_train2, batch_size=batch_size, nb_epoch=nb_epoch,verbose=1, validation_data=(X_test2, y_test2)) \n",
    "score1 = model1.evaluate(X_test2, y_test2, verbose=0)\n",
    "print(len(score1))\n",
    "print('Test score1:', score[0]) \n",
    "print('Test accuracy1:', score[1])"
   ]
  },
  {
   "cell_type": "code",
   "execution_count": 25,
   "metadata": {},
   "outputs": [
    {
     "name": "stdout",
     "output_type": "stream",
     "text": [
      "[-0.01197262  0.09671247  0.00264928  0.0170367  -0.02393652 -0.08856867\n",
      " -0.01701929  0.0484319  -0.00795187 -0.01538107]\n",
      "[-0.0961258   0.18652019 -0.04367469 -0.0717838   0.07151391  0.22486849\n",
      " -0.02238853  0.14454146 -0.34212783 -0.05134398]\n"
     ]
    }
   ],
   "source": [
    "x2 = model1.get_weights()\n",
    "print(x2[1])\n",
    "print(x12[1])"
   ]
  },
  {
   "cell_type": "code",
   "execution_count": 35,
   "metadata": {},
   "outputs": [
    {
     "data": {
      "text/plain": [
       "array([[0., 0., 1., ..., 0., 0., 0.],\n",
       "       [0., 1., 0., ..., 0., 0., 0.],\n",
       "       [1., 0., 0., ..., 0., 0., 0.],\n",
       "       ...,\n",
       "       [0., 0., 1., ..., 0., 0., 0.],\n",
       "       [0., 0., 0., ..., 0., 0., 0.],\n",
       "       [1., 0., 0., ..., 0., 0., 0.]])"
      ]
     },
     "execution_count": 35,
     "metadata": {},
     "output_type": "execute_result"
    }
   ],
   "source": [
    "x3 = model.predict(X_test1)\n",
    "y_test1"
   ]
  }
 ],
 "metadata": {
  "kernelspec": {
   "display_name": "Python 3",
   "language": "python",
   "name": "python3"
  },
  "language_info": {
   "codemirror_mode": {
    "name": "ipython",
    "version": 3
   },
   "file_extension": ".py",
   "mimetype": "text/x-python",
   "name": "python",
   "nbconvert_exporter": "python",
   "pygments_lexer": "ipython3",
   "version": "3.6.4"
  }
 },
 "nbformat": 4,
 "nbformat_minor": 2
}
