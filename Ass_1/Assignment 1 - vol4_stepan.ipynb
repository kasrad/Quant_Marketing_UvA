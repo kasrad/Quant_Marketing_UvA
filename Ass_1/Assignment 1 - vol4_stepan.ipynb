{
 "cells": [
  {
   "cell_type": "code",
   "execution_count": 1,
   "metadata": {},
   "outputs": [],
   "source": [
    "#load packages\n",
    "import pandas as pd\n",
    "import numpy as np\n",
    "from sklearn.linear_model import LogisticRegression\n",
    "from sklearn.linear_model import SGDClassifier\n",
    "from sklearn.preprocessing import LabelEncoder\n",
    "import matplotlib.pyplot as plt\n",
    "import seaborn as sns\n",
    "from sklearn.preprocessing import OneHotEncoder\n",
    "from sklearn.metrics import log_loss"
   ]
  },
  {
   "cell_type": "code",
   "execution_count": 2,
   "metadata": {},
   "outputs": [],
   "source": [
    "#function for cleaning the data\n",
    "def data_prep(data):\n",
    "    data.columns = ['id', 'click', 'hour', 'C1', 'banner_pos', 'site_id', 'site_domain',\n",
    "                    'site_category', 'app_id', 'app_domain', 'app_category', 'device_id',\n",
    "                    'device_ip', 'device_model', 'device_type', 'device_conn_type', 'C14',\n",
    "                    'C15', 'C16', 'C17', 'C18', 'C19', 'C20', 'C21']\n",
    "    data = data.drop('id', axis=1)\n",
    "    data = data.drop('C1', axis = 1)\n",
    "    data = data.drop('C14', axis = 1)\n",
    "    str(data['hour'][4])[-2:]\n",
    "    hours = [str(i)[-2:] for i in data['hour']]\n",
    "    data['hours_clean'] = hours\n",
    "    data = data.drop('hour', axis = 1)\n",
    "    for i in range(1,data.shape[1]):\n",
    "        le = LabelEncoder()\n",
    "        le.fit(data.iloc[:, i].unique())\n",
    "        data.iloc[:, i] = le.transform(data.iloc[:, i])\n",
    "    return(data.drop('click', axis = 1), data['click'])"
   ]
  },
  {
   "cell_type": "code",
   "execution_count": 3,
   "metadata": {
    "scrolled": true
   },
   "outputs": [],
   "source": [
    "#read the data and process them\n",
    "data1 = pd.read_csv('trainshuf.csv', nrows = 4.5 * 10 ** 6)\n",
    "x, y = data_prep(data1)\n",
    "del data1"
   ]
  },
  {
   "cell_type": "code",
   "execution_count": 4,
   "metadata": {},
   "outputs": [
    {
     "name": "stdout",
     "output_type": "stream",
     "text": [
      "(4500000, 2339997)\n",
      "(4500000,)\n",
      "<class 'scipy.sparse.csr.csr_matrix'>\n",
      "<class 'pandas.core.series.Series'>\n"
     ]
    }
   ],
   "source": [
    "#one hot encoding, check the outputs\n",
    "enc = OneHotEncoder(categorical_features='all', dtype='int64',\n",
    "       handle_unknown='error', n_values='auto', sparse=True)\n",
    "x = enc.fit_transform(x)\n",
    "print(x.shape)\n",
    "print(y.shape)\n",
    "print(type(x))\n",
    "print(type(y))"
   ]
  },
  {
   "cell_type": "code",
   "execution_count": 5,
   "metadata": {},
   "outputs": [],
   "source": [
    "#dictionaries for splitting the dataset into chunks\n",
    "df_train = {}\n",
    "df_target = {}\n",
    "for i in range(1,46):\n",
    "    df_train[\"train{0}\".format(i)] = x[(i-1) * 100000 : i * 100000, :]\n",
    "    df_target[\"target{0}\".format(i)] = y[(i-1) * 100000 : i * 100000]"
   ]
  },
  {
   "cell_type": "code",
   "execution_count": 11,
   "metadata": {},
   "outputs": [
    {
     "name": "stdout",
     "output_type": "stream",
     "text": [
      "0\n",
      "1\n",
      "2\n",
      "3\n",
      "4\n",
      "5\n"
     ]
    }
   ],
   "source": [
    "# %%timeit -r 5\n",
    "#model itself\n",
    "logit = SGDClassifier(loss='log',\n",
    "                    penalty='l1',\n",
    "                    alpha=0.0001,\n",
    "                    fit_intercept=False,\n",
    "                    max_iter=100,\n",
    "                    shuffle=False,\n",
    "                    n_jobs=1,\n",
    "                    random_state=19,\n",
    "                    learning_rate='optimal',\n",
    "                    class_weight= None,\n",
    "                    warm_start = True)\n",
    "#fit the model\n",
    "results = np.zeros((45*6,2))\n",
    "for j in range(6):\n",
    "   for i in range(1,46):\n",
    "       g = np.random.randint(low = 1, high = 45)\n",
    "       logit.partial_fit(df_train[\"train{0}\".format(g)], df_target[\"target{0}\".format(g)],\n",
    "                         classes = np.unique(y))\n",
    "       target_predicted = logit.predict_proba(df_train['train45'])\n",
    "       results[i-1 + j*45, :] = [np.mean(target_predicted[:,1]), \\\n",
    "                                 log_loss(df_target[\"target{0}\".format(g)] \\\n",
    "                                         , target_predicted[:, 1])]\n",
    "   print(j)\n",
    "\n",
    "order = np.reshape(np.arange(1,271,1),(270,1))\n",
    "plot_df = np.hstack((results, order))"
   ]
  },
  {
   "cell_type": "code",
   "execution_count": 17,
   "metadata": {},
   "outputs": [
    {
     "name": "stdout",
     "output_type": "stream",
     "text": [
      "0\n",
      "1\n",
      "2\n",
      "3\n",
      "4\n",
      "5\n"
     ]
    }
   ],
   "source": [
    "# %%timeit -r 5\n",
    "#model itself\n",
    "logit = SGDClassifier(loss='log', \n",
    "                     penalty='l1', \n",
    "                     alpha=0.0001, \n",
    "                     fit_intercept=False, \n",
    "                     max_iter=100,\n",
    "                     shuffle=False,\n",
    "                     n_jobs=1,\n",
    "                     random_state=19, \n",
    "                     learning_rate='optimal', \n",
    "                     class_weight= None,\n",
    "                     warm_start = True)\n",
    "#fit the model\n",
    "results = np.zeros((45*6,2))\n",
    "for j in range(6):\n",
    "    for i in range(1,46):\n",
    "        g = np.random.randint(low = 1, high = 45)\n",
    "        logit.partial_fit(df_train[\"train{0}\".format(g)], df_target[\"target{0}\".format(g)],\n",
    "                          classes = np.unique(y))\n",
    "        target_predicted = logit.predict_proba(df_train['train45'])\n",
    "        results[i-1 + j*45, :] = [np.mean(target_predicted[:,1]), \\\n",
    "                                  (np.mean(df_target[\"target{0}\".format(g)]) \\\n",
    "                                          - np.mean(target_predicted[:, 1])) ** 2]\n",
    "    print(j)\n",
    "    \n",
    "order = np.reshape(np.arange(1,271,1),(270,1))\n",
    "plot_df = np.hstack((results, order))\n",
    "\n",
    "    "
   ]
  },
  {
   "cell_type": "code",
   "execution_count": 16,
   "metadata": {
    "scrolled": false
   },
   "outputs": [
    {
     "data": {
      "image/png": "[encoded data removed]",
      "text/plain": [
       "<matplotlib.figure.Figure at 0x2c074dd9860>"
      ]
     },
     "metadata": {},
     "output_type": "display_data"
    }
   ],
   "source": [
    "#plot the results\n",
    "plt.plot(plot_df[:46, 2], plot_df[:46, 1], c = 'blue')\n",
    "plt.plot(plot_df[45:91, 2], plot_df[45:91, 1], c = 'green')\n",
    "plt.plot(plot_df[90:136, 2], plot_df[90:136, 1], c = 'lightgreen')\n",
    "plt.plot(plot_df[135:181, 2], plot_df[135:181, 1], c = 'lightblue')\n",
    "plt.plot(plot_df[180:236, 2], plot_df[180:236, 1], c = 'red')\n",
    "plt.plot(plot_df[235:, 2], plot_df[235:, 1], c = 'orange')\n",
    "plt.title('CTR predicted via logit model')\n",
    "plt.xlabel('iteration')\n",
    "plt.ylabel('CTR')\n",
    "# plt.savefig('logitCTR.png', dpi = 1000)\n",
    "plt.show()"
   ]
  },
  {
   "cell_type": "code",
   "execution_count": 19,
   "metadata": {},
   "outputs": [
    {
     "data": {
      "image/png": "[encoded data removed]",
      "text/plain": [
       "<matplotlib.figure.Figure at 0x26bcf56dba8>"
      ]
     },
     "metadata": {},
     "output_type": "display_data"
    }
   ],
   "source": [
    "#plot the results\n",
    "plt.plot(plot_df[:46, 2], plot_df[:46, 1], c = 'blue')\n",
    "plt.plot(plot_df[45:91, 2], plot_df[45:91, 1], c = 'green')\n",
    "plt.plot(plot_df[90:136, 2], plot_df[90:136, 1], c = 'lightgreen')\n",
    "plt.plot(plot_df[135:181, 2], plot_df[135:181, 1], c = 'lightblue')\n",
    "plt.plot(plot_df[180:236, 2], plot_df[180:236, 1], c = 'red')\n",
    "plt.plot(plot_df[235:, 2], plot_df[235:, 1], c = 'orange')\n",
    "plt.title('SSR of logit model')\n",
    "plt.xlabel('iteration')\n",
    "plt.ylabel('SSR')\n",
    "# plt.savefig('logitCTR.png', dpi = 1000)\n",
    "plt.show()"
   ]
  },
  {
   "cell_type": "code",
   "execution_count": 38,
   "metadata": {},
   "outputs": [],
   "source": [
    "pd.DataFrame(plot_df[:, 1]).to_csv(path_or_buf='logit_pred.csv', index=False)"
   ]
  }
 ],
 "metadata": {
  "kernelspec": {
   "display_name": "Python 3",
   "language": "python",
   "name": "python3"
  },
  "language_info": {
   "codemirror_mode": {
    "name": "ipython",
    "version": 3
   },
   "file_extension": ".py",
   "mimetype": "text/x-python",
   "name": "python",
   "nbconvert_exporter": "python",
   "pygments_lexer": "ipython3",
   "version": "3.6.4"
  }
 },
 "nbformat": 4,
 "nbformat_minor": 2
}
