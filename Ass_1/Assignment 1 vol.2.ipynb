{
 "cells": [
  {
   "cell_type": "code",
   "execution_count": 2,
   "metadata": {},
   "outputs": [],
   "source": [
    "import pandas as pd\n",
    "import numpy as np\n",
    "from sklearn.linear_model import LogisticRegression\n",
    "from sklearn.linear_model import SGDClassifier\n",
    "from sklearn.preprocessing import LabelEncoder\n",
    "from sklearn.preprocessing import StandardScaler\n",
    "from sklearn.model_selection import train_test_split\n",
    "import matplotlib.pyplot as plt\n",
    "import seaborn as sns"
   ]
  },
  {
   "cell_type": "code",
   "execution_count": 3,
   "metadata": {},
   "outputs": [],
   "source": [
    "data = pd.read_csv('trainshuf.csv', nrows = 100000)\n",
    "data.columns = ['id', 'click', 'hour', 'C1', 'banner_pos', 'site_id', 'site_domain', 'site_category', \n",
    "'app_id', 'app_domain', 'app_category', 'device_id', 'device_ip', 'device_model', 'device_type', \n",
    "'device_conn_type', 'C14', 'C15', 'C16', 'C17', 'C18', 'C19', 'C20', 'C21']"
   ]
  },
  {
   "cell_type": "code",
   "execution_count": null,
   "metadata": {
    "scrolled": true
   },
   "outputs": [],
   "source": [
    "data.dtypes"
   ]
  },
  {
   "cell_type": "code",
   "execution_count": 4,
   "metadata": {
    "scrolled": false
   },
   "outputs": [
    {
     "name": "stdout",
     "output_type": "stream",
     "text": [
      "0    14102107\n",
      "1    14102608\n",
      "2    14102603\n",
      "3    14102410\n",
      "4    14102913\n",
      "Name: hour, dtype: int64\n",
      "0    07\n",
      "1    08\n",
      "2    03\n",
      "3    10\n",
      "4    13\n",
      "Name: hours_clean, dtype: object\n"
     ]
    }
   ],
   "source": [
    "data = data.drop('id', axis=1)\n",
    "data = data.drop('C1', axis = 1)\n",
    "data = data.drop('C14', axis = 1)\n",
    "str(data['hour'][4])[-2:]\n",
    "hours = [str(i)[-2:] for i in data['hour']]\n",
    "data['hours_clean'] = hours\n",
    "print(data['hour'][:5])\n",
    "print(data['hours_clean'][:5])\n",
    "data = data.drop('hour', axis = 1)"
   ]
  },
  {
   "cell_type": "code",
   "execution_count": 19,
   "metadata": {},
   "outputs": [
    {
     "data": {
      "text/plain": [
       "click               int64\n",
       "banner_pos          int64\n",
       "site_id             int64\n",
       "site_domain         int64\n",
       "site_category       int64\n",
       "app_id              int64\n",
       "app_domain          int64\n",
       "app_category        int64\n",
       "device_id           int64\n",
       "device_ip           int64\n",
       "device_model        int64\n",
       "device_type         int64\n",
       "device_conn_type    int64\n",
       "C15                 int64\n",
       "C16                 int64\n",
       "C17                 int64\n",
       "C18                 int64\n",
       "C19                 int64\n",
       "C20                 int64\n",
       "C21                 int64\n",
       "hours_clean         int64\n",
       "dtype: object"
      ]
     },
     "execution_count": 19,
     "metadata": {},
     "output_type": "execute_result"
    }
   ],
   "source": [
    "data.dtypes"
   ]
  },
  {
   "cell_type": "code",
   "execution_count": 24,
   "metadata": {},
   "outputs": [],
   "source": [
    "from sklearn.preprocessing import OneHotEncoder\n",
    "enc = OneHotEncoder(categorical_features='all', dtype='int64',\n",
    "       handle_unknown='error', n_values='auto', sparse=True)\n",
    "x = enc.fit_transform(data)"
   ]
  },
  {
   "cell_type": "code",
   "execution_count": 27,
   "metadata": {},
   "outputs": [
    {
     "data": {
      "text/plain": [
       "scipy.sparse.csr.csr_matrix"
      ]
     },
     "execution_count": 27,
     "metadata": {},
     "output_type": "execute_result"
    }
   ],
   "source": []
  },
  {
   "cell_type": "code",
   "execution_count": null,
   "metadata": {},
   "outputs": [],
   "source": [
    "corr = data.corr()\n",
    "sns.heatmap(corr, \n",
    "            xticklabels=corr.columns.values,\n",
    "            yticklabels=corr.columns.values)"
   ]
  },
  {
   "cell_type": "code",
   "execution_count": 18,
   "metadata": {},
   "outputs": [],
   "source": [
    "for i in range(1,data.shape[1]):\n",
    "        le = LabelEncoder()\n",
    "        le.fit(data.iloc[:, i].unique())\n",
    "        data.iloc[:, i] = le.transform(data.iloc[:, i])"
   ]
  },
  {
   "cell_type": "code",
   "execution_count": null,
   "metadata": {
    "scrolled": true
   },
   "outputs": [],
   "source": [
    "X_train, X_test = train_test_split(data, test_size = 0.2, random_state = 1211)\n",
    "print(X_train.head())\n",
    "sc = StandardScaler()\n",
    "# X_train = sc.fit_transform(X_train)\n",
    "# X_test = sc.transform(X_test)\n",
    "# X_train = pd.DataFrame(X_train)\n",
    "# X_test = pd.DataFrame(X_test)\n",
    "print(X_train.head())\n"
   ]
  },
  {
   "cell_type": "code",
   "execution_count": 37,
   "metadata": {},
   "outputs": [],
   "source": [
    "logit = SGDClassifier(loss='log', \n",
    "                     penalty='l1', \n",
    "                     alpha=0.2, \n",
    "                     fit_intercept=False, \n",
    "                     max_iter=100,\n",
    "                     shuffle=False,\n",
    "                     n_jobs=1,\n",
    "                     random_state=19, \n",
    "                     learning_rate='optimal', \n",
    "                     class_weight='balanced',\n",
    "                     warm_start = True)"
   ]
  },
  {
   "cell_type": "code",
   "execution_count": 39,
   "metadata": {},
   "outputs": [
    {
     "name": "stdout",
     "output_type": "stream",
     "text": [
      "       click  banner_pos  site_id  site_domain  site_category  app_id  \\\n",
      "39581      0           0      753         1056              5     368   \n",
      "23113      0           1     1281          688             15    1210   \n",
      "71091      0           1     1281          688             15    1210   \n",
      "89084      1           1     1281          688             15    1210   \n",
      "948        0           0      753         1056              5     530   \n",
      "\n",
      "       app_domain  app_category  device_id  device_ip     ...       \\\n",
      "39581          12             3      11041      11181     ...        \n",
      "23113          43             0      11041      75002     ...        \n",
      "71091          43             0      11041      24840     ...        \n",
      "89084          43             0      11041      64012     ...        \n",
      "948            12            12        898      60246     ...        \n",
      "\n",
      "       device_type  device_conn_type  C15  C16  C17  C18  C19  C20  C21  \\\n",
      "39581            1                 0    3    2  203    0    2    0   41   \n",
      "23113            1                 0    3    2   43    2   12   80    9   \n",
      "71091            1                 0    3    2    6    2    4  100    7   \n",
      "89084            1                 0    3    2  314    2    2  100    6   \n",
      "948              1                 2    3    2   50    0    2    0   22   \n",
      "\n",
      "       hours_clean  \n",
      "39581            8  \n",
      "23113            2  \n",
      "71091            8  \n",
      "89084           11  \n",
      "948              6  \n",
      "\n",
      "[5 rows x 21 columns]\n"
     ]
    },
    {
     "data": {
      "text/plain": [
       "0.0044441664578315975"
      ]
     },
     "execution_count": 39,
     "metadata": {},
     "output_type": "execute_result"
    }
   ],
   "source": [
    "logit.fit(X_train.iloc[:,1:], X_train.iloc[:,0])\n",
    "x = logit.predict_proba(X_test.iloc[:,1:])\n",
    "print(X_test.head())\n",
    "np.mean(x[:,0])\n"
   ]
  },
  {
   "cell_type": "code",
   "execution_count": null,
   "metadata": {},
   "outputs": [],
   "source": [
    "logit.fit(X_train.drop(['id','click'], axis = 1), X_train['click'])\n",
    "x = logit.predict_proba(X_test.drop(['id','click'], axis = 1))\n",
    "print(x.shape)\n",
    "print(np.mean(x))\n",
    "print(np.mean(x[:,1]))\n",
    "print(x)"
   ]
  }
 ],
 "metadata": {
  "kernelspec": {
   "display_name": "Python 3",
   "language": "python",
   "name": "python3"
  },
  "language_info": {
   "codemirror_mode": {
    "name": "ipython",
    "version": 3
   },
   "file_extension": ".py",
   "mimetype": "text/x-python",
   "name": "python",
   "nbconvert_exporter": "python",
   "pygments_lexer": "ipython3",
   "version": "3.6.4"
  }
 },
 "nbformat": 4,
 "nbformat_minor": 2
}
